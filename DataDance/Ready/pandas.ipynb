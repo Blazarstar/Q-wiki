{
 "cells": [
  {
   "cell_type": "markdown",
   "id": "24733582",
   "metadata": {},
   "source": [
    "## Pandas基础 01\n"
   ]
  },
  {
   "cell_type": "code",
   "execution_count": 2,
   "id": "8eccd221",
   "metadata": {},
   "outputs": [],
   "source": [
    "import warnings"
   ]
  },
  {
   "cell_type": "code",
   "execution_count": 3,
   "id": "11a0d456",
   "metadata": {},
   "outputs": [],
   "source": [
    "warnings.filterwarnings(\"ignore\")"
   ]
  },
  {
   "cell_type": "code",
   "execution_count": 1,
   "id": "138e351c",
   "metadata": {},
   "outputs": [],
   "source": [
    "import numpy as np\n",
    "import pandas as pd"
   ]
  },
  {
   "cell_type": "markdown",
   "id": "5be1ba92-2c91-43c1-8b4d-785151fc44c4",
   "metadata": {},
   "source": [
    "### 01 数据结构 Series"
   ]
  },
  {
   "cell_type": "markdown",
   "id": "7f3a092e",
   "metadata": {},
   "source": [
    "Series 是带有标签的一维数组，可以保存任何数据类型（整数，字符串，浮点数，Python对象等）,轴标签统称为索引"
   ]
  },
  {
   "cell_type": "code",
   "execution_count": 7,
   "id": "ab1c31ea",
   "metadata": {},
   "outputs": [],
   "source": [
    "s = pd.Series(np.random.rand(5))"
   ]
  },
  {
   "cell_type": "code",
   "execution_count": 9,
   "id": "b283b3c1",
   "metadata": {},
   "outputs": [
    {
     "name": "stdout",
     "output_type": "stream",
     "text": [
      "0    0.314839\n",
      "1    0.952569\n",
      "2    0.767409\n",
      "3    0.581640\n",
      "4    0.643048\n",
      "dtype: float64\n"
     ]
    }
   ],
   "source": [
    "print(s)"
   ]
  },
  {
   "cell_type": "code",
   "execution_count": 12,
   "id": "bafc96b4",
   "metadata": {},
   "outputs": [
    {
     "name": "stdout",
     "output_type": "stream",
     "text": [
      "<class 'pandas.core.series.Series'>\n"
     ]
    }
   ],
   "source": [
    "print(type(s))"
   ]
  },
  {
   "cell_type": "code",
   "execution_count": 14,
   "id": "fa777a1c",
   "metadata": {},
   "outputs": [
    {
     "name": "stdout",
     "output_type": "stream",
     "text": [
      "RangeIndex(start=0, stop=5, step=1) <class 'pandas.core.indexes.range.RangeIndex'>\n"
     ]
    }
   ],
   "source": [
    "print(s.index,type(s.index))"
   ]
  },
  {
   "cell_type": "code",
   "execution_count": 16,
   "id": "d1361ed2",
   "metadata": {},
   "outputs": [
    {
     "name": "stdout",
     "output_type": "stream",
     "text": [
      "[0.31483888 0.95256939 0.76740901 0.58163991 0.64304793] <class 'numpy.ndarray'>\n"
     ]
    }
   ],
   "source": [
    "print(s.values,type(s.values))"
   ]
  },
  {
   "cell_type": "markdown",
   "id": "a843852a",
   "metadata": {},
   "source": [
    "【**笔记**】\n",
    "\n",
    "+ series相比于ndarray，是一个自带索引index的数组 → 一维数组 + 对应索引\n",
    "+ 所以当只看series的值的时候，就是一个ndarray\n",
    "+ series和ndarray较相似，索引切片功能差别不大\n",
    "+ series和dict相比，series更像一个有顺序的字典（dict本身不存在顺序），其索引原理与字典相似（一个用key，一个用index）"
   ]
  },
  {
   "cell_type": "markdown",
   "id": "602cb87d",
   "metadata": {},
   "source": [
    "#### Series的创建"
   ]
  },
  {
   "cell_type": "markdown",
   "id": "b386261f",
   "metadata": {},
   "source": [
    "method1 :字典创建，字典中的内容与其对应 key->index  value->value"
   ]
  },
  {
   "cell_type": "code",
   "execution_count": 18,
   "id": "68451210",
   "metadata": {},
   "outputs": [
    {
     "name": "stdout",
     "output_type": "stream",
     "text": [
      "a    1\n",
      "b    2\n",
      "c    3\n",
      "dtype: int64\n"
     ]
    }
   ],
   "source": [
    "dic = {'a':1 ,'b':2,'c':3}\n",
    "s = pd.Series(dic)\n",
    "print(s)"
   ]
  },
  {
   "cell_type": "code",
   "execution_count": 19,
   "id": "9339eb8d",
   "metadata": {},
   "outputs": [
    {
     "name": "stdout",
     "output_type": "stream",
     "text": [
      "a        1\n",
      "b    hello\n",
      "c        3\n",
      "4        4\n",
      "5        5\n",
      "dtype: object\n"
     ]
    }
   ],
   "source": [
    "dic2 = {'a':1 ,'b':'hello' , 'c':3, '4':4, '5':5}\n",
    "ss = pd.Series(dic2)\n",
    "print(ss)"
   ]
  },
  {
   "cell_type": "markdown",
   "id": "c481a98c",
   "metadata": {},
   "source": [
    "method2: 一维数组创建"
   ]
  },
  {
   "cell_type": "code",
   "execution_count": 20,
   "id": "175d9d35",
   "metadata": {},
   "outputs": [
    {
     "name": "stdout",
     "output_type": "stream",
     "text": [
      "[ 2.67729885  0.9331024   1.51171995 -2.34931528  0.74816148]\n"
     ]
    }
   ],
   "source": [
    "arr = np.random.randn(5)\n",
    "s = pd.Series(arr)"
   ]
  },
  {
   "cell_type": "code",
   "execution_count": 21,
   "id": "72ce3d3d",
   "metadata": {},
   "outputs": [
    {
     "name": "stdout",
     "output_type": "stream",
     "text": [
      "[ 2.67729885  0.9331024   1.51171995 -2.34931528  0.74816148]\n"
     ]
    }
   ],
   "source": [
    "print(arr)"
   ]
  },
  {
   "cell_type": "code",
   "execution_count": 22,
   "id": "88b348df",
   "metadata": {},
   "outputs": [
    {
     "name": "stdout",
     "output_type": "stream",
     "text": [
      "0    2.677299\n",
      "1    0.933102\n",
      "2    1.511720\n",
      "3   -2.349315\n",
      "4    0.748161\n",
      "dtype: float64\n"
     ]
    }
   ],
   "source": [
    "print(s)"
   ]
  },
  {
   "cell_type": "markdown",
   "id": "ec28fd5f",
   "metadata": {},
   "source": [
    "method3：由标量创建"
   ]
  },
  {
   "cell_type": "code",
   "execution_count": 23,
   "id": "945a23ed",
   "metadata": {},
   "outputs": [],
   "source": [
    "s = pd.Series(10,index = range(4))"
   ]
  },
  {
   "cell_type": "code",
   "execution_count": 24,
   "id": "d701632d",
   "metadata": {},
   "outputs": [
    {
     "name": "stdout",
     "output_type": "stream",
     "text": [
      "0    10\n",
      "1    10\n",
      "2    10\n",
      "3    10\n",
      "dtype: int64\n"
     ]
    }
   ],
   "source": [
    "print(s)"
   ]
  },
  {
   "cell_type": "code",
   "execution_count": 26,
   "id": "b10539e7",
   "metadata": {},
   "outputs": [],
   "source": [
    "s1 = pd.Series(np.random.randn(5))"
   ]
  },
  {
   "cell_type": "code",
   "execution_count": 28,
   "id": "0c35ee1b",
   "metadata": {},
   "outputs": [
    {
     "name": "stdout",
     "output_type": "stream",
     "text": [
      "0   -0.525796\n",
      "1   -0.404097\n",
      "2   -1.374942\n",
      "3    1.151221\n",
      "4   -0.984049\n",
      "dtype: float64\n"
     ]
    }
   ],
   "source": [
    "print(s1)"
   ]
  },
  {
   "cell_type": "code",
   "execution_count": 31,
   "id": "3c0895a9",
   "metadata": {},
   "outputs": [],
   "source": [
    "s2 = pd.Series(np.random.randn(5),name = 'test')"
   ]
  },
  {
   "cell_type": "code",
   "execution_count": 32,
   "id": "f11b91c2",
   "metadata": {},
   "outputs": [
    {
     "name": "stdout",
     "output_type": "stream",
     "text": [
      "0   -0.662761\n",
      "1   -0.452724\n",
      "2    1.841427\n",
      "3    0.465002\n",
      "4   -1.201470\n",
      "Name: test, dtype: float64\n"
     ]
    }
   ],
   "source": [
    "print(s2)"
   ]
  },
  {
   "cell_type": "markdown",
   "id": "ba28528d",
   "metadata": {},
   "source": [
    "对比s1和s2，name为Series的一个参数，即创建一个数组的名称。\n"
   ]
  },
  {
   "cell_type": "markdown",
   "id": "0da0cbd5",
   "metadata": {},
   "source": [
    "#### Series的索引"
   ]
  },
  {
   "cell_type": "markdown",
   "id": "036209cf",
   "metadata": {},
   "source": [
    "实际就是数据结构Series的索引，包括位置下标/标签索引/切片索引/布尔型索引"
   ]
  },
  {
   "cell_type": "code",
   "execution_count": 34,
   "id": "142d4591",
   "metadata": {},
   "outputs": [
    {
     "name": "stdout",
     "output_type": "stream",
     "text": [
      "0    0.455100\n",
      "1    0.264361\n",
      "2    0.830603\n",
      "3    0.250908\n",
      "4    0.303198\n",
      "dtype: float64\n",
      "0.45510026145066396 <class 'numpy.float64'> float64\n",
      "0.45510026145066396 <class 'float'>\n"
     ]
    }
   ],
   "source": [
    "# 位置下标\n",
    "\n",
    "s = pd.Series(np.random.rand(5))\n",
    "print(s)\n",
    "print(s[0],type(s[0]),s[0].dtype)\n",
    "print(float(s[0]),type(float(s[0])))"
   ]
  },
  {
   "cell_type": "code",
   "execution_count": 4,
   "id": "79c1fa4e",
   "metadata": {},
   "outputs": [
    {
     "name": "stdout",
     "output_type": "stream",
     "text": [
      "a    0.092309\n",
      "b    0.895398\n",
      "c    0.034547\n",
      "d    0.205735\n",
      "e    0.725185\n",
      "dtype: float64\n",
      "0.09230915189898226 <class 'numpy.float64'> float64\n",
      "a    0.092309\n",
      "b    0.895398\n",
      "e    0.725185\n",
      "dtype: float64 <class 'pandas.core.series.Series'>\n"
     ]
    }
   ],
   "source": [
    "# 标签索引\n",
    "\n",
    "s = pd.Series(np.random.rand(5), index = ['a','b','c','d','e'])\n",
    "print(s)\n",
    "print(s['a'],type(s['a']),s['a'].dtype)\n",
    "# 方法类似下标索引，用[]表示，内写上index，注意index是字符串\n",
    "\n",
    "sci = s[['a','b','e']]\n",
    "print(sci,type(sci))\n",
    "# 如果需要选择多个标签的值，用[[]]来表示（相当于[]中包含一个列表）\n",
    "# 多标签索引结果是新的数组"
   ]
  },
  {
   "cell_type": "code",
   "execution_count": 11,
   "id": "3c19fc97",
   "metadata": {},
   "outputs": [
    {
     "name": "stdout",
     "output_type": "stream",
     "text": [
      "1    0.889591\n",
      "2    0.203752\n",
      "3    0.661439\n",
      "dtype: float64\n"
     ]
    }
   ],
   "source": [
    "# 切片索引\n",
    "\n",
    "s1 = pd.Series(np.random.rand(5))\n",
    "s2 = pd.Series(np.random.rand(5), index = ['a','b','c','d','e'])\n",
    "print(s1[1:4])"
   ]
  },
  {
   "cell_type": "code",
   "execution_count": 12,
   "id": "763989d8",
   "metadata": {},
   "outputs": [
    {
     "name": "stdout",
     "output_type": "stream",
     "text": [
      "1    0.491673\n",
      "2    0.671560\n",
      "3    0.215403\n",
      "dtype: float64 0.9809169069537103\n"
     ]
    }
   ],
   "source": [
    "s1 = pd.Series(np.random.rand(5))\n",
    "s2 = pd.Series(np.random.rand(5), index = ['a','b','c','d','e'])\n",
    "print(s1[1:4],s1[4])"
   ]
  },
  {
   "cell_type": "code",
   "execution_count": 13,
   "id": "945209fc",
   "metadata": {},
   "outputs": [],
   "source": [
    "# 注意那个末端"
   ]
  },
  {
   "cell_type": "code",
   "execution_count": 8,
   "id": "f67171a3",
   "metadata": {},
   "outputs": [
    {
     "name": "stdout",
     "output_type": "stream",
     "text": [
      "a    0.272013\n",
      "b    0.939355\n",
      "c    0.517336\n",
      "dtype: float64 0.5173364800417259\n"
     ]
    }
   ],
   "source": [
    "print(s2['a':'c'],s2['c'])"
   ]
  },
  {
   "cell_type": "code",
   "execution_count": 9,
   "id": "ad8b1719",
   "metadata": {},
   "outputs": [
    {
     "name": "stdout",
     "output_type": "stream",
     "text": [
      "a    0.272013\n",
      "b    0.939355\n",
      "c    0.517336\n",
      "dtype: float64 0.11326109254905448\n"
     ]
    }
   ],
   "source": [
    "print(s2[0:3],s2[3])\n",
    "# 注意：用index做切片是末端包含"
   ]
  },
  {
   "cell_type": "code",
   "execution_count": 10,
   "id": "70b6458d",
   "metadata": {},
   "outputs": [
    {
     "name": "stdout",
     "output_type": "stream",
     "text": [
      "a    0.272013\n",
      "b    0.939355\n",
      "c    0.517336\n",
      "d    0.113261\n",
      "dtype: float64\n",
      "a    0.272013\n",
      "c    0.517336\n",
      "e    0.669565\n",
      "dtype: float64\n"
     ]
    }
   ],
   "source": [
    "print(s2[:-1])\n",
    "print(s2[::2])\n",
    "# 下标索引做切片，和list写法一样"
   ]
  },
  {
   "cell_type": "code",
   "execution_count": 16,
   "id": "6f4baf20",
   "metadata": {},
   "outputs": [
    {
     "name": "stdout",
     "output_type": "stream",
     "text": [
      "0    40.714665\n",
      "1     73.09234\n",
      "2    61.494283\n",
      "4         None\n",
      "dtype: object\n"
     ]
    }
   ],
   "source": [
    "# 布尔型索引\n",
    "\n",
    "s = pd.Series(np.random.rand(3)*100)\n",
    "s[4] = None  # 添加一个空值\n",
    "print(s)\n",
    "bs1 = s > 50\n",
    "bs2 = s.isnull()\n",
    "bs3 = s.notnull()\n"
   ]
  },
  {
   "cell_type": "code",
   "execution_count": 17,
   "id": "09657914",
   "metadata": {},
   "outputs": [
    {
     "name": "stdout",
     "output_type": "stream",
     "text": [
      "0    False\n",
      "1     True\n",
      "2     True\n",
      "4    False\n",
      "dtype: bool <class 'pandas.core.series.Series'> bool\n",
      "0    False\n",
      "1    False\n",
      "2    False\n",
      "4     True\n",
      "dtype: bool <class 'pandas.core.series.Series'> bool\n",
      "0     True\n",
      "1     True\n",
      "2     True\n",
      "4    False\n",
      "dtype: bool <class 'pandas.core.series.Series'> bool\n",
      "-----\n",
      "1     73.09234\n",
      "2    61.494283\n",
      "dtype: object\n",
      "0    40.714665\n",
      "1     73.09234\n",
      "2    61.494283\n",
      "dtype: object\n"
     ]
    }
   ],
   "source": [
    "print(bs1, type(bs1), bs1.dtype)\n",
    "print(bs2, type(bs2), bs2.dtype)\n",
    "print(bs3, type(bs3), bs3.dtype)\n",
    "print('-----')\n",
    "# 数组做判断之后，返回的是一个由布尔值组成的新的数组\n",
    "# .isnull() / .notnull() 判断是否为空值 (None代表空值，NaN代表有问题的数值，两个都会识别为空值)\n",
    "\n",
    "print(s[s > 50])\n",
    "print(s[bs3])\n",
    "# 布尔型索引方法：用[判断条件]表示，其中判断条件可以是 一个语句，或者是 一个布尔型数组！"
   ]
  },
  {
   "cell_type": "markdown",
   "id": "944e647c",
   "metadata": {},
   "source": [
    "#### Series基本技巧"
   ]
  },
  {
   "cell_type": "markdown",
   "id": "22a0de17",
   "metadata": {},
   "source": [
    "数据查看 / 重新索引 / 对齐 / 添加、修改、删除值"
   ]
  },
  {
   "cell_type": "code",
   "execution_count": 19,
   "id": "f74c7e98",
   "metadata": {},
   "outputs": [
    {
     "name": "stdout",
     "output_type": "stream",
     "text": [
      "0    0.116239\n",
      "1    0.499781\n",
      "2    0.233781\n",
      "3    0.670263\n",
      "4    0.187421\n",
      "5    0.219444\n",
      "6    0.001195\n",
      "7    0.577055\n",
      "8    0.812759\n",
      "9    0.135811\n",
      "dtype: float64\n",
      "45    0.610651\n",
      "46    0.935571\n",
      "47    0.659877\n",
      "48    0.227119\n",
      "49    0.202160\n",
      "dtype: float64\n"
     ]
    }
   ],
   "source": [
    "# 数据查看\n",
    "\n",
    "s = pd.Series(np.random.rand(50))\n",
    "print(s.head(10))\n",
    "print(s.tail())\n",
    "# .head()查看头部数据\n",
    "# .tail()查看尾部数据\n",
    "# 默认查看5条"
   ]
  },
  {
   "cell_type": "code",
   "execution_count": 20,
   "id": "54bbd02d",
   "metadata": {},
   "outputs": [
    {
     "name": "stdout",
     "output_type": "stream",
     "text": [
      "a    0.543052\n",
      "b    0.557972\n",
      "c    0.011613\n",
      "dtype: float64\n",
      "c    0.011613\n",
      "b    0.557972\n",
      "a    0.543052\n",
      "d         NaN\n",
      "dtype: float64\n",
      "c    0.011613\n",
      "b    0.557972\n",
      "a    0.543052\n",
      "d    0.000000\n",
      "dtype: float64\n"
     ]
    }
   ],
   "source": [
    "# 重新索引reindex\n",
    "# .reindex将会根据索引重新排序，如果当前索引不存在，则引入缺失值\n",
    "\n",
    "s = pd.Series(np.random.rand(3), index = ['a','b','c'])\n",
    "print(s)\n",
    "s1 = s.reindex(['c','b','a','d'])\n",
    "print(s1)\n",
    "# .reindex()中也是写列表\n",
    "# 这里'd'索引不存在，所以值为NaN\n",
    "\n",
    "s2 = s.reindex(['c','b','a','d'], fill_value = 0)\n",
    "print(s2)\n",
    "# fill_value参数：填充缺失值的值"
   ]
  },
  {
   "cell_type": "code",
   "execution_count": 21,
   "id": "2326fffb",
   "metadata": {},
   "outputs": [
    {
     "name": "stdout",
     "output_type": "stream",
     "text": [
      "Jack     0.927868\n",
      "Marry    0.576595\n",
      "Tom      0.143847\n",
      "dtype: float64\n",
      "Wang     0.092869\n",
      "Jack     0.700244\n",
      "Marry    0.239781\n",
      "dtype: float64\n",
      "Jack     1.628112\n",
      "Marry    0.816376\n",
      "Tom           NaN\n",
      "Wang          NaN\n",
      "dtype: float64\n"
     ]
    }
   ],
   "source": [
    "# Series对齐\n",
    "\n",
    "s1 = pd.Series(np.random.rand(3), index = ['Jack','Marry','Tom'])\n",
    "s2 = pd.Series(np.random.rand(3), index = ['Wang','Jack','Marry'])\n",
    "print(s1)\n",
    "print(s2)\n",
    "print(s1+s2)\n",
    "# Series 和 ndarray 之间的主要区别是，Series 上的操作会根据标签自动对齐\n",
    "# index顺序不会影响数值计算，以标签来计算\n",
    "# 空值和任何值计算结果扔为空值"
   ]
  },
  {
   "cell_type": "code",
   "execution_count": 22,
   "id": "fb484141",
   "metadata": {},
   "outputs": [
    {
     "name": "stdout",
     "output_type": "stream",
     "text": [
      "n    0.794806\n",
      "g    0.191842\n",
      "j    0.594468\n",
      "u    0.569662\n",
      "r    0.166968\n",
      "dtype: float64\n",
      "g    0.191842\n",
      "j    0.594468\n",
      "u    0.569662\n",
      "r    0.166968\n",
      "dtype: float64\n",
      "n    0.794806\n",
      "u    0.569662\n",
      "r    0.166968\n",
      "dtype: float64\n",
      "n    0.794806\n",
      "g    0.191842\n",
      "j    0.594468\n",
      "u    0.569662\n",
      "r    0.166968\n",
      "dtype: float64\n"
     ]
    }
   ],
   "source": [
    "# 删除：.drop\n",
    "\n",
    "s = pd.Series(np.random.rand(5), index = list('ngjur'))\n",
    "print(s)\n",
    "s1 = s.drop('n')\n",
    "s2 = s.drop(['g','j'])\n",
    "print(s1)\n",
    "print(s2)\n",
    "print(s)\n",
    "# drop 删除元素之后返回副本(inplace=False)"
   ]
  },
  {
   "cell_type": "code",
   "execution_count": 23,
   "id": "b2e42233",
   "metadata": {},
   "outputs": [
    {
     "name": "stdout",
     "output_type": "stream",
     "text": [
      "0    0.806326\n",
      "1    0.186228\n",
      "2    0.344511\n",
      "3    0.339121\n",
      "4    0.329818\n",
      "dtype: float64\n",
      "n    0.415032\n",
      "g    0.105471\n",
      "j    0.497815\n",
      "u    0.019201\n",
      "r    0.757879\n",
      "dtype: float64\n",
      "0      0.806326\n",
      "1      0.186228\n",
      "2      0.344511\n",
      "3      0.339121\n",
      "4      0.329818\n",
      "5    100.000000\n",
      "dtype: float64\n",
      "n      0.415032\n",
      "g      0.105471\n",
      "j      0.497815\n",
      "u      0.019201\n",
      "r      0.757879\n",
      "a    100.000000\n",
      "dtype: float64\n",
      "-----\n",
      "0      0.806326\n",
      "1      0.186228\n",
      "2      0.344511\n",
      "3      0.339121\n",
      "4      0.329818\n",
      "5    100.000000\n",
      "n      0.415032\n",
      "g      0.105471\n",
      "j      0.497815\n",
      "u      0.019201\n",
      "r      0.757879\n",
      "a    100.000000\n",
      "dtype: float64\n",
      "0      0.806326\n",
      "1      0.186228\n",
      "2      0.344511\n",
      "3      0.339121\n",
      "4      0.329818\n",
      "5    100.000000\n",
      "dtype: float64\n"
     ]
    }
   ],
   "source": [
    "# 添加\n",
    "\n",
    "s1 = pd.Series(np.random.rand(5))\n",
    "s2 = pd.Series(np.random.rand(5), index = list('ngjur'))\n",
    "print(s1)\n",
    "print(s2)\n",
    "s1[5] = 100\n",
    "s2['a'] = 100\n",
    "print(s1)\n",
    "print(s2)\n",
    "print('-----')\n",
    "# 直接通过下标索引/标签index添加值\n",
    "\n",
    "s3 = s1.append(s2)\n",
    "print(s3)\n",
    "print(s1)\n",
    "# 通过.append方法，直接添加一个数组\n",
    "# .append方法生成一个新的数组，不改变之前的数组"
   ]
  },
  {
   "cell_type": "code",
   "execution_count": 24,
   "id": "56c7a3db",
   "metadata": {},
   "outputs": [
    {
     "name": "stdout",
     "output_type": "stream",
     "text": [
      "a    0.920579\n",
      "b    0.189254\n",
      "c    0.194963\n",
      "dtype: float64\n",
      "a    100.0\n",
      "b    200.0\n",
      "c    200.0\n",
      "dtype: float64\n"
     ]
    }
   ],
   "source": [
    "# 修改\n",
    "\n",
    "s = pd.Series(np.random.rand(3), index = ['a','b','c'])\n",
    "print(s)\n",
    "s['a'] = 100\n",
    "s[['b','c']] = 200\n",
    "print(s)\n",
    "# 通过索引直接修改，类似序列\n"
   ]
  },
  {
   "cell_type": "markdown",
   "id": "34a210ae",
   "metadata": {},
   "source": [
    "### 02 数据结构 Dataframe "
   ]
  },
  {
   "cell_type": "markdown",
   "id": "4d24264f",
   "metadata": {},
   "source": [
    "+ \"二维数组\"Dataframe：是一个表格型的数据结构，包含一组有序的列，其列的值类型可以是数值、字符串、布尔值等。\n",
    "\n",
    "\n",
    "+ Dataframe中的数据以一个或多个二维块存放，不是列表、字典或一维数组结构。"
   ]
  },
  {
   "cell_type": "code",
   "execution_count": 25,
   "id": "8509654b",
   "metadata": {},
   "outputs": [],
   "source": [
    "# Dataframe 数据结构\n",
    "# Dataframe是一个表格型的数据结构，“带有标签的二维数组”。\n",
    "# Dataframe带有index（行标签）和columns（列标签）\n",
    "\n",
    "data = {'name':['Jack','Tom','Mary'],\n",
    "        'age':[18,19,20],\n",
    "       'gender':['m','m','w']}\n",
    "frame = pd.DataFrame(data)"
   ]
  },
  {
   "cell_type": "code",
   "execution_count": 26,
   "id": "a4a1fdf8",
   "metadata": {},
   "outputs": [
    {
     "name": "stdout",
     "output_type": "stream",
     "text": [
      "   name  age gender\n",
      "0  Jack   18      m\n",
      "1   Tom   19      m\n",
      "2  Mary   20      w\n"
     ]
    }
   ],
   "source": [
    "print(frame)"
   ]
  },
  {
   "cell_type": "code",
   "execution_count": 27,
   "id": "13dad0ea",
   "metadata": {},
   "outputs": [
    {
     "name": "stdout",
     "output_type": "stream",
     "text": [
      "<class 'pandas.core.frame.DataFrame'>\n"
     ]
    }
   ],
   "source": [
    "print(type(frame))"
   ]
  },
  {
   "cell_type": "code",
   "execution_count": 28,
   "id": "fc633d1c",
   "metadata": {},
   "outputs": [
    {
     "name": "stdout",
     "output_type": "stream",
     "text": [
      "RangeIndex(start=0, stop=3, step=1) \n",
      "该数据类型为： <class 'pandas.core.indexes.range.RangeIndex'>\n",
      "Index(['name', 'age', 'gender'], dtype='object') \n",
      "该数据类型为： <class 'pandas.core.indexes.base.Index'>\n",
      "[['Jack' 18 'm']\n",
      " ['Tom' 19 'm']\n",
      " ['Mary' 20 'w']] \n",
      "该数据类型为： <class 'numpy.ndarray'>\n"
     ]
    }
   ],
   "source": [
    "print(frame.index,'\\n该数据类型为：',type(frame.index))\n",
    "print(frame.columns,'\\n该数据类型为：',type(frame.columns))\n",
    "print(frame.values,'\\n该数据类型为：',type(frame.values))"
   ]
  },
  {
   "cell_type": "markdown",
   "id": "f8d4da10",
   "metadata": {},
   "source": [
    "#### Dataframe的创建"
   ]
  },
  {
   "cell_type": "markdown",
   "id": "23f5001d",
   "metadata": {},
   "source": [
    "method1 : 由数组、list组成的字典"
   ]
  },
  {
   "cell_type": "code",
   "execution_count": 29,
   "id": "2389aa9a",
   "metadata": {},
   "outputs": [
    {
     "name": "stdout",
     "output_type": "stream",
     "text": [
      "{'a': [1, 2, 3], 'b': [3, 4, 5], 'c': [5, 6, 7]}\n"
     ]
    }
   ],
   "source": [
    "data1 = {'a':[1,2,3],\n",
    "        'b':[3,4,5],\n",
    "        'c':[5,6,7]}\n",
    "print(data1)"
   ]
  },
  {
   "cell_type": "code",
   "execution_count": 30,
   "id": "dab8033d",
   "metadata": {},
   "outputs": [
    {
     "name": "stdout",
     "output_type": "stream",
     "text": [
      "{'one': array([0.72589076, 0.02795186, 0.47533738]), 'two': array([0.96797203, 0.15516058, 0.51717338])}\n"
     ]
    }
   ],
   "source": [
    "data2 = {'one':np.random.rand(3),\n",
    "        'two':np.random.rand(3)}\n",
    "print(data2)"
   ]
  },
  {
   "cell_type": "code",
   "execution_count": 31,
   "id": "51da0db1",
   "metadata": {},
   "outputs": [
    {
     "name": "stdout",
     "output_type": "stream",
     "text": [
      "   a  b  c\n",
      "0  1  3  5\n",
      "1  2  4  6\n",
      "2  3  5  7\n",
      "        one       two\n",
      "0  0.725891  0.967972\n",
      "1  0.027952  0.155161\n",
      "2  0.475337  0.517173\n"
     ]
    }
   ],
   "source": [
    "df1 = pd.DataFrame(data1)\n",
    "df2 = pd.DataFrame(data2)\n",
    "print(df1)\n",
    "print(df2)"
   ]
  },
  {
   "cell_type": "code",
   "execution_count": 32,
   "id": "a5c96192",
   "metadata": {},
   "outputs": [
    {
     "name": "stdout",
     "output_type": "stream",
     "text": [
      "   b  c  a    d\n",
      "0  3  5  1  NaN\n",
      "1  4  6  2  NaN\n",
      "2  5  7  3  NaN\n"
     ]
    }
   ],
   "source": [
    "df1 = pd.DataFrame(data1, columns = ['b','c','a','d'])\n",
    "print(df1)"
   ]
  },
  {
   "cell_type": "code",
   "execution_count": 33,
   "id": "37721137",
   "metadata": {},
   "outputs": [
    {
     "name": "stdout",
     "output_type": "stream",
     "text": [
      "   b  c\n",
      "0  3  5\n",
      "1  4  6\n",
      "2  5  7\n"
     ]
    }
   ],
   "source": [
    "df1 = pd.DataFrame(data1, columns = ['b','c'])\n",
    "print(df1)"
   ]
  },
  {
   "cell_type": "markdown",
   "id": "a9227028",
   "metadata": {},
   "source": [
    "columns参数：格式为list，如果现有数据中没有该列（比如'd'），则产生NaN值\n",
    "\n",
    "如果columns重新指定时候，列的数量可以少于原数据"
   ]
  },
  {
   "cell_type": "code",
   "execution_count": 35,
   "id": "fdaa39a3",
   "metadata": {},
   "outputs": [
    {
     "name": "stdout",
     "output_type": "stream",
     "text": [
      "         one       two\n",
      "f1  0.725891  0.967972\n",
      "f2  0.027952  0.155161\n",
      "f3  0.475337  0.517173\n"
     ]
    }
   ],
   "source": [
    "# 重新定义index，格式为list，长度必须保持一致\n",
    "\n",
    "df2 = pd.DataFrame(data2, index = ['f1','f2','f3'])  # 这里如果尝试  index = ['f1','f2','f3','f4'] 会怎么样？\n",
    "print(df2)"
   ]
  },
  {
   "cell_type": "markdown",
   "id": "11bb16a7",
   "metadata": {},
   "source": [
    "method2: 由Series组成的字典"
   ]
  },
  {
   "cell_type": "code",
   "execution_count": 37,
   "id": "441592aa",
   "metadata": {},
   "outputs": [
    {
     "name": "stdout",
     "output_type": "stream",
     "text": [
      "{'one': 0    0.479867\n",
      "1    0.873099\n",
      "dtype: float64, 'two': 0    0.154829\n",
      "1    0.951907\n",
      "2    0.123529\n",
      "dtype: float64}\n"
     ]
    }
   ],
   "source": [
    "data1 = {'one':pd.Series(np.random.rand(2)),\n",
    "        'two':pd.Series(np.random.rand(3))}  # 没有设置index的Series\n",
    "print(data1)"
   ]
  },
  {
   "cell_type": "code",
   "execution_count": 38,
   "id": "7ae84641",
   "metadata": {},
   "outputs": [
    {
     "name": "stdout",
     "output_type": "stream",
     "text": [
      "{'one': a    0.777681\n",
      "b    0.397571\n",
      "dtype: float64, 'two': a    0.788676\n",
      "b    0.964475\n",
      "c    0.003853\n",
      "dtype: float64}\n"
     ]
    }
   ],
   "source": [
    "data2 = {'one':pd.Series(np.random.rand(2), index = ['a','b']),\n",
    "        'two':pd.Series(np.random.rand(3),index = ['a','b','c'])}  # 设置了index的Series\n",
    "print(data2)"
   ]
  },
  {
   "cell_type": "code",
   "execution_count": 39,
   "id": "026b58ed",
   "metadata": {},
   "outputs": [
    {
     "name": "stdout",
     "output_type": "stream",
     "text": [
      "        one       two\n",
      "0  0.479867  0.154829\n",
      "1  0.873099  0.951907\n",
      "2       NaN  0.123529\n",
      "        one       two\n",
      "a  0.777681  0.788676\n",
      "b  0.397571  0.964475\n",
      "c       NaN  0.003853\n"
     ]
    }
   ],
   "source": [
    "df1 = pd.DataFrame(data1)\n",
    "df2 = pd.DataFrame(data2)\n",
    "print(df1)\n",
    "print(df2)"
   ]
  },
  {
   "cell_type": "markdown",
   "id": "434292fc",
   "metadata": {},
   "source": [
    "+ 由Seris组成的字典 创建Dataframe，columns为字典key，index为Series的标签（如果Series没有指定标签，则是默认数字标签）\n",
    "\n",
    "+ Series可以长度不一样，生成的Dataframe会出现NaN值"
   ]
  },
  {
   "cell_type": "markdown",
   "id": "9d51b35b",
   "metadata": {},
   "source": [
    "method3: 通过二维数组直接创建"
   ]
  },
  {
   "cell_type": "code",
   "execution_count": 40,
   "id": "ddce953a",
   "metadata": {},
   "outputs": [
    {
     "name": "stdout",
     "output_type": "stream",
     "text": [
      "[[0.91267531 0.33060085 0.04661333]\n",
      " [0.36317646 0.74714315 0.65677234]\n",
      " [0.45403952 0.68846609 0.64304694]]\n"
     ]
    }
   ],
   "source": [
    "ar = np.random.rand(9).reshape(3,3)\n",
    "print(ar)"
   ]
  },
  {
   "cell_type": "code",
   "execution_count": 43,
   "id": "300cccfe",
   "metadata": {},
   "outputs": [
    {
     "name": "stdout",
     "output_type": "stream",
     "text": [
      "          0         1         2\n",
      "0  0.912675  0.330601  0.046613\n",
      "1  0.363176  0.747143  0.656772\n",
      "2  0.454040  0.688466  0.643047\n"
     ]
    }
   ],
   "source": [
    "df1 = pd.DataFrame(ar)\n",
    "print(df1)"
   ]
  },
  {
   "cell_type": "code",
   "execution_count": 44,
   "id": "543a0254",
   "metadata": {},
   "outputs": [
    {
     "name": "stdout",
     "output_type": "stream",
     "text": [
      "        one       two     three\n",
      "a  0.912675  0.330601  0.046613\n",
      "b  0.363176  0.747143  0.656772\n",
      "c  0.454040  0.688466  0.643047\n"
     ]
    }
   ],
   "source": [
    "df2 = pd.DataFrame(ar, index = ['a', 'b', 'c'], columns = ['one','two','three'])  # 可以尝试一下index或columns长度不等于已有数组的情况\n",
    "print(df2)"
   ]
  },
  {
   "cell_type": "markdown",
   "id": "eee7fd81",
   "metadata": {},
   "source": [
    "method4: 由字典组成的列表"
   ]
  },
  {
   "cell_type": "code",
   "execution_count": 45,
   "id": "382c74c3",
   "metadata": {},
   "outputs": [
    {
     "name": "stdout",
     "output_type": "stream",
     "text": [
      "[{'one': 1, 'two': 2}, {'one': 5, 'two': 10, 'three': 20}]\n"
     ]
    }
   ],
   "source": [
    "data = [{'one': 1, 'two': 2}, {'one': 5, 'two': 10, 'three': 20}]\n",
    "print(data)"
   ]
  },
  {
   "cell_type": "code",
   "execution_count": 46,
   "id": "86db9105",
   "metadata": {},
   "outputs": [
    {
     "name": "stdout",
     "output_type": "stream",
     "text": [
      "   one  two  three\n",
      "0    1    2    NaN\n",
      "1    5   10   20.0\n",
      "   one  two  three\n",
      "a    1    2    NaN\n",
      "b    5   10   20.0\n",
      "   one  two\n",
      "0    1    2\n",
      "1    5   10\n"
     ]
    }
   ],
   "source": [
    "df1 = pd.DataFrame(data)\n",
    "df2 = pd.DataFrame(data, index = ['a','b'])\n",
    "df3 = pd.DataFrame(data, columns = ['one','two'])\n",
    "print(df1)\n",
    "print(df2)\n",
    "print(df3)"
   ]
  },
  {
   "cell_type": "markdown",
   "id": "90349379",
   "metadata": {},
   "source": [
    "method5 :由字典组成的字典"
   ]
  },
  {
   "cell_type": "code",
   "execution_count": 47,
   "id": "968fac8e",
   "metadata": {},
   "outputs": [
    {
     "name": "stdout",
     "output_type": "stream",
     "text": [
      "         Jack  Marry   Tom\n",
      "math       90     82  78.0\n",
      "english    89     95  67.0\n",
      "art        78     92   NaN\n"
     ]
    }
   ],
   "source": [
    "data = {'Jack':{'math':90,'english':89,'art':78},\n",
    "       'Marry':{'math':82,'english':95,'art':92},\n",
    "       'Tom':{'math':78,'english':67}}\n",
    "df1 = pd.DataFrame(data)\n",
    "print(df1)"
   ]
  },
  {
   "cell_type": "code",
   "execution_count": 48,
   "id": "b1d169c2",
   "metadata": {},
   "outputs": [
    {
     "name": "stdout",
     "output_type": "stream",
     "text": [
      "         Jack   Tom  Bob\n",
      "math       90  78.0  NaN\n",
      "english    89  67.0  NaN\n",
      "art        78   NaN  NaN\n",
      "   Jack  Marry  Tom\n",
      "a   NaN    NaN  NaN\n",
      "b   NaN    NaN  NaN\n",
      "c   NaN    NaN  NaN\n"
     ]
    }
   ],
   "source": [
    "df2 = pd.DataFrame(data, columns = ['Jack','Tom','Bob'])\n",
    "df3 = pd.DataFrame(data, index = ['a','b','c'])\n",
    "print(df2)\n",
    "print(df3)"
   ]
  },
  {
   "cell_type": "code",
   "execution_count": 49,
   "id": "f341d15d",
   "metadata": {},
   "outputs": [],
   "source": [
    "# columns参数可以增加和减少现有列，如出现新的列，值为NaN\n",
    "# index在这里和之前不同，并不能改变原有index，如果指向新的标签，值为NaN （非常重要！）"
   ]
  },
  {
   "cell_type": "markdown",
   "id": "edaf0f78-1be2-4661-aafd-686b83a2aed5",
   "metadata": {},
   "source": [
    "#### Dataframe的索引"
   ]
  },
  {
   "cell_type": "markdown",
   "id": "3da9d22c-e450-4fcb-9e1a-ea4c8a671584",
   "metadata": {},
   "source": [
    "Dataframe既有行索引也有列索引，可以被看做由Series组成的字典（共用一个索引）\n",
    "\n",
    "选择列 / 选择行 / 切片 / 布尔判断"
   ]
  },
  {
   "cell_type": "code",
   "execution_count": 2,
   "id": "6b9477b1",
   "metadata": {},
   "outputs": [
    {
     "name": "stdout",
     "output_type": "stream",
     "text": [
      "               a          b          c          d\n",
      "one    86.666374  52.107573  14.960190  20.194788\n",
      "two    98.814542  23.369987  35.698623  43.422784\n",
      "three  14.768358  12.312797  14.851012  42.170000\n"
     ]
    }
   ],
   "source": [
    "# 选择行与列\n",
    "\n",
    "df = pd.DataFrame(np.random.rand(12).reshape(3,4)*100,\n",
    "                   index = ['one','two','three'],\n",
    "                   columns = ['a','b','c','d'])\n",
    "print(df)"
   ]
  },
  {
   "cell_type": "code",
   "execution_count": 6,
   "id": "20b98218-5755-4fcd-8892-9563d2a82e83",
   "metadata": {},
   "outputs": [
    {
     "name": "stdout",
     "output_type": "stream",
     "text": [
      "one      86.666374\n",
      "two      98.814542\n",
      "three    14.768358\n",
      "Name: a, dtype: float64 <class 'pandas.core.series.Series'>\n"
     ]
    }
   ],
   "source": [
    "data1 = df['a']\n",
    "print(data1,type(data1))"
   ]
  },
  {
   "cell_type": "markdown",
   "id": "2334b9c4-9947-4e9c-a1c8-2ee6df3db668",
   "metadata": {},
   "source": [
    "**注： 按照列名选择列，只选择一列输出Series，选择多列输出Dataframe**"
   ]
  },
  {
   "cell_type": "code",
   "execution_count": 4,
   "id": "3cae18c4-176c-466f-abbb-9ae32c0c1694",
   "metadata": {},
   "outputs": [
    {
     "name": "stdout",
     "output_type": "stream",
     "text": [
      "               a          c\n",
      "one    86.666374  14.960190\n",
      "two    98.814542  35.698623\n",
      "three  14.768358  14.851012 <class 'pandas.core.frame.DataFrame'>\n"
     ]
    }
   ],
   "source": [
    "data2 = df[['a','c']]\n",
    "print(data2,type(data2))"
   ]
  },
  {
   "cell_type": "code",
   "execution_count": 5,
   "id": "de18f373-c76a-4d8c-8184-cf473c21e466",
   "metadata": {},
   "outputs": [],
   "source": [
    "# 选择行"
   ]
  },
  {
   "cell_type": "code",
   "execution_count": 10,
   "id": "14be9de6-682f-42e9-809e-b0f81b826323",
   "metadata": {},
   "outputs": [
    {
     "name": "stdout",
     "output_type": "stream",
     "text": [
      "               a          c\n",
      "one    86.666374  14.960190\n",
      "two    98.814542  35.698623\n",
      "three  14.768358  14.851012 <class 'pandas.core.series.Series'>\n"
     ]
    }
   ],
   "source": [
    "data3 = df.loc['one']\n",
    "print(data2,type(data3))"
   ]
  },
  {
   "cell_type": "code",
   "execution_count": 8,
   "id": "77ce8b8b-65a9-4c1a-aabe-c771075ce573",
   "metadata": {},
   "outputs": [
    {
     "name": "stdout",
     "output_type": "stream",
     "text": [
      "a    86.666374\n",
      "b    52.107573\n",
      "c    14.960190\n",
      "d    20.194788\n",
      "Name: one, dtype: float64 <class 'pandas.core.frame.DataFrame'>\n"
     ]
    }
   ],
   "source": [
    "data4 = df.loc[['one','two']]\n",
    "print(data3,type(data4))"
   ]
  },
  {
   "cell_type": "code",
   "execution_count": 11,
   "id": "fecf25a7-5a88-4b8a-a9a3-4ad6dc8c0520",
   "metadata": {},
   "outputs": [],
   "source": [
    "# 选择列"
   ]
  },
  {
   "cell_type": "code",
   "execution_count": 12,
   "id": "c0b8159b-41fa-4134-8675-d49bdc045f2b",
   "metadata": {},
   "outputs": [
    {
     "name": "stdout",
     "output_type": "stream",
     "text": [
      "               a          b          c          d\n",
      "one    27.644397  10.539288  23.454660  14.599124\n",
      "two    85.672771  91.853922  12.725357  14.880208\n",
      "three   8.433687  59.707479  47.901989  76.770330\n"
     ]
    }
   ],
   "source": [
    "df = pd.DataFrame(np.random.rand(12).reshape(3,4)*100,\n",
    "                   index = ['one','two','three'],\n",
    "                   columns = ['a','b','c','d'])\n",
    "print(df)"
   ]
  },
  {
   "cell_type": "code",
   "execution_count": 14,
   "id": "5f25eca4-ca2f-457e-bd9b-fb7bcf588303",
   "metadata": {},
   "outputs": [
    {
     "name": "stdout",
     "output_type": "stream",
     "text": [
      "one      27.644397\n",
      "two      85.672771\n",
      "three     8.433687\n",
      "Name: a, dtype: float64\n"
     ]
    }
   ],
   "source": [
    "data1 = df['a']\n",
    "print(data1)"
   ]
  },
  {
   "cell_type": "markdown",
   "id": "941953d2-c774-4d72-b162-13e8d8673b64",
   "metadata": {},
   "source": [
    "注： df[]默认选择列，[]中写列名"
   ]
  },
  {
   "cell_type": "code",
   "execution_count": 15,
   "id": "c510364a-1948-4bc8-8081-7d6ecaa14992",
   "metadata": {},
   "outputs": [],
   "source": [
    "# df.loc[] - 按index选择行 "
   ]
  },
  {
   "cell_type": "code",
   "execution_count": 22,
   "id": "94aaad43-aa0d-4254-a577-f253870f7aeb",
   "metadata": {},
   "outputs": [
    {
     "name": "stdout",
     "output_type": "stream",
     "text": [
      "               a          b          c          d\n",
      "one    52.120804   7.372969  84.210659  89.123187\n",
      "two    66.300147  92.252027  88.810194  96.869046\n",
      "three  30.914314  90.274615  95.834611  45.432602\n",
      "four   85.687115  42.676543  44.675636  25.828348\n",
      "-----------------------------------------------------\n",
      "           a          b          c          d\n",
      "0  60.922635   8.977961  41.384896  54.299280\n",
      "1  57.064524  35.341301  48.379129   6.314973\n",
      "2  31.981022  32.601077  73.657284  39.477255\n",
      "3  69.001291  66.796767  90.374862  16.600172\n"
     ]
    }
   ],
   "source": [
    "df1 = pd.DataFrame(np.random.rand(16).reshape(4,4)*100,\n",
    "                   index = ['one','two','three','four'],\n",
    "                   columns = ['a','b','c','d'])\n",
    "df2 = pd.DataFrame(np.random.rand(16).reshape(4,4)*100,\n",
    "                   columns = ['a','b','c','d'])\n",
    "print(df1)\n",
    "print('-----------------------------------------------------')\n",
    "print(df2)"
   ]
  },
  {
   "cell_type": "code",
   "execution_count": 24,
   "id": "c5bd97cb-7ae7-4ec5-b2af-66fe72a5cd94",
   "metadata": {},
   "outputs": [
    {
     "name": "stdout",
     "output_type": "stream",
     "text": [
      "a    52.120804\n",
      "b     7.372969\n",
      "c    84.210659\n",
      "d    89.123187\n",
      "Name: one, dtype: float64\n",
      "--------------------------\n",
      "a    57.064524\n",
      "b    35.341301\n",
      "c    48.379129\n",
      "d     6.314973\n",
      "Name: 1, dtype: float64\n"
     ]
    }
   ],
   "source": [
    "data1 = df1.loc['one']\n",
    "data2 = df2.loc[1]\n",
    "print(data1)\n",
    "print('--------------------------')\n",
    "print(data2)"
   ]
  },
  {
   "cell_type": "code",
   "execution_count": 28,
   "id": "8cebac87-1e4b-490b-9aec-ec2ec9beb0d2",
   "metadata": {},
   "outputs": [
    {
     "name": "stdout",
     "output_type": "stream",
     "text": [
      "           a          b          c          d\n",
      "1  57.064524  35.341301  48.379129   6.314973\n",
      "2  31.981022  32.601077  73.657284  39.477255\n",
      "3  69.001291  66.796767  90.374862  16.600172\n"
     ]
    }
   ],
   "source": [
    "data6 = df2.loc[1:3]\n",
    "print(data6)"
   ]
  },
  {
   "cell_type": "code",
   "execution_count": 29,
   "id": "144ef339-b2c3-4327-bc2f-3bc3d957abb3",
   "metadata": {},
   "outputs": [],
   "source": [
    "# 布尔型索引\n",
    "# 和Series原理相同"
   ]
  },
  {
   "cell_type": "code",
   "execution_count": 31,
   "id": "4eca69fd-b5ac-48c4-be70-141c6cf42530",
   "metadata": {},
   "outputs": [
    {
     "name": "stdout",
     "output_type": "stream",
     "text": [
      "               a          b          c          d\n",
      "one    92.252871  76.862801  45.086171  39.848602\n",
      "two    75.776145  65.875447  30.129789  55.600124\n",
      "three  79.890361  77.905079  15.578123  70.682528\n",
      "four   97.594618  89.987797  47.110704  42.403193\n"
     ]
    }
   ],
   "source": [
    "df = pd.DataFrame(np.random.rand(16).reshape(4,4)*100,\n",
    "                   index = ['one','two','three','four'],\n",
    "                   columns = ['a','b','c','d'])\n",
    "print(df)"
   ]
  },
  {
   "cell_type": "code",
   "execution_count": 36,
   "id": "44ac71bf-6592-4352-90de-10aaf77a60de",
   "metadata": {},
   "outputs": [
    {
     "name": "stdout",
     "output_type": "stream",
     "text": [
      "           a      b      c      d\n",
      "one    False  False  False  False\n",
      "two    False  False  False  False\n",
      "three  False  False   True  False\n",
      "four   False  False  False  False <class 'pandas.core.frame.DataFrame'>\n",
      "-----------------------------------------\n",
      "        a   b          c   d\n",
      "one   NaN NaN        NaN NaN\n",
      "two   NaN NaN        NaN NaN\n",
      "three NaN NaN  15.578123 NaN\n",
      "four  NaN NaN        NaN NaN\n"
     ]
    }
   ],
   "source": [
    "b1 = df < 20\n",
    "print(b1,type(b1))\n",
    "print('-----------------------------------------')\n",
    "print(df[b1])"
   ]
  },
  {
   "cell_type": "code",
   "execution_count": 39,
   "id": "a637975f-f4f9-4d8e-baec-4b25fe62bb7d",
   "metadata": {},
   "outputs": [
    {
     "name": "stdout",
     "output_type": "stream",
     "text": [
      "one      True\n",
      "two      True\n",
      "three    True\n",
      "four     True\n",
      "Name: a, dtype: bool <class 'pandas.core.series.Series'>\n",
      "--------------------------------------------\n",
      "               a          b          c          d\n",
      "one    92.252871  76.862801  45.086171  39.848602\n",
      "two    75.776145  65.875447  30.129789  55.600124\n",
      "three  79.890361  77.905079  15.578123  70.682528\n",
      "four   97.594618  89.987797  47.110704  42.403193\n",
      "---------------------------------------------\n"
     ]
    }
   ],
   "source": [
    "b2 = df['a'] > 50\n",
    "print(b2,type(b2))\n",
    "print('--------------------------------------------')\n",
    "print(df[b2])  # 也可以书写为 df[df['a'] > 50]\n",
    "print('---------------------------------------------')"
   ]
  },
  {
   "cell_type": "code",
   "execution_count": 41,
   "id": "36191d84-5270-416c-b653-31e55254f812",
   "metadata": {},
   "outputs": [],
   "source": [
    "# 多重索引：比如同时索引行和列\n",
    "# 先选择列再选择行 —— 相当于对于一个数据，先筛选字段，再选择数据量"
   ]
  },
  {
   "cell_type": "code",
   "execution_count": 42,
   "id": "f47bec73-c8b7-4723-8c7d-c645d4ab8d24",
   "metadata": {},
   "outputs": [
    {
     "name": "stdout",
     "output_type": "stream",
     "text": [
      "               a          b          c          d\n",
      "one    70.935502  88.812694  30.854324  16.096996\n",
      "two    11.634851  10.220804  70.427860  85.766037\n",
      "three   9.308033  51.045388  28.332174  20.540751\n",
      "four   98.671074  28.137303   8.558584  37.311170\n"
     ]
    }
   ],
   "source": [
    "df = pd.DataFrame(np.random.rand(16).reshape(4,4)*100,\n",
    "                   index = ['one','two','three','four'],\n",
    "                   columns = ['a','b','c','d'])\n",
    "print(df)"
   ]
  },
  {
   "cell_type": "code",
   "execution_count": 43,
   "id": "8e623637-fccf-46b0-b7f8-7ed4fa785866",
   "metadata": {},
   "outputs": [
    {
     "name": "stdout",
     "output_type": "stream",
     "text": [
      "one      70.935502\n",
      "three     9.308033\n",
      "Name: a, dtype: float64\n"
     ]
    }
   ],
   "source": [
    "print(df['a'].loc[['one','three']])   # 选择a列的one，three行"
   ]
  },
  {
   "cell_type": "code",
   "execution_count": 45,
   "id": "0cd52e05-b26a-49c9-b1dd-58b841c96557",
   "metadata": {},
   "outputs": [
    {
     "name": "stdout",
     "output_type": "stream",
     "text": [
      "               b          c          d\n",
      "one    88.812694  30.854324  16.096996\n",
      "three  51.045388  28.332174  20.540751\n"
     ]
    }
   ],
   "source": [
    "print(df[['b','c','d']].iloc[::2])\n",
    "#选择b，c，d列的one，three行"
   ]
  },
  {
   "cell_type": "code",
   "execution_count": 46,
   "id": "1eab7eb1-9aec-4543-9b0d-10e2dde8d7f7",
   "metadata": {},
   "outputs": [
    {
     "name": "stdout",
     "output_type": "stream",
     "text": [
      "               a          b          c          d\n",
      "two    11.634851  10.220804  70.427860  85.766037\n",
      "three   9.308033  51.045388  28.332174  20.540751\n"
     ]
    }
   ],
   "source": [
    "print(df[df['a'] < 50].iloc[:2])   \n",
    "# 选择满足判断索引的前两行数据"
   ]
  },
  {
   "cell_type": "markdown",
   "id": "211adbf4-6dfc-4a24-a3f2-50808ca39a81",
   "metadata": {},
   "source": [
    "#### DataFrame基本技巧"
   ]
  },
  {
   "cell_type": "markdown",
   "id": "08d06aa8-8ed5-4b34-9bbb-4ee9da3fae82",
   "metadata": {},
   "source": [
    "+ 数据查看、转置 / 添加、修改、删除值 / 对齐 / 排序"
   ]
  },
  {
   "cell_type": "code",
   "execution_count": 48,
   "id": "99982107-74bd-46f9-a0cd-32c2f92dc121",
   "metadata": {},
   "outputs": [
    {
     "name": "stdout",
     "output_type": "stream",
     "text": [
      "           a          b\n",
      "0  71.606402  34.608073\n",
      "1  97.664953  96.640189\n",
      "-----------------------------\n",
      "           a          b\n",
      "3   6.921770  32.642198\n",
      "4  75.596959  83.457750\n",
      "5  92.834388  27.336828\n",
      "6  28.463524   3.583658\n",
      "7  60.447622  24.384674\n",
      "           0          1          2          3          4          5  \\\n",
      "a  71.606402  97.664953  83.811585   6.921770  75.596959  92.834388   \n",
      "b  34.608073  96.640189  82.381001  32.642198  83.457750  27.336828   \n",
      "\n",
      "           6          7  \n",
      "a  28.463524  60.447622  \n",
      "b   3.583658  24.384674  \n"
     ]
    }
   ],
   "source": [
    "# 数据查看、转置\n",
    "\n",
    "df = pd.DataFrame(np.random.rand(16).reshape(8,2)*100,\n",
    "                   columns = ['a','b'])\n",
    "print(df.head(2))\n",
    "print('-----------------------------')\n",
    "print(df.tail())\n",
    "# .head()查看头部数据\n",
    "# .tail()查看尾部数据\n",
    "# 默认查看5条\n",
    "\n",
    "print(df.T)\n",
    "# .T 转置"
   ]
  },
  {
   "cell_type": "code",
   "execution_count": 50,
   "id": "498ef0db-77d7-46e7-90a4-6788ba97a33b",
   "metadata": {},
   "outputs": [
    {
     "name": "stdout",
     "output_type": "stream",
     "text": [
      "           a          b          c          d\n",
      "0  33.644492  38.093835  25.969211  97.417244\n",
      "1  96.438622  31.915684  27.877477  18.169081\n",
      "2  65.937267  86.672535  95.657034  54.072658\n",
      "3  25.559000  84.935437  90.733421   0.582163\n",
      "           a          b          c          d   e\n",
      "0  33.644492  38.093835  25.969211  97.417244  10\n",
      "1  96.438622  31.915684  27.877477  18.169081  10\n",
      "2  65.937267  86.672535  95.657034  54.072658  10\n",
      "3  25.559000  84.935437  90.733421   0.582163  10\n",
      "4  20.000000  20.000000  20.000000  20.000000  20\n"
     ]
    }
   ],
   "source": [
    "# 添加与修改\n",
    "\n",
    "df = pd.DataFrame(np.random.rand(16).reshape(4,4)*100,\n",
    "                   columns = ['a','b','c','d'])\n",
    "print(df)\n",
    "\n",
    "df['e'] = 10\n",
    "df.loc[4] = 20\n",
    "print(df)"
   ]
  },
  {
   "cell_type": "code",
   "execution_count": 52,
   "id": "b4419805-3689-4715-a708-d1af890da591",
   "metadata": {},
   "outputs": [
    {
     "name": "stdout",
     "output_type": "stream",
     "text": [
      "           a          b          c          d\n",
      "0  23.792019  84.521330  75.768658  13.320024\n",
      "1  22.574855  81.461973   7.193157  41.336640\n",
      "2  26.268877   2.697603  98.225363  72.909128\n",
      "3  62.153761  26.903136  53.121309   6.358380\n",
      "           b          c          d\n",
      "0  84.521330  75.768658  13.320024\n",
      "1  81.461973   7.193157  41.336640\n",
      "2   2.697603  98.225363  72.909128\n",
      "3  26.903136  53.121309   6.358380\n"
     ]
    }
   ],
   "source": [
    "# 删除  del / drop()\n",
    "\n",
    "df = pd.DataFrame(np.random.rand(16).reshape(4,4)*100,\n",
    "                   columns = ['a','b','c','d'])\n",
    "print(df)\n",
    "\n",
    "del df['a']\n",
    "print(df)"
   ]
  },
  {
   "cell_type": "code",
   "execution_count": 53,
   "id": "68c2b1de-618f-4065-824f-b1ad8f961955",
   "metadata": {},
   "outputs": [
    {
     "name": "stdout",
     "output_type": "stream",
     "text": [
      "           b          c          d\n",
      "1  81.461973   7.193157  41.336640\n",
      "2   2.697603  98.225363  72.909128\n",
      "3  26.903136  53.121309   6.358380\n"
     ]
    }
   ],
   "source": [
    "print(df.drop(0))"
   ]
  },
  {
   "cell_type": "code",
   "execution_count": 54,
   "id": "515103dc-2f2b-4570-8e03-be14b1d35709",
   "metadata": {},
   "outputs": [
    {
     "name": "stdout",
     "output_type": "stream",
     "text": [
      "           b          c          d\n",
      "0  84.521330  75.768658  13.320024\n",
      "3  26.903136  53.121309   6.358380\n"
     ]
    }
   ],
   "source": [
    "print(df.drop([1,2]))"
   ]
  },
  {
   "cell_type": "code",
   "execution_count": 55,
   "id": "654ae1c2-2407-4361-b11d-edd89fc3cd56",
   "metadata": {},
   "outputs": [
    {
     "name": "stdout",
     "output_type": "stream",
     "text": [
      "           b          c          d\n",
      "0  84.521330  75.768658  13.320024\n",
      "1  81.461973   7.193157  41.336640\n",
      "2   2.697603  98.225363  72.909128\n",
      "3  26.903136  53.121309   6.358380\n"
     ]
    }
   ],
   "source": [
    "print(df)"
   ]
  },
  {
   "cell_type": "code",
   "execution_count": 56,
   "id": "9f203aff-81f9-4733-91be-c290bc0b7125",
   "metadata": {},
   "outputs": [
    {
     "name": "stdout",
     "output_type": "stream",
     "text": [
      "          A         B         C   D\n",
      "0  0.843350 -0.050046  1.333332 NaN\n",
      "1 -0.339286  0.828764 -1.307052 NaN\n",
      "2  0.557021  0.951325  1.283861 NaN\n",
      "3 -1.193624 -1.175859  1.047327 NaN\n",
      "4 -1.523750 -0.430467 -0.115423 NaN\n",
      "5  1.959141 -1.359097 -0.701307 NaN\n",
      "6 -0.954429 -1.291686  2.013389 NaN\n",
      "7       NaN       NaN       NaN NaN\n",
      "8       NaN       NaN       NaN NaN\n",
      "9       NaN       NaN       NaN NaN\n"
     ]
    }
   ],
   "source": [
    "# 对齐\n",
    "\n",
    "df1 = pd.DataFrame(np.random.randn(10, 4), columns=['A', 'B', 'C', 'D'])\n",
    "df2 = pd.DataFrame(np.random.randn(7, 3), columns=['A', 'B', 'C'])\n",
    "print(df1 + df2)\n",
    "# DataFrame对象之间的数据自动按照列和索引（行标签）对齐"
   ]
  },
  {
   "cell_type": "code",
   "execution_count": 57,
   "id": "a309c2c4-ccbb-4ab6-bcee-7b9f784087fa",
   "metadata": {},
   "outputs": [
    {
     "name": "stdout",
     "output_type": "stream",
     "text": [
      "           a          b          c          d\n",
      "0  15.699211  57.382051  68.531862  27.622906\n",
      "1  36.697559  75.187689  25.172645  24.916907\n",
      "2  87.382660  17.152470  92.523605  77.527907\n",
      "3  64.538470  38.507963  28.161702  66.102875\n"
     ]
    }
   ],
   "source": [
    "# 排序1 - 按值排序 .sort_values\n",
    "# 同样适用于Series\n",
    "\n",
    "df1 = pd.DataFrame(np.random.rand(16).reshape(4,4)*100,\n",
    "                   columns = ['a','b','c','d'])\n",
    "print(df1)"
   ]
  },
  {
   "cell_type": "code",
   "execution_count": 59,
   "id": "5642ca12-f938-4fe6-8acc-e6549c1ddcba",
   "metadata": {},
   "outputs": [
    {
     "name": "stdout",
     "output_type": "stream",
     "text": [
      "-----------------------升序------------------\n",
      "           a          b          c          d\n",
      "0  15.699211  57.382051  68.531862  27.622906\n",
      "1  36.697559  75.187689  25.172645  24.916907\n",
      "3  64.538470  38.507963  28.161702  66.102875\n",
      "2  87.382660  17.152470  92.523605  77.527907\n",
      "-----------------------降序-----------------\n",
      "           a          b          c          d\n",
      "2  87.382660  17.152470  92.523605  77.527907\n",
      "3  64.538470  38.507963  28.161702  66.102875\n",
      "1  36.697559  75.187689  25.172645  24.916907\n",
      "0  15.699211  57.382051  68.531862  27.622906\n"
     ]
    }
   ],
   "source": [
    "print('-----------------------升序------------------')\n",
    "print(df1.sort_values(['a'], ascending = True))  # 升序\n",
    "print('-----------------------降序-----------------')\n",
    "print(df1.sort_values(['a'], ascending = False))  # 降序"
   ]
  },
  {
   "cell_type": "markdown",
   "id": "61159f43-8773-4855-8622-f986a2dee640",
   "metadata": {},
   "source": [
    "**ascending参数：设置升序降序，默认升序**"
   ]
  },
  {
   "cell_type": "code",
   "execution_count": 60,
   "id": "d7f18558-a4fc-4e2c-945a-9bee63ae8f77",
   "metadata": {},
   "outputs": [
    {
     "name": "stdout",
     "output_type": "stream",
     "text": [
      "   a  b  c\n",
      "0  1  0  8\n",
      "1  1  1  7\n",
      "2  1  2  6\n",
      "3  1  3  5\n",
      "4  2  4  4\n",
      "5  2  5  3\n",
      "6  2  6  2\n",
      "7  2  7  1\n"
     ]
    }
   ],
   "source": [
    "df2 = pd.DataFrame({'a':[1,1,1,1,2,2,2,2],\n",
    "                  'b':list(range(8)),\n",
    "                  'c':list(range(8,0,-1))})\n",
    "print(df2)"
   ]
  },
  {
   "cell_type": "code",
   "execution_count": 61,
   "id": "5cf0ec22-e73a-4aa1-a3c8-04e1ed218a5d",
   "metadata": {},
   "outputs": [
    {
     "name": "stdout",
     "output_type": "stream",
     "text": [
      "   a  b  c\n",
      "3  1  3  5\n",
      "2  1  2  6\n",
      "1  1  1  7\n",
      "0  1  0  8\n",
      "7  2  7  1\n",
      "6  2  6  2\n",
      "5  2  5  3\n",
      "4  2  4  4\n"
     ]
    }
   ],
   "source": [
    "print(df2.sort_values(['a','c']))\n",
    "# 多列排序，按列顺序排序"
   ]
  },
  {
   "cell_type": "code",
   "execution_count": 64,
   "id": "6e7af737-5691-4b32-ba49-f08f1846d366",
   "metadata": {},
   "outputs": [
    {
     "name": "stdout",
     "output_type": "stream",
     "text": [
      "           a          b          c          d\n",
      "5  98.925322  37.946651  46.961225  29.832217\n",
      "4  21.062018  95.184815  76.635587  30.953178\n",
      "3  46.754811  55.276697   3.763255  95.706695\n",
      "2  28.580988  26.254512  23.404527  52.248219\n",
      "------------------按索引排序------------------\n",
      "           a          b          c          d\n",
      "2  28.580988  26.254512  23.404527  52.248219\n",
      "3  46.754811  55.276697   3.763255  95.706695\n",
      "4  21.062018  95.184815  76.635587  30.953178\n",
      "5  98.925322  37.946651  46.961225  29.832217\n",
      "           a          b          c          d\n",
      "h   9.523900   2.736344  51.681189  51.986340\n",
      "s  29.591364  21.192754  89.597373  30.115471\n",
      "x  25.971183   1.390069  99.909598  26.281789\n",
      "g  57.935728  81.019542  33.556127  42.709470\n",
      "           a          b          c          d\n",
      "g  57.935728  81.019542  33.556127  42.709470\n",
      "h   9.523900   2.736344  51.681189  51.986340\n",
      "s  29.591364  21.192754  89.597373  30.115471\n",
      "x  25.971183   1.390069  99.909598  26.281789\n"
     ]
    }
   ],
   "source": [
    "# 排序2 - 索引排序 .sort_index\n",
    "\n",
    "df1 = pd.DataFrame(np.random.rand(16).reshape(4,4)*100,\n",
    "                  index = [5,4,3,2],\n",
    "                   columns = ['a','b','c','d'])\n",
    "df2 = pd.DataFrame(np.random.rand(16).reshape(4,4)*100,\n",
    "                  index = ['h','s','x','g'],\n",
    "                   columns = ['a','b','c','d'])\n",
    "print(df1)\n",
    "print('------------------按索引排序------------------')\n",
    "print(df1.sort_index())\n",
    "print(df2)\n",
    "print(df2.sort_index())\n",
    "# 按照index排序\n",
    "# 默认 ascending=True, inplace=False"
   ]
  },
  {
   "cell_type": "code",
   "execution_count": null,
   "id": "1196934f-ce97-4e96-98ad-5dddb03947b9",
   "metadata": {},
   "outputs": [],
   "source": []
  }
 ],
 "metadata": {
  "kernelspec": {
   "display_name": "Python 3",
   "language": "python",
   "name": "python3"
  },
  "language_info": {
   "codemirror_mode": {
    "name": "ipython",
    "version": 3
   },
   "file_extension": ".py",
   "mimetype": "text/x-python",
   "name": "python",
   "nbconvert_exporter": "python",
   "pygments_lexer": "ipython3",
   "version": "3.8.8"
  },
  "toc-showcode": false,
  "toc-showmarkdowntxt": false,
  "toc-showtags": false
 },
 "nbformat": 4,
 "nbformat_minor": 5
}
