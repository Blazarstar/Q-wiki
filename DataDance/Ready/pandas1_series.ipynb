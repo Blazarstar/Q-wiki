{
 "cells": [
  {
   "cell_type": "markdown",
   "id": "8f11e1f1",
   "metadata": {},
   "source": [
    "## Pandas   01"
   ]
  },
  {
   "cell_type": "markdown",
   "id": "0baace68",
   "metadata": {},
   "source": [
    "引子：常用数据分析的库包括如 数值计算库：numpy、scipy；分析库：statsmodels和scikit-learn;可视化库：matplotlib"
   ]
  },
  {
   "cell_type": "code",
   "execution_count": null,
   "id": "6c2d48af",
   "metadata": {},
   "outputs": [],
   "source": [
    "# pandas的数据结构：Series   Dataframe"
   ]
  },
  {
   "cell_type": "code",
   "execution_count": 2,
   "id": "b5c35832",
   "metadata": {},
   "outputs": [],
   "source": [
    "import pandas as pd"
   ]
  },
  {
   "cell_type": "code",
   "execution_count": 3,
   "id": "182b20b8",
   "metadata": {},
   "outputs": [],
   "source": [
    "obj = pd.Series([4,7,-5,3])"
   ]
  },
  {
   "cell_type": "code",
   "execution_count": 4,
   "id": "86820e95",
   "metadata": {},
   "outputs": [
    {
     "data": {
      "text/plain": [
       "0    4\n",
       "1    7\n",
       "2   -5\n",
       "3    3\n",
       "dtype: int64"
      ]
     },
     "execution_count": 4,
     "metadata": {},
     "output_type": "execute_result"
    }
   ],
   "source": [
    "obj"
   ]
  },
  {
   "cell_type": "code",
   "execution_count": 5,
   "id": "5cfbb01b",
   "metadata": {},
   "outputs": [],
   "source": [
    "# Series的字符串表现形式为：索引在左边，值在右边。"
   ]
  },
  {
   "cell_type": "code",
   "execution_count": 6,
   "id": "dac89309",
   "metadata": {},
   "outputs": [
    {
     "data": {
      "text/plain": [
       "RangeIndex(start=0, stop=4, step=1)"
      ]
     },
     "execution_count": 6,
     "metadata": {},
     "output_type": "execute_result"
    }
   ],
   "source": [
    "obj.index"
   ]
  },
  {
   "cell_type": "code",
   "execution_count": 7,
   "id": "06bbd269",
   "metadata": {},
   "outputs": [],
   "source": [
    "# 如果更改索引的话，如下："
   ]
  },
  {
   "cell_type": "code",
   "execution_count": 9,
   "id": "64f506fc",
   "metadata": {},
   "outputs": [],
   "source": [
    "obj2 = pd.Series([4,7,2,3],index=['d','b','a','c'])"
   ]
  },
  {
   "cell_type": "code",
   "execution_count": 10,
   "id": "99786d78",
   "metadata": {},
   "outputs": [
    {
     "data": {
      "text/plain": [
       "d    4\n",
       "b    7\n",
       "a    2\n",
       "c    3\n",
       "dtype: int64"
      ]
     },
     "execution_count": 10,
     "metadata": {},
     "output_type": "execute_result"
    }
   ],
   "source": [
    "obj2"
   ]
  },
  {
   "cell_type": "code",
   "execution_count": 11,
   "id": "2a5f8e96",
   "metadata": {},
   "outputs": [],
   "source": [
    "# 所以 Pandas与Numpy的区别在这里也比较明显，即可以通过索引选取Series中的值"
   ]
  },
  {
   "cell_type": "code",
   "execution_count": 12,
   "id": "a1cb0ed0",
   "metadata": {},
   "outputs": [],
   "source": [
    "# 注意，使用Numpy函数或类似运算（过滤、标量乘法、数学函数等）都会保留索引值链接"
   ]
  },
  {
   "cell_type": "code",
   "execution_count": 13,
   "id": "73a22834",
   "metadata": {},
   "outputs": [
    {
     "data": {
      "text/plain": [
       "d     8\n",
       "b    14\n",
       "a     4\n",
       "c     6\n",
       "dtype: int64"
      ]
     },
     "execution_count": 13,
     "metadata": {},
     "output_type": "execute_result"
    }
   ],
   "source": [
    "obj2 * 2"
   ]
  },
  {
   "cell_type": "code",
   "execution_count": 14,
   "id": "84fe3408",
   "metadata": {},
   "outputs": [],
   "source": [
    "import numpy as np"
   ]
  },
  {
   "cell_type": "code",
   "execution_count": 15,
   "id": "35e3c078",
   "metadata": {},
   "outputs": [
    {
     "data": {
      "text/plain": [
       "d      54.598150\n",
       "b    1096.633158\n",
       "a       7.389056\n",
       "c      20.085537\n",
       "dtype: float64"
      ]
     },
     "execution_count": 15,
     "metadata": {},
     "output_type": "execute_result"
    }
   ],
   "source": [
    "np.exp(obj2)  # 以自然常数e为底的指数函数"
   ]
  },
  {
   "cell_type": "code",
   "execution_count": 16,
   "id": "b0a9772b",
   "metadata": {},
   "outputs": [],
   "source": [
    "# Series本质也是索引值和数据值关系的映射，所以若数据被存放在python字典中时也可以通过字典来创建Series"
   ]
  },
  {
   "cell_type": "code",
   "execution_count": 21,
   "id": "fe62e111",
   "metadata": {},
   "outputs": [],
   "source": [
    "data = {'a':3306, 'b':8080, 'c':8081}\n",
    "obj3 = pd.Series(data)"
   ]
  },
  {
   "cell_type": "code",
   "execution_count": 22,
   "id": "cc39ee4c",
   "metadata": {},
   "outputs": [
    {
     "data": {
      "text/plain": [
       "a    3306\n",
       "b    8080\n",
       "c    8081\n",
       "dtype: int64"
      ]
     },
     "execution_count": 22,
     "metadata": {},
     "output_type": "execute_result"
    }
   ],
   "source": [
    "obj3"
   ]
  },
  {
   "cell_type": "code",
   "execution_count": 23,
   "id": "f63b3ecc",
   "metadata": {},
   "outputs": [],
   "source": [
    "# NAN指缺失值，isnull函数和notnull函数可用于检测缺失数据，返回类型是布尔型"
   ]
  },
  {
   "cell_type": "code",
   "execution_count": null,
   "id": "ca252a05",
   "metadata": {},
   "outputs": [],
   "source": [
    "# Series最重要的功能之一是： 根据运算的索引标签自动对齐数据"
   ]
  },
  {
   "cell_type": "code",
   "execution_count": 24,
   "id": "34d6b326",
   "metadata": {},
   "outputs": [
    {
     "data": {
      "text/plain": [
       "a    3308.0\n",
       "b    8087.0\n",
       "c    8084.0\n",
       "d       NaN\n",
       "dtype: float64"
      ]
     },
     "execution_count": 24,
     "metadata": {},
     "output_type": "execute_result"
    }
   ],
   "source": [
    "obj3+obj2"
   ]
  },
  {
   "cell_type": "code",
   "execution_count": 25,
   "id": "50639ec7",
   "metadata": {},
   "outputs": [],
   "source": [
    "# 关于数据对齐的功能，可以认为是类似数据库中join的操作"
   ]
  },
  {
   "cell_type": "code",
   "execution_count": 26,
   "id": "85da1345",
   "metadata": {},
   "outputs": [],
   "source": [
    "# Series对象本身及其索引都有一个name属性，该属性跟pandas其他的关键功能关系非常密切"
   ]
  },
  {
   "cell_type": "code",
   "execution_count": 27,
   "id": "2ac48c78",
   "metadata": {},
   "outputs": [
    {
     "data": {
      "text/plain": [
       "a    3306\n",
       "b    8080\n",
       "c    8081\n",
       "Name: cc, dtype: int64"
      ]
     },
     "execution_count": 27,
     "metadata": {},
     "output_type": "execute_result"
    }
   ],
   "source": [
    "obj3.name = 'cc'\n",
    "obj.index.name = 'dd'\n",
    "obj3"
   ]
  },
  {
   "cell_type": "code",
   "execution_count": null,
   "id": "affd17ba",
   "metadata": {},
   "outputs": [],
   "source": [
    "# 数据分析包括pandas的使用其实在实际业务中用起来学习会比较快\n",
    "# 因为当面对实际问题的时候，往往会去思考需要什么样的数据，以及如何处理可以得到这样的数据\n",
    "# 带着问题去翻书去找答案，映像也会更深刻一些"
   ]
  },
  {
   "cell_type": "code",
   "execution_count": null,
   "id": "6f1c68e7",
   "metadata": {},
   "outputs": [],
   "source": []
  },
  {
   "cell_type": "code",
   "execution_count": null,
   "id": "cd9eba70",
   "metadata": {},
   "outputs": [],
   "source": []
  }
 ],
 "metadata": {
  "kernelspec": {
   "display_name": "Python 3",
   "language": "python",
   "name": "python3"
  },
  "language_info": {
   "codemirror_mode": {
    "name": "ipython",
    "version": 3
   },
   "file_extension": ".py",
   "mimetype": "text/x-python",
   "name": "python",
   "nbconvert_exporter": "python",
   "pygments_lexer": "ipython3",
   "version": "3.8.8"
  }
 },
 "nbformat": 4,
 "nbformat_minor": 5
}
