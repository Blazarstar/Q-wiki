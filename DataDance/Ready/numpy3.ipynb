{
 "cells": [
  {
   "cell_type": "markdown",
   "id": "fd368829",
   "metadata": {},
   "source": [
    "利用numpy进行数据处理"
   ]
  },
  {
   "cell_type": "code",
   "execution_count": 4,
   "id": "b8361888",
   "metadata": {},
   "outputs": [],
   "source": [
    "# 数据处理的过程可以用数组表达式的过程表述，其中用数组表达式代替循环的做法通常被称为矢量化。\n",
    "# 我记得涛涛之前说过矢量化会提高运算速度，不过是结合线性代数，但本质也是矩阵的计算，且往后继续看看~"
   ]
  },
  {
   "cell_type": "code",
   "execution_count": 5,
   "id": "d2a93387",
   "metadata": {},
   "outputs": [],
   "source": [
    "import numpy as np"
   ]
  },
  {
   "cell_type": "code",
   "execution_count": 2,
   "id": "de8a0f5e",
   "metadata": {},
   "outputs": [],
   "source": [
    "# 就像在numpy的索引和切片中提到的那样，广播是争对矢量化计算的强大手段。"
   ]
  },
  {
   "cell_type": "code",
   "execution_count": 6,
   "id": "3c9e163a",
   "metadata": {},
   "outputs": [],
   "source": [
    "points = np.arange(-5,5,0.01)"
   ]
  },
  {
   "cell_type": "code",
   "execution_count": 7,
   "id": "01f4f2c4",
   "metadata": {},
   "outputs": [],
   "source": [
    "xs,ys = np.meshgrid(points,points)    # meshgrid函数接受两个一维数组，并产生两个二维矩阵。想象二维空间的坐标系~"
   ]
  },
  {
   "cell_type": "code",
   "execution_count": 8,
   "id": "dd5f2100",
   "metadata": {},
   "outputs": [
    {
     "data": {
      "text/plain": [
       "array([[-5.  , -5.  , -5.  , ..., -5.  , -5.  , -5.  ],\n",
       "       [-4.99, -4.99, -4.99, ..., -4.99, -4.99, -4.99],\n",
       "       [-4.98, -4.98, -4.98, ..., -4.98, -4.98, -4.98],\n",
       "       ...,\n",
       "       [ 4.97,  4.97,  4.97, ...,  4.97,  4.97,  4.97],\n",
       "       [ 4.98,  4.98,  4.98, ...,  4.98,  4.98,  4.98],\n",
       "       [ 4.99,  4.99,  4.99, ...,  4.99,  4.99,  4.99]])"
      ]
     },
     "execution_count": 8,
     "metadata": {},
     "output_type": "execute_result"
    }
   ],
   "source": [
    "ys"
   ]
  },
  {
   "cell_type": "code",
   "execution_count": 9,
   "id": "a7eea479",
   "metadata": {},
   "outputs": [],
   "source": [
    "z = np.sqrt(xs ** 2 + ys ** 2)"
   ]
  },
  {
   "cell_type": "code",
   "execution_count": 10,
   "id": "07fec4ab",
   "metadata": {},
   "outputs": [
    {
     "data": {
      "text/plain": [
       "array([[7.07106781, 7.06400028, 7.05693985, ..., 7.04988652, 7.05693985,\n",
       "        7.06400028],\n",
       "       [7.06400028, 7.05692568, 7.04985815, ..., 7.04279774, 7.04985815,\n",
       "        7.05692568],\n",
       "       [7.05693985, 7.04985815, 7.04278354, ..., 7.03571603, 7.04278354,\n",
       "        7.04985815],\n",
       "       ...,\n",
       "       [7.04988652, 7.04279774, 7.03571603, ..., 7.0286414 , 7.03571603,\n",
       "        7.04279774],\n",
       "       [7.05693985, 7.04985815, 7.04278354, ..., 7.03571603, 7.04278354,\n",
       "        7.04985815],\n",
       "       [7.06400028, 7.05692568, 7.04985815, ..., 7.04279774, 7.04985815,\n",
       "        7.05692568]])"
      ]
     },
     "execution_count": 10,
     "metadata": {},
     "output_type": "execute_result"
    }
   ],
   "source": [
    "z"
   ]
  },
  {
   "cell_type": "code",
   "execution_count": 11,
   "id": "b4fc47a9",
   "metadata": {},
   "outputs": [],
   "source": [
    "# 以上，就完成了我们所说的二维空间求两点间的距离。"
   ]
  },
  {
   "cell_type": "code",
   "execution_count": 12,
   "id": "6b8002b6",
   "metadata": {},
   "outputs": [],
   "source": [
    "import matplotlib.pyplot as plt"
   ]
  },
  {
   "cell_type": "code",
   "execution_count": 13,
   "id": "082b3af1",
   "metadata": {},
   "outputs": [],
   "source": [
    "# 可以考虑实现可视化  ，这里先跳过，之后会涉及"
   ]
  },
  {
   "cell_type": "markdown",
   "id": "29c283e8",
   "metadata": {},
   "source": [
    "将条件逻辑表述为数组运算"
   ]
  },
  {
   "cell_type": "code",
   "execution_count": 14,
   "id": "09e4975e",
   "metadata": {},
   "outputs": [],
   "source": [
    "# numpy.where : 三元表达式 x if condition else y 的矢量化版本  //  目的：主要是为了适应于大数组的处理速度；适应多维数组"
   ]
  },
  {
   "cell_type": "code",
   "execution_count": 15,
   "id": "b4a6ea10",
   "metadata": {},
   "outputs": [],
   "source": [
    "# 在数据分析中，where通常用于根据另一个数组而产生一个新的数组。\n",
    "\n",
    "# 例子如下： \n",
    "\n",
    "# 有一个随机数据矩阵，将所有正值替换为2，所有负值替换为-2"
   ]
  },
  {
   "cell_type": "code",
   "execution_count": 16,
   "id": "172fc546",
   "metadata": {},
   "outputs": [
    {
     "data": {
      "text/plain": [
       "array([[ 0.52635227,  0.40356299, -0.246191  ,  0.50289737],\n",
       "       [-0.69235021,  1.30338582, -1.15863794,  0.69234582],\n",
       "       [ 2.52323325,  0.59171368, -1.08269895,  0.18208746],\n",
       "       [ 1.80719892, -0.51366124, -1.45052261,  2.64063512]])"
      ]
     },
     "execution_count": 16,
     "metadata": {},
     "output_type": "execute_result"
    }
   ],
   "source": [
    "arr = np.random.randn(4,4)\n",
    "arr"
   ]
  },
  {
   "cell_type": "code",
   "execution_count": 17,
   "id": "37e7d06b",
   "metadata": {},
   "outputs": [
    {
     "data": {
      "text/plain": [
       "array([[ True,  True, False,  True],\n",
       "       [False,  True, False,  True],\n",
       "       [ True,  True, False,  True],\n",
       "       [ True, False, False,  True]])"
      ]
     },
     "execution_count": 17,
     "metadata": {},
     "output_type": "execute_result"
    }
   ],
   "source": [
    "arr > 0"
   ]
  },
  {
   "cell_type": "code",
   "execution_count": 18,
   "id": "7668ead9",
   "metadata": {},
   "outputs": [
    {
     "data": {
      "text/plain": [
       "array([[ 2,  2, -2,  2],\n",
       "       [-2,  2, -2,  2],\n",
       "       [ 2,  2, -2,  2],\n",
       "       [ 2, -2, -2,  2]])"
      ]
     },
     "execution_count": 18,
     "metadata": {},
     "output_type": "execute_result"
    }
   ],
   "source": [
    "np.where(arr>0,2,-2)"
   ]
  },
  {
   "cell_type": "code",
   "execution_count": 19,
   "id": "15b5f028",
   "metadata": {},
   "outputs": [],
   "source": [
    "# 上面这个例子用了where果然好简洁>-<"
   ]
  },
  {
   "cell_type": "markdown",
   "id": "1dac9f9c",
   "metadata": {},
   "source": [
    "一些数学和统计方法"
   ]
  },
  {
   "cell_type": "code",
   "execution_count": 21,
   "id": "04ce9019",
   "metadata": {},
   "outputs": [],
   "source": [
    "# numpy可以对整个数组或某个轴向的数据进行统计计算，sum、mean以及标准差std等聚合计算，\n",
    "# 其实既可以当作数组的实例方法调用，也可以当作顶级Numpy函数使用。"
   ]
  },
  {
   "cell_type": "code",
   "execution_count": 22,
   "id": "c0fb8640",
   "metadata": {},
   "outputs": [],
   "source": [
    "# 如下例的聚类统计："
   ]
  },
  {
   "cell_type": "code",
   "execution_count": 23,
   "id": "eedcf6b3",
   "metadata": {},
   "outputs": [
    {
     "data": {
      "text/plain": [
       "array([[-0.34366314,  0.09978132,  1.55084618,  0.08928583],\n",
       "       [ 0.67567874, -0.78583877,  1.21251144, -1.36262789],\n",
       "       [ 1.56597975,  0.88860566, -1.30606968,  0.47220032],\n",
       "       [ 1.03396557, -2.3816661 , -1.83662005, -1.05078444],\n",
       "       [ 0.58332074,  1.18365386,  0.43878257, -0.94401639]])"
      ]
     },
     "execution_count": 23,
     "metadata": {},
     "output_type": "execute_result"
    }
   ],
   "source": [
    "arr = np.random.randn(5,4)\n",
    "arr"
   ]
  },
  {
   "cell_type": "code",
   "execution_count": 24,
   "id": "9d9bc37a",
   "metadata": {},
   "outputs": [
    {
     "data": {
      "text/plain": [
       "-0.010833725650257342"
      ]
     },
     "execution_count": 24,
     "metadata": {},
     "output_type": "execute_result"
    }
   ],
   "source": [
    "arr.mean()\n",
    "# 或者可以写成是：np.mean(arr)     \n",
    "# mean函数是计算行的平均值的意思"
   ]
  },
  {
   "cell_type": "code",
   "execution_count": 27,
   "id": "a41865f4",
   "metadata": {},
   "outputs": [
    {
     "data": {
      "text/plain": [
       "-0.21667451300514684"
      ]
     },
     "execution_count": 27,
     "metadata": {},
     "output_type": "execute_result"
    }
   ],
   "source": [
    "arr.sum()"
   ]
  },
  {
   "cell_type": "markdown",
   "id": "a40d196c",
   "metadata": {},
   "source": [
    "对于布尔型数组的办法"
   ]
  },
  {
   "cell_type": "code",
   "execution_count": 28,
   "id": "c7fa1d5c",
   "metadata": {},
   "outputs": [],
   "source": [
    "arr = np.random.randn(100)"
   ]
  },
  {
   "cell_type": "code",
   "execution_count": 30,
   "id": "792e7a4b",
   "metadata": {},
   "outputs": [
    {
     "data": {
      "text/plain": [
       "47"
      ]
     },
     "execution_count": 30,
     "metadata": {},
     "output_type": "execute_result"
    }
   ],
   "source": [
    "(arr > 0).sum()"
   ]
  },
  {
   "cell_type": "code",
   "execution_count": null,
   "id": "0050f95d",
   "metadata": {},
   "outputs": [],
   "source": [
    "# 两种方法：\n",
    "# any 用于测试数组中是否存在一个或多个True\n",
    "# all用于检查数组中所有值是否都是True"
   ]
  },
  {
   "cell_type": "code",
   "execution_count": 31,
   "id": "1164a00a",
   "metadata": {},
   "outputs": [],
   "source": [
    "bools = np.array([False,False,True,False])"
   ]
  },
  {
   "cell_type": "code",
   "execution_count": 32,
   "id": "83c2d199",
   "metadata": {},
   "outputs": [
    {
     "data": {
      "text/plain": [
       "True"
      ]
     },
     "execution_count": 32,
     "metadata": {},
     "output_type": "execute_result"
    }
   ],
   "source": [
    "bools.any()"
   ]
  },
  {
   "cell_type": "code",
   "execution_count": 33,
   "id": "11ad03fe",
   "metadata": {},
   "outputs": [
    {
     "data": {
      "text/plain": [
       "False"
      ]
     },
     "execution_count": 33,
     "metadata": {},
     "output_type": "execute_result"
    }
   ],
   "source": [
    "bools.all()"
   ]
  },
  {
   "cell_type": "markdown",
   "id": "480768b4",
   "metadata": {},
   "source": [
    "排序"
   ]
  },
  {
   "cell_type": "code",
   "execution_count": 34,
   "id": "075cded5",
   "metadata": {},
   "outputs": [],
   "source": [
    "# 此处与Python内置的列表类型一样，Numpy数组也可以通过sort方法就地排序："
   ]
  },
  {
   "cell_type": "code",
   "execution_count": 39,
   "id": "cdc2821d",
   "metadata": {},
   "outputs": [],
   "source": [
    "arr = np.random.randn(6)"
   ]
  },
  {
   "cell_type": "code",
   "execution_count": 40,
   "id": "14648b62",
   "metadata": {},
   "outputs": [
    {
     "data": {
      "text/plain": [
       "array([-0.17603546, -0.68607911, -0.03090951,  0.54257559, -1.0048607 ,\n",
       "       -0.0912589 ])"
      ]
     },
     "execution_count": 40,
     "metadata": {},
     "output_type": "execute_result"
    }
   ],
   "source": [
    "arr"
   ]
  },
  {
   "cell_type": "code",
   "execution_count": 41,
   "id": "05eed0c5",
   "metadata": {},
   "outputs": [],
   "source": [
    "\n",
    "arr.sort()"
   ]
  },
  {
   "cell_type": "code",
   "execution_count": 42,
   "id": "249db44a",
   "metadata": {},
   "outputs": [
    {
     "data": {
      "text/plain": [
       "array([-1.0048607 , -0.68607911, -0.17603546, -0.0912589 , -0.03090951,\n",
       "        0.54257559])"
      ]
     },
     "execution_count": 42,
     "metadata": {},
     "output_type": "execute_result"
    }
   ],
   "source": [
    "arr"
   ]
  },
  {
   "cell_type": "code",
   "execution_count": null,
   "id": "651c6f0c",
   "metadata": {},
   "outputs": [],
   "source": [
    "# 多维数组可以在任何一个轴向上进行排序，只需将轴编号传给sort即可。"
   ]
  },
  {
   "cell_type": "code",
   "execution_count": null,
   "id": "d2ac3d2a",
   "metadata": {},
   "outputs": [],
   "source": [
    "# 这里有个点需要注意：np.sort返回的是数组的已排序的副本。"
   ]
  },
  {
   "cell_type": "markdown",
   "id": "efb3202f",
   "metadata": {},
   "source": [
    "用于数组的文件输入输出"
   ]
  },
  {
   "cell_type": "code",
   "execution_count": 43,
   "id": "4e17d601",
   "metadata": {},
   "outputs": [],
   "source": [
    "# numpy能够读写磁盘上的文本数据或二进制数据，这一小节只讨论Numpy的内置二进制格式，因为pandas在处理文本和表格数据的时候效果更好。"
   ]
  },
  {
   "cell_type": "code",
   "execution_count": 44,
   "id": "7deae74a",
   "metadata": {},
   "outputs": [],
   "source": [
    "arr = np.arange(10)"
   ]
  },
  {
   "cell_type": "code",
   "execution_count": 45,
   "id": "601e54c6",
   "metadata": {},
   "outputs": [],
   "source": [
    "np.save('some_array',arr)"
   ]
  },
  {
   "cell_type": "code",
   "execution_count": 46,
   "id": "7ce650a8",
   "metadata": {},
   "outputs": [
    {
     "data": {
      "text/plain": [
       "array([0, 1, 2, 3, 4, 5, 6, 7, 8, 9])"
      ]
     },
     "execution_count": 46,
     "metadata": {},
     "output_type": "execute_result"
    }
   ],
   "source": [
    "np.load('some_array.npy')"
   ]
  },
  {
   "cell_type": "markdown",
   "id": "c1b0ae05",
   "metadata": {},
   "source": [
    "线性代数"
   ]
  },
  {
   "cell_type": "markdown",
   "id": "0f39b2e8",
   "metadata": {},
   "source": [
    "矩阵乘法、矩阵分解、行列式及其他"
   ]
  },
  {
   "cell_type": "code",
   "execution_count": 47,
   "id": "ccabbf4d",
   "metadata": {},
   "outputs": [],
   "source": [
    "#Numpy提供了用于矩阵乘法的dot函数"
   ]
  },
  {
   "cell_type": "code",
   "execution_count": 48,
   "id": "83dfb90f",
   "metadata": {},
   "outputs": [],
   "source": [
    "x = np.array([[1,2,3],[4,5,6]])\n",
    "y = np.array([[6,23],[-1,7],[8,9]])"
   ]
  },
  {
   "cell_type": "code",
   "execution_count": 50,
   "id": "0886337e",
   "metadata": {},
   "outputs": [
    {
     "data": {
      "text/plain": [
       "array([[1, 2, 3],\n",
       "       [4, 5, 6]])"
      ]
     },
     "execution_count": 50,
     "metadata": {},
     "output_type": "execute_result"
    }
   ],
   "source": [
    "x"
   ]
  },
  {
   "cell_type": "code",
   "execution_count": 51,
   "id": "ec278542",
   "metadata": {},
   "outputs": [
    {
     "data": {
      "text/plain": [
       "array([[ 6, 23],\n",
       "       [-1,  7],\n",
       "       [ 8,  9]])"
      ]
     },
     "execution_count": 51,
     "metadata": {},
     "output_type": "execute_result"
    }
   ],
   "source": [
    "y"
   ]
  },
  {
   "cell_type": "code",
   "execution_count": 52,
   "id": "d7160bcd",
   "metadata": {},
   "outputs": [
    {
     "data": {
      "text/plain": [
       "array([[ 28,  64],\n",
       "       [ 67, 181]])"
      ]
     },
     "execution_count": 52,
     "metadata": {},
     "output_type": "execute_result"
    }
   ],
   "source": [
    "x.dot(y)"
   ]
  },
  {
   "cell_type": "code",
   "execution_count": 53,
   "id": "799c3a83",
   "metadata": {},
   "outputs": [],
   "source": [
    "# x.dot(y) = np.dot(x,y)"
   ]
  },
  {
   "cell_type": "code",
   "execution_count": 54,
   "id": "584fb25a",
   "metadata": {},
   "outputs": [],
   "source": [
    "#   @ 表示中缀运算符，进行矩阵乘法"
   ]
  },
  {
   "cell_type": "code",
   "execution_count": 55,
   "id": "399586e4",
   "metadata": {},
   "outputs": [
    {
     "data": {
      "text/plain": [
       "array([ 6., 15.])"
      ]
     },
     "execution_count": 55,
     "metadata": {},
     "output_type": "execute_result"
    }
   ],
   "source": [
    "x @ np.ones(3)"
   ]
  },
  {
   "cell_type": "code",
   "execution_count": 56,
   "id": "f854af8a",
   "metadata": {},
   "outputs": [],
   "source": [
    "##  numpy.linalg有一组标准的矩阵分解运算以及诸如求逆和行列式等的东西。与R和MATLB使用的是相同的行业标准线性代数库。"
   ]
  },
  {
   "cell_type": "code",
   "execution_count": 57,
   "id": "b5984ef0",
   "metadata": {},
   "outputs": [],
   "source": [
    "## 伪随机数生产，当需要产生大量样本值时，numpy.random比python内置的random模块要强不止一个数量级"
   ]
  },
  {
   "cell_type": "code",
   "execution_count": 58,
   "id": "5b6555d5",
   "metadata": {},
   "outputs": [],
   "source": [
    "# 例子： 随机漫步"
   ]
  },
  {
   "cell_type": "code",
   "execution_count": 60,
   "id": "a5a669d5",
   "metadata": {},
   "outputs": [],
   "source": [
    "import random \n",
    "\n",
    "position = 0\n",
    "walk = [position]\n",
    "steps = 1000\n",
    "for i in range(steps):\n",
    "    step = 1 if random.randint(0,1) else -1\n",
    "    position += step\n",
    "    walk.append(position)"
   ]
  },
  {
   "cell_type": "code",
   "execution_count": 61,
   "id": "05e8c29c",
   "metadata": {},
   "outputs": [
    {
     "data": {
      "text/plain": [
       "[<matplotlib.lines.Line2D at 0x254ff517bb0>]"
      ]
     },
     "execution_count": 61,
     "metadata": {},
     "output_type": "execute_result"
    },
    {
     "data": {
      "image/png": "[encoded data removed]",
      "text/plain": [
       "<Figure size 432x288 with 1 Axes>"
      ]
     },
     "metadata": {
      "needs_background": "light"
     },
     "output_type": "display_data"
    }
   ],
   "source": [
    "plt.plot(walk[:100])"
   ]
  },
  {
   "cell_type": "code",
   "execution_count": 62,
   "id": "e45d05f0",
   "metadata": {},
   "outputs": [
    {
     "ename": "AttributeError",
     "evalue": "'list' object has no attribute 'min'",
     "output_type": "error",
     "traceback": [
      "\u001b[1;31m---------------------------------------------------------------------------\u001b[0m",
      "\u001b[1;31mAttributeError\u001b[0m                            Traceback (most recent call last)",
      "\u001b[1;32m<ipython-input-62-02c76156ace8>\u001b[0m in \u001b[0;36m<module>\u001b[1;34m\u001b[0m\n\u001b[1;32m----> 1\u001b[1;33m \u001b[0mwalk\u001b[0m\u001b[1;33m.\u001b[0m\u001b[0mmin\u001b[0m\u001b[1;33m(\u001b[0m\u001b[1;33m)\u001b[0m\u001b[1;33m\u001b[0m\u001b[1;33m\u001b[0m\u001b[0m\n\u001b[0m",
      "\u001b[1;31mAttributeError\u001b[0m: 'list' object has no attribute 'min'"
     ]
    }
   ],
   "source": [
    "# 关于随机漫步这个例子，感觉学问很大。应该属于一个复杂的统计任务，可以应用的范围也很广，比如抛硬币等等，延申下去就是概率论的知识了。"
   ]
  },
  {
   "cell_type": "markdown",
   "id": "d6f12eef",
   "metadata": {},
   "source": [
    "若要一次模拟多个随机漫步"
   ]
  },
  {
   "cell_type": "code",
   "execution_count": 65,
   "id": "61fbb166",
   "metadata": {},
   "outputs": [],
   "source": [
    "nwalks = 5000\n",
    "nsteps = 1000\n",
    "draws = np.random.randint(0,2,size=(nwalks,nsteps))\n",
    "steps = np.where(draws>0,1,-1)"
   ]
  },
  {
   "cell_type": "code",
   "execution_count": 66,
   "id": "04ce1485",
   "metadata": {},
   "outputs": [],
   "source": [
    "walks = steps.cumsum(1)"
   ]
  },
  {
   "cell_type": "code",
   "execution_count": 67,
   "id": "d3b99f95",
   "metadata": {},
   "outputs": [
    {
     "data": {
      "text/plain": [
       "array([[  1,   2,   1, ...,  -8,  -9,  -8],\n",
       "       [  1,   2,   1, ...,  14,  13,  14],\n",
       "       [  1,   0,  -1, ..., -50, -51, -52],\n",
       "       ...,\n",
       "       [  1,   0,  -1, ...,  10,   9,  10],\n",
       "       [ -1,   0,   1, ..., -40, -41, -42],\n",
       "       [  1,   0,   1, ..., -34, -33, -32]], dtype=int32)"
      ]
     },
     "execution_count": 67,
     "metadata": {},
     "output_type": "execute_result"
    }
   ],
   "source": [
    "walks"
   ]
  },
  {
   "cell_type": "code",
   "execution_count": 68,
   "id": "e86625c6",
   "metadata": {},
   "outputs": [
    {
     "data": {
      "text/plain": [
       "106"
      ]
     },
     "execution_count": 68,
     "metadata": {},
     "output_type": "execute_result"
    }
   ],
   "source": [
    "walks.max()"
   ]
  },
  {
   "cell_type": "code",
   "execution_count": 69,
   "id": "455a6ab9",
   "metadata": {},
   "outputs": [
    {
     "data": {
      "text/plain": [
       "-123"
      ]
     },
     "execution_count": 69,
     "metadata": {},
     "output_type": "execute_result"
    }
   ],
   "source": [
    "walks.min()"
   ]
  },
  {
   "cell_type": "code",
   "execution_count": 71,
   "id": "4a0003e6",
   "metadata": {},
   "outputs": [
    {
     "name": "stdout",
     "output_type": "stream",
     "text": [
      "[False False  True ...  True  True  True]\n",
      "3409\n",
      "[[  1   0  -1 ... -50 -51 -52]\n",
      " [ -1  -2  -3 ...  44  43  44]\n",
      " [ -1  -2  -3 ...  76  77  76]\n",
      " ...\n",
      " [  1   0  -1 ...  10   9  10]\n",
      " [ -1   0   1 ... -40 -41 -42]\n",
      " [  1   0   1 ... -34 -33 -32]]\n",
      "[[ 1  0  1 ... 50 51 52]\n",
      " [ 1  2  3 ... 44 43 44]\n",
      " [ 1  2  3 ... 76 77 76]\n",
      " ...\n",
      " [ 1  0  1 ... 10  9 10]\n",
      " [ 1  0  1 ... 40 41 42]\n",
      " [ 1  0  1 ... 34 33 32]]\n",
      "[417 391 341 ... 253 289 347]\n",
      "499.8823701965386\n"
     ]
    }
   ],
   "source": [
    "hits30 = (np.abs(walks)>=30).any(1) #any(1)，对每一行按指定条件进行判断，条件为>=30，当每一行中只要存在1个>=30的数，即返回True，否则当所有值都小于30时，返回False\n",
    "print(hits30)    #可以看出是一个布尔型列表\n",
    "print(hits30.sum())  #True相当于1，即对1的数量求和\n",
    "print(walks[hits30])     \n",
    "print(np.abs(walks[hits30]))\n",
    "crossing_times = (np.abs(walks[hits30])>=30).argmax(1)  #hits30列表中True对应在walks中的列表选出来，然后对其中的元素取绝对值。再对前面的语句用argmax(1)，即提取每行中首次出现绝对值>=30的元素索引值。\n",
    "print(crossing_times)    #返回一个列表，列表中的每一个元素由每行中首次出现绝对值>=30的索引值构成\n",
    "print(crossing_times.mean())"
   ]
  },
  {
   "cell_type": "code",
   "execution_count": null,
   "id": "e6ede499",
   "metadata": {},
   "outputs": [],
   "source": [
    "#  numpy先到这里，之后会有对numpy特点的深入挖掘~"
   ]
  },
  {
   "cell_type": "code",
   "execution_count": null,
   "id": "47246c37",
   "metadata": {},
   "outputs": [],
   "source": [
    "# 双十一没控制住T-T，买买买忘记上传github,哭惹。。。。随机漫步明天找找别人的深入分析再发散一下，完了写个总结。"
   ]
  }
 ],
 "metadata": {
  "kernelspec": {
   "display_name": "Python 3",
   "language": "python",
   "name": "python3"
  },
  "language_info": {
   "codemirror_mode": {
    "name": "ipython",
    "version": 3
   },
   "file_extension": ".py",
   "mimetype": "text/x-python",
   "name": "python",
   "nbconvert_exporter": "python",
   "pygments_lexer": "ipython3",
   "version": "3.8.8"
  }
 },
 "nbformat": 4,
 "nbformat_minor": 5
}
