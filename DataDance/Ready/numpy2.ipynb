{
 "cells": [
  {
   "cell_type": "code",
   "execution_count": 4,
   "id": "5d0ec20b",
   "metadata": {},
   "outputs": [],
   "source": [
    "# 最近业务真切的遇到了数据分析的问题，来劲了，立马学习！"
   ]
  },
  {
   "cell_type": "code",
   "execution_count": 5,
   "id": "7dd06bfb",
   "metadata": {},
   "outputs": [],
   "source": [
    "import numpy as np"
   ]
  },
  {
   "cell_type": "markdown",
   "id": "9c1331d4",
   "metadata": {},
   "source": [
    "Numpy 的基本索引和切片"
   ]
  },
  {
   "cell_type": "code",
   "execution_count": 2,
   "id": "0295c0b4",
   "metadata": {},
   "outputs": [],
   "source": [
    "# 本质上可以按照python的列表去理解"
   ]
  },
  {
   "cell_type": "code",
   "execution_count": 7,
   "id": "d1d7f506",
   "metadata": {},
   "outputs": [],
   "source": [
    "arr = np.arange(10)"
   ]
  },
  {
   "cell_type": "code",
   "execution_count": 8,
   "id": "fb0312be",
   "metadata": {},
   "outputs": [
    {
     "data": {
      "text/plain": [
       "array([0, 1, 2, 3, 4, 5, 6, 7, 8, 9])"
      ]
     },
     "execution_count": 8,
     "metadata": {},
     "output_type": "execute_result"
    }
   ],
   "source": [
    "arr"
   ]
  },
  {
   "cell_type": "code",
   "execution_count": 9,
   "id": "9d57e5f9",
   "metadata": {},
   "outputs": [
    {
     "data": {
      "text/plain": [
       "array([5, 6, 7])"
      ]
     },
     "execution_count": 9,
     "metadata": {},
     "output_type": "execute_result"
    }
   ],
   "source": [
    "arr[5:8]"
   ]
  },
  {
   "cell_type": "code",
   "execution_count": 10,
   "id": "bf471f4d",
   "metadata": {},
   "outputs": [],
   "source": [
    "arr[5:8]=12"
   ]
  },
  {
   "cell_type": "code",
   "execution_count": 11,
   "id": "1bb252b3",
   "metadata": {},
   "outputs": [
    {
     "data": {
      "text/plain": [
       "array([ 0,  1,  2,  3,  4, 12, 12, 12,  8,  9])"
      ]
     },
     "execution_count": 11,
     "metadata": {},
     "output_type": "execute_result"
    }
   ],
   "source": [
    "arr"
   ]
  },
  {
   "cell_type": "code",
   "execution_count": 13,
   "id": "600768ca",
   "metadata": {},
   "outputs": [],
   "source": [
    "# 把标量值赋值给切片的时候，该值会自动传播（广播）到整个选区。和列表不同的地方在于，数据不会被复制，而是直接作用于源数组。\n",
    "# 这样设计的原因来自于Numpy本身的定位，就是服务于处理大数据的，因此如果对于大数据的复制而言会带来巨大的性能和内存开销问题。"
   ]
  },
  {
   "cell_type": "code",
   "execution_count": 14,
   "id": "8f6ed4fb",
   "metadata": {},
   "outputs": [],
   "source": [
    "arr2 = np.array([[1,2,3],[4,5,6],[7,8,9]]) "
   ]
  },
  {
   "cell_type": "code",
   "execution_count": 15,
   "id": "bf04c6bc",
   "metadata": {},
   "outputs": [
    {
     "data": {
      "text/plain": [
       "array([7, 8, 9])"
      ]
     },
     "execution_count": 15,
     "metadata": {},
     "output_type": "execute_result"
    }
   ],
   "source": [
    "arr2[2]"
   ]
  },
  {
   "cell_type": "code",
   "execution_count": 16,
   "id": "769ea641",
   "metadata": {},
   "outputs": [],
   "source": [
    "# 如果要取各个元素值，有两种方式，如下："
   ]
  },
  {
   "cell_type": "code",
   "execution_count": 17,
   "id": "c10bc8e9",
   "metadata": {},
   "outputs": [
    {
     "data": {
      "text/plain": [
       "9"
      ]
     },
     "execution_count": 17,
     "metadata": {},
     "output_type": "execute_result"
    }
   ],
   "source": [
    "arr2[2][2]"
   ]
  },
  {
   "cell_type": "code",
   "execution_count": 18,
   "id": "582f166a",
   "metadata": {},
   "outputs": [
    {
     "data": {
      "text/plain": [
       "9"
      ]
     },
     "execution_count": 18,
     "metadata": {},
     "output_type": "execute_result"
    }
   ],
   "source": [
    "arr2[2,2]"
   ]
  },
  {
   "cell_type": "markdown",
   "id": "b6c35087",
   "metadata": {},
   "source": [
    "切片索引"
   ]
  },
  {
   "cell_type": "code",
   "execution_count": 20,
   "id": "b8b09896",
   "metadata": {},
   "outputs": [],
   "source": [
    "# 一维的和python列表差不多，但是二维稍微不同"
   ]
  },
  {
   "cell_type": "code",
   "execution_count": 21,
   "id": "27d03d81",
   "metadata": {},
   "outputs": [
    {
     "data": {
      "text/plain": [
       "array([[1, 2, 3],\n",
       "       [4, 5, 6]])"
      ]
     },
     "execution_count": 21,
     "metadata": {},
     "output_type": "execute_result"
    }
   ],
   "source": [
    "arr2[:2]"
   ]
  },
  {
   "cell_type": "code",
   "execution_count": null,
   "id": "3ba7b171",
   "metadata": {},
   "outputs": [],
   "source": [
    "# 也可以一次传入多个切片，就像传入多个索引一样"
   ]
  },
  {
   "cell_type": "code",
   "execution_count": 22,
   "id": "29fdc9d3",
   "metadata": {},
   "outputs": [
    {
     "data": {
      "text/plain": [
       "array([[2, 3],\n",
       "       [5, 6]])"
      ]
     },
     "execution_count": 22,
     "metadata": {},
     "output_type": "execute_result"
    }
   ],
   "source": [
    "arr2[:2,1:]"
   ]
  },
  {
   "cell_type": "code",
   "execution_count": 23,
   "id": "f7e2f1e7",
   "metadata": {},
   "outputs": [],
   "source": [
    "# 此外，通过将索引和切片混合，也可以得到低维度的切片"
   ]
  },
  {
   "cell_type": "code",
   "execution_count": 24,
   "id": "aa3e1841",
   "metadata": {},
   "outputs": [
    {
     "data": {
      "text/plain": [
       "array([4, 5])"
      ]
     },
     "execution_count": 24,
     "metadata": {},
     "output_type": "execute_result"
    }
   ],
   "source": [
    "arr2[1,:2]"
   ]
  },
  {
   "cell_type": "markdown",
   "id": "b831fe6f",
   "metadata": {},
   "source": [
    "布尔型索引"
   ]
  },
  {
   "cell_type": "code",
   "execution_count": 25,
   "id": "c0981140",
   "metadata": {},
   "outputs": [],
   "source": [
    "data = np.random.randn(7,4)"
   ]
  },
  {
   "cell_type": "code",
   "execution_count": 26,
   "id": "57f7f170",
   "metadata": {},
   "outputs": [
    {
     "data": {
      "text/plain": [
       "array([[ 0.20157447,  2.16503028,  0.28984015, -0.92532928],\n",
       "       [ 1.71393821, -0.93543438, -0.97475472, -0.60412759],\n",
       "       [-0.10674814, -0.04983479, -0.84518115, -1.13898453],\n",
       "       [ 0.29843406,  1.26545331,  0.88754411,  0.81576779],\n",
       "       [-1.05138437, -0.71185462,  0.07391401, -0.39673357],\n",
       "       [-0.23764407, -0.58336328,  0.52102608,  0.1065046 ],\n",
       "       [ 0.17113445, -0.73168734, -0.37572017,  0.05816269]])"
      ]
     },
     "execution_count": 26,
     "metadata": {},
     "output_type": "execute_result"
    }
   ],
   "source": [
    "data"
   ]
  },
  {
   "cell_type": "code",
   "execution_count": 27,
   "id": "1585fe79",
   "metadata": {},
   "outputs": [],
   "source": [
    "#通过布尔数组设置值是一种常用的手段，将data中所有小于0的负值设置为0可以如下操作："
   ]
  },
  {
   "cell_type": "code",
   "execution_count": 28,
   "id": "22f19ee4",
   "metadata": {},
   "outputs": [],
   "source": [
    "data[data<0]=0"
   ]
  },
  {
   "cell_type": "code",
   "execution_count": 29,
   "id": "ffe97ac6",
   "metadata": {},
   "outputs": [
    {
     "data": {
      "text/plain": [
       "array([[0.20157447, 2.16503028, 0.28984015, 0.        ],\n",
       "       [1.71393821, 0.        , 0.        , 0.        ],\n",
       "       [0.        , 0.        , 0.        , 0.        ],\n",
       "       [0.29843406, 1.26545331, 0.88754411, 0.81576779],\n",
       "       [0.        , 0.        , 0.07391401, 0.        ],\n",
       "       [0.        , 0.        , 0.52102608, 0.1065046 ],\n",
       "       [0.17113445, 0.        , 0.        , 0.05816269]])"
      ]
     },
     "execution_count": 29,
     "metadata": {},
     "output_type": "execute_result"
    }
   ],
   "source": [
    "data"
   ]
  },
  {
   "cell_type": "markdown",
   "id": "844c8372",
   "metadata": {},
   "source": [
    "花式索引"
   ]
  },
  {
   "cell_type": "code",
   "execution_count": null,
   "id": "5c4ec40e",
   "metadata": {},
   "outputs": [],
   "source": [
    "# 花式索引是python的一个术语，是利用整数数组进行索引"
   ]
  },
  {
   "cell_type": "code",
   "execution_count": 36,
   "id": "3f97928c",
   "metadata": {},
   "outputs": [],
   "source": [
    "arr = np.empty((8,4))"
   ]
  },
  {
   "cell_type": "code",
   "execution_count": 32,
   "id": "ce1fd84a",
   "metadata": {},
   "outputs": [],
   "source": [
    "for i in range(8):\n",
    "    arr[i] = i"
   ]
  },
  {
   "cell_type": "code",
   "execution_count": 40,
   "id": "cc25cfd6",
   "metadata": {},
   "outputs": [
    {
     "data": {
      "text/plain": [
       "array([[0., 0., 0., 0.],\n",
       "       [1., 1., 1., 1.],\n",
       "       [2., 2., 2., 2.],\n",
       "       [3., 3., 3., 3.],\n",
       "       [4., 4., 4., 4.],\n",
       "       [5., 5., 5., 5.],\n",
       "       [6., 6., 6., 6.],\n",
       "       [7., 7., 7., 7.]])"
      ]
     },
     "execution_count": 40,
     "metadata": {},
     "output_type": "execute_result"
    }
   ],
   "source": [
    "arr"
   ]
  },
  {
   "cell_type": "code",
   "execution_count": null,
   "id": "ed1108b7",
   "metadata": {},
   "outputs": [],
   "source": [
    "# 为了以特定顺序选取行子集，只需传入一个用于指定顺序的整数列表或ndarray即可。"
   ]
  },
  {
   "cell_type": "code",
   "execution_count": 38,
   "id": "2c2b8f16",
   "metadata": {},
   "outputs": [
    {
     "data": {
      "text/plain": [
       "array([[4., 4., 4., 4.],\n",
       "       [3., 3., 3., 3.],\n",
       "       [0., 0., 0., 0.],\n",
       "       [6., 6., 6., 6.]])"
      ]
     },
     "execution_count": 38,
     "metadata": {},
     "output_type": "execute_result"
    }
   ],
   "source": [
    "arr[[4,3,0,6]]"
   ]
  },
  {
   "cell_type": "code",
   "execution_count": 41,
   "id": "c340eb14",
   "metadata": {},
   "outputs": [
    {
     "data": {
      "text/plain": [
       "array([[5., 5., 5., 5.],\n",
       "       [3., 3., 3., 3.],\n",
       "       [1., 1., 1., 1.]])"
      ]
     },
     "execution_count": 41,
     "metadata": {},
     "output_type": "execute_result"
    }
   ],
   "source": [
    "arr[[-3,-5,-7]]"
   ]
  },
  {
   "cell_type": "code",
   "execution_count": 43,
   "id": "b6187e96",
   "metadata": {},
   "outputs": [],
   "source": [
    "arr = np.arange(32).reshape((8,4))"
   ]
  },
  {
   "cell_type": "code",
   "execution_count": 44,
   "id": "060c367d",
   "metadata": {},
   "outputs": [
    {
     "data": {
      "text/plain": [
       "array([[ 0,  1,  2,  3],\n",
       "       [ 4,  5,  6,  7],\n",
       "       [ 8,  9, 10, 11],\n",
       "       [12, 13, 14, 15],\n",
       "       [16, 17, 18, 19],\n",
       "       [20, 21, 22, 23],\n",
       "       [24, 25, 26, 27],\n",
       "       [28, 29, 30, 31]])"
      ]
     },
     "execution_count": 44,
     "metadata": {},
     "output_type": "execute_result"
    }
   ],
   "source": [
    "arr"
   ]
  },
  {
   "cell_type": "code",
   "execution_count": 45,
   "id": "582ac1a4",
   "metadata": {},
   "outputs": [
    {
     "data": {
      "text/plain": [
       "array([ 4, 23, 29, 10])"
      ]
     },
     "execution_count": 45,
     "metadata": {},
     "output_type": "execute_result"
    }
   ],
   "source": [
    "arr[[1,5,7,2],[0,3,1,2]]"
   ]
  },
  {
   "cell_type": "code",
   "execution_count": null,
   "id": "45acf846",
   "metadata": {},
   "outputs": [],
   "source": []
  },
  {
   "cell_type": "code",
   "execution_count": null,
   "id": "60654326",
   "metadata": {},
   "outputs": [],
   "source": []
  }
 ],
 "metadata": {
  "kernelspec": {
   "display_name": "Python 3",
   "language": "python",
   "name": "python3"
  },
  "language_info": {
   "codemirror_mode": {
    "name": "ipython",
    "version": 3
   },
   "file_extension": ".py",
   "mimetype": "text/x-python",
   "name": "python",
   "nbconvert_exporter": "python",
   "pygments_lexer": "ipython3",
   "version": "3.8.8"
  }
 },
 "nbformat": 4,
 "nbformat_minor": 5
}
