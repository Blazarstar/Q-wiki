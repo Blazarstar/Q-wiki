{
 "cells": [
  {
   "cell_type": "markdown",
   "id": "81fb697b",
   "metadata": {},
   "source": [
    "### 集合"
   ]
  },
  {
   "cell_type": "markdown",
   "id": "e93a05d1",
   "metadata": {},
   "source": [
    "集合是无序的不可重复的元素的集合，可以将它作为只有键的字典，通过set进行创建"
   ]
  },
  {
   "cell_type": "code",
   "execution_count": 1,
   "id": "2ebe2d22",
   "metadata": {},
   "outputs": [
    {
     "data": {
      "text/plain": [
       "{1, 2, 3}"
      ]
     },
     "execution_count": 1,
     "metadata": {},
     "output_type": "execute_result"
    }
   ],
   "source": [
    "set([2,2,2,1,3,3])"
   ]
  },
  {
   "cell_type": "markdown",
   "id": "b2f5cc37",
   "metadata": {},
   "source": [
    "集合支持合并、交集、差分以及对称差等数学集合运算。"
   ]
  },
  {
   "cell_type": "code",
   "execution_count": 3,
   "id": "80db828d",
   "metadata": {},
   "outputs": [],
   "source": [
    "a = {1,2,3,4,5}\n",
    "b = {3,4,5,6,7,8}"
   ]
  },
  {
   "cell_type": "code",
   "execution_count": 4,
   "id": "127c41ae",
   "metadata": {},
   "outputs": [
    {
     "data": {
      "text/plain": [
       "{1, 2, 3, 4, 5, 6, 7, 8}"
      ]
     },
     "execution_count": 4,
     "metadata": {},
     "output_type": "execute_result"
    }
   ],
   "source": [
    "a.union(b)     #求并集用union或 | 运算符"
   ]
  },
  {
   "cell_type": "code",
   "execution_count": 5,
   "id": "1ab0a276",
   "metadata": {},
   "outputs": [
    {
     "data": {
      "text/plain": [
       "{1, 2, 3, 4, 5, 6, 7, 8}"
      ]
     },
     "execution_count": 5,
     "metadata": {},
     "output_type": "execute_result"
    }
   ],
   "source": [
    "a | b"
   ]
  },
  {
   "cell_type": "code",
   "execution_count": 6,
   "id": "30cc8e5e",
   "metadata": {},
   "outputs": [
    {
     "data": {
      "text/plain": [
       "{3, 4, 5}"
      ]
     },
     "execution_count": 6,
     "metadata": {},
     "output_type": "execute_result"
    }
   ],
   "source": [
    "a.intersection(b)   #求交集的两种方法"
   ]
  },
  {
   "cell_type": "code",
   "execution_count": 7,
   "id": "8cd35905",
   "metadata": {},
   "outputs": [
    {
     "data": {
      "text/plain": [
       "{3, 4, 5}"
      ]
     },
     "execution_count": 7,
     "metadata": {},
     "output_type": "execute_result"
    }
   ],
   "source": [
    "a & b"
   ]
  },
  {
   "cell_type": "markdown",
   "id": "b321610a",
   "metadata": {},
   "source": [
    "常用的集合方法：\n",
    "+ a.difference(b)    #存在于a但不存在于b的元素\n",
    "+ a.symmetric_difference_update(b)     #集合a中的元素为只在a或只在b的元素\n",
    "+ a.issuperset(b)   #判断子集，返回的是布尔True"
   ]
  },
  {
   "cell_type": "code",
   "execution_count": 9,
   "id": "421fa263",
   "metadata": {},
   "outputs": [
    {
     "data": {
      "text/plain": [
       "{1, 2, 3, 4, 5, 6, 7, 8}"
      ]
     },
     "execution_count": 9,
     "metadata": {},
     "output_type": "execute_result"
    }
   ],
   "source": [
    "c = a.copy()\n",
    "c |= b\n",
    "c"
   ]
  },
  {
   "cell_type": "code",
   "execution_count": 11,
   "id": "b369efd7",
   "metadata": {},
   "outputs": [
    {
     "data": {
      "text/plain": [
       "{3, 4, 5}"
      ]
     },
     "execution_count": 11,
     "metadata": {},
     "output_type": "execute_result"
    }
   ],
   "source": [
    "d = a.copy()\n",
    "d&= b\n",
    "d"
   ]
  },
  {
   "cell_type": "markdown",
   "id": "bc73b686",
   "metadata": {},
   "source": [
    "集合元素通常都是不可变的，要获得类似列表的元素，必须转换成元组；"
   ]
  },
  {
   "cell_type": "code",
   "execution_count": 13,
   "id": "3700f407",
   "metadata": {},
   "outputs": [
    {
     "data": {
      "text/plain": [
       "{(1, 2, 3, 4)}"
      ]
     },
     "execution_count": 13,
     "metadata": {},
     "output_type": "execute_result"
    }
   ],
   "source": [
    "my_data = [1,2,3,4]\n",
    "my_set = {tuple(my_data)}\n",
    "my_set"
   ]
  },
  {
   "cell_type": "code",
   "execution_count": 16,
   "id": "ed39da66",
   "metadata": {},
   "outputs": [
    {
     "data": {
      "text/plain": [
       "True"
      ]
     },
     "execution_count": 16,
     "metadata": {},
     "output_type": "execute_result"
    }
   ],
   "source": [
    "a_set = {1,2,3,4,5}\n",
    "{1,2,3}.issubset(a_set)"
   ]
  },
  {
   "cell_type": "markdown",
   "id": "2082aced",
   "metadata": {},
   "source": [
    "#### 列表、集合和字典推导式"
   ]
  },
  {
   "cell_type": "markdown",
   "id": "18099ebb",
   "metadata": {},
   "source": [
    "列表推导式是python最受喜爱的特性之一，它允许用户方便的从一个集合过滤元素，形成列表，在传递参数的过程中还可以修改元素。"
   ]
  },
  {
   "cell_type": "code",
   "execution_count": null,
   "id": "49e5bb40",
   "metadata": {},
   "outputs": [],
   "source": [
    "#等同于以下的for循环\n",
    "\n",
    "result = []\n",
    "for val in collection:\n",
    "    if condition:\n",
    "        result.append(expr)\n",
    "        \n",
    "#其实就是加了表达式的判断作为是过滤/筛选"
   ]
  },
  {
   "cell_type": "code",
   "execution_count": 18,
   "id": "5689d94d",
   "metadata": {},
   "outputs": [
    {
     "data": {
      "text/plain": [
       "['BAT', 'CAR', 'DOVE']"
      ]
     },
     "execution_count": 18,
     "metadata": {},
     "output_type": "execute_result"
    }
   ],
   "source": [
    "strings = ['a','as','bat','car','dove']\n",
    "[x.upper() for x in strings if len(x)>2]\n"
   ]
  },
  {
   "cell_type": "code",
   "execution_count": 19,
   "id": "68b95852",
   "metadata": {},
   "outputs": [
    {
     "data": {
      "text/plain": [
       "{1, 2, 3, 4}"
      ]
     },
     "execution_count": 19,
     "metadata": {},
     "output_type": "execute_result"
    }
   ],
   "source": [
    "# 对于集合和字典的推导\n",
    "\n",
    "unique_lengths = {len(x) for x in strings}\n",
    "unique_lengths"
   ]
  },
  {
   "cell_type": "markdown",
   "id": "1416d132",
   "metadata": {},
   "source": [
    "集合的推导和列表很像，只不过是用尖括号；\n",
    "作为一个字典推导式的例子，可以创建一个字符串的查找映射表以及确定它在列表中的位置；\n"
   ]
  },
  {
   "cell_type": "code",
   "execution_count": 22,
   "id": "fc7a1e17",
   "metadata": {},
   "outputs": [],
   "source": [
    "# 嵌套列表推导式\n",
    "all_data = [['John','Emily','Michael','Maria','Juan','Javier']]\n",
    "names_of_interest = []\n",
    "for names in all_data:\n",
    "    enough_es = [name for name in names if name.count('e')>=2]\n",
    "    names_of_interest.extend(enough_es)"
   ]
  },
  {
   "cell_type": "code",
   "execution_count": 23,
   "id": "fde03614",
   "metadata": {},
   "outputs": [
    {
     "ename": "SyntaxError",
     "evalue": "invalid syntax (<ipython-input-23-3d3cc3c9fd2c>, line 1)",
     "output_type": "error",
     "traceback": [
      "\u001b[1;36m  File \u001b[1;32m\"<ipython-input-23-3d3cc3c9fd2c>\"\u001b[1;36m, line \u001b[1;32m1\u001b[0m\n\u001b[1;33m    result = [name for names in all_data for names if name.count('e')>=2]\u001b[0m\n\u001b[1;37m                                                   ^\u001b[0m\n\u001b[1;31mSyntaxError\u001b[0m\u001b[1;31m:\u001b[0m invalid syntax\n"
     ]
    }
   ],
   "source": [
    "# result = [name for names in all_data for names if name.count('e')>=2]\n",
    "# result"
   ]
  },
  {
   "cell_type": "markdown",
   "id": "c7bf5b65",
   "metadata": {},
   "source": [
    "列表推导式的for部分是根据嵌套的顺序，过滤条件一般放在最后。"
   ]
  },
  {
   "cell_type": "code",
   "execution_count": 25,
   "id": "b661e09b",
   "metadata": {},
   "outputs": [],
   "source": [
    "# 做一个对比参考 \n",
    "# 1.嵌套for\n",
    "# flattened = []\n",
    "# for tup in some_tuples:\n",
    "#     for x in tup:\n",
    "#         flattened.append(x)\n",
    "        \n",
    "# 2.列表推导式\n",
    "# [[x for x in tup] for tup in some_tuples]"
   ]
  },
  {
   "cell_type": "code",
   "execution_count": null,
   "id": "4ad52466",
   "metadata": {},
   "outputs": [],
   "source": []
  },
  {
   "cell_type": "code",
   "execution_count": null,
   "id": "4d460dfc",
   "metadata": {},
   "outputs": [],
   "source": []
  }
 ],
 "metadata": {
  "kernelspec": {
   "display_name": "Python 3",
   "language": "python",
   "name": "python3"
  },
  "language_info": {
   "codemirror_mode": {
    "name": "ipython",
    "version": 3
   },
   "file_extension": ".py",
   "mimetype": "text/x-python",
   "name": "python",
   "nbconvert_exporter": "python",
   "pygments_lexer": "ipython3",
   "version": "3.8.8"
  }
 },
 "nbformat": 4,
 "nbformat_minor": 5
}
