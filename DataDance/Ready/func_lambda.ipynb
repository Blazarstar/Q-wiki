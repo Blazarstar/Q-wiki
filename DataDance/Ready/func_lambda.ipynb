{
 "cells": [
  {
   "cell_type": "markdown",
   "id": "34d17b0a",
   "metadata": {},
   "source": [
    "### 函数  02"
   ]
  },
  {
   "cell_type": "markdown",
   "id": "e7dbceff",
   "metadata": {},
   "source": [
    "匿名 lambda 函数： 该语句的结果就是返回值\n",
    "\n",
    "在数据分析中经常使用，尤其数据转换函数都以函数作为参数。\n",
    "\n",
    "之所以被称为匿名是因为与def声明的函数不同，原因之一是这种函数对象本身没有提供名称name属性。"
   ]
  },
  {
   "cell_type": "code",
   "execution_count": 2,
   "id": "31879c1c",
   "metadata": {},
   "outputs": [],
   "source": [
    "def short_function(x):\n",
    "    return x*2\n",
    "\n",
    "equiv_anon = lambda x: x * 2"
   ]
  },
  {
   "cell_type": "code",
   "execution_count": 3,
   "id": "777a1805",
   "metadata": {},
   "outputs": [
    {
     "data": {
      "text/plain": [
       "[8, 0, 2, 10, 12]"
      ]
     },
     "execution_count": 3,
     "metadata": {},
     "output_type": "execute_result"
    }
   ],
   "source": [
    "def apply_to_list(some_list,f):\n",
    "    return [f(x) for x in some_list]\n",
    "\n",
    "ints = [4,0,1,5,6]\n",
    "apply_to_list(ints,lambda x:x*2)"
   ]
  },
  {
   "cell_type": "code",
   "execution_count": 4,
   "id": "ec525bd7",
   "metadata": {},
   "outputs": [
    {
     "data": {
      "text/plain": [
       "<map at 0x2219f0493a0>"
      ]
     },
     "execution_count": 4,
     "metadata": {},
     "output_type": "execute_result"
    }
   ],
   "source": [
    "def sq(x):\n",
    "    return x*x\n",
    "\n",
    "map(sq,[y for y in range(10)])"
   ]
  },
  {
   "cell_type": "code",
   "execution_count": 5,
   "id": "69fe714b",
   "metadata": {},
   "outputs": [
    {
     "data": {
      "text/plain": [
       "<map at 0x2219f049a00>"
      ]
     },
     "execution_count": 5,
     "metadata": {},
     "output_type": "execute_result"
    }
   ],
   "source": [
    "map(lambda x: x*x,[y for y in range(10)])"
   ]
  },
  {
   "cell_type": "markdown",
   "id": "32663138",
   "metadata": {},
   "source": [
    "再说lambada表达式\n",
    "\n",
    "lambda argument_list:expersion\n",
    "\n",
    "语法中的argument_list是参数列表，它的结构与Python中函数(function)的参数列表是一样的\n",
    "\n",
    "语法中的expression是一个关于参数的表达式，表达式中出现的参数需要在argument_list中有定义，并且表达式只能是单行的。"
   ]
  },
  {
   "cell_type": "markdown",
   "id": "dd908207",
   "metadata": {},
   "source": [
    "优点\n",
    "\n",
    "1.直接赋值给变量，直接调用\n",
    "\n",
    "2.直接传递实参\n"
   ]
  },
  {
   "cell_type": "code",
   "execution_count": 7,
   "id": "96b087b4",
   "metadata": {},
   "outputs": [
    {
     "data": {
      "text/plain": [
       "9"
      ]
     },
     "execution_count": 7,
     "metadata": {},
     "output_type": "execute_result"
    }
   ],
   "source": [
    "(lambda x:x**2)(3)"
   ]
  },
  {
   "cell_type": "code",
   "execution_count": 8,
   "id": "8eb5e483",
   "metadata": {},
   "outputs": [
    {
     "data": {
      "text/plain": [
       "24"
      ]
     },
     "execution_count": 8,
     "metadata": {},
     "output_type": "execute_result"
    }
   ],
   "source": [
    "c=lambda x,y,z:x*y*z\n",
    "c(2,3,4)"
   ]
  },
  {
   "cell_type": "markdown",
   "id": "8f7e205a",
   "metadata": {},
   "source": [
    "其他用法:\n",
    "    \n",
    "将lambda函数作为参数传递给其他函数比如说结合map、filter、sorted、reduce等一些Python内置函数使用"
   ]
  },
  {
   "cell_type": "code",
   "execution_count": 16,
   "id": "e2617ded",
   "metadata": {},
   "outputs": [
    {
     "data": {
      "text/plain": [
       "6"
      ]
     },
     "execution_count": 16,
     "metadata": {},
     "output_type": "execute_result"
    }
   ],
   "source": [
    "def increment(n):\n",
    "    return lambda x:x+n\n",
    "\n",
    "f=increment(4)\n",
    "f(2)"
   ]
  },
  {
   "cell_type": "code",
   "execution_count": 20,
   "id": "1bd33aa7",
   "metadata": {},
   "outputs": [
    {
     "name": "stdout",
     "output_type": "stream",
     "text": [
      "<filter object at 0x000002219F03DAF0>\n"
     ]
    }
   ],
   "source": [
    "Names = ['Anne', 'Amy', 'Bob', 'David', 'Carrie', 'Barbara', 'Zach']\n",
    "B_Name= filter(lambda x: x.startswith('B'),Names)\n",
    "print(B_Name)"
   ]
  },
  {
   "cell_type": "code",
   "execution_count": 21,
   "id": "2cd8669b",
   "metadata": {},
   "outputs": [
    {
     "name": "stdout",
     "output_type": "stream",
     "text": [
      "[6, 8, 10, 12]\n"
     ]
    }
   ],
   "source": [
    "a = [1,2,3,4]\n",
    "b = [5,6,7,8]\n",
    "print(list(map(lambda x,y:x+y, a,b)))\n"
   ]
  },
  {
   "cell_type": "code",
   "execution_count": 22,
   "id": "68853fa4",
   "metadata": {},
   "outputs": [
    {
     "name": "stdout",
     "output_type": "stream",
     "text": [
      "[7, 2, 8]\n"
     ]
    }
   ],
   "source": [
    "sentence = \"Welcome To Beijing!\"\n",
    "words = sentence.split()\n",
    "lengths  = map(lambda x:len(x),words)\n",
    "print(list(lengths))"
   ]
  },
  {
   "cell_type": "code",
   "execution_count": null,
   "id": "abcb1e78",
   "metadata": {},
   "outputs": [],
   "source": []
  }
 ],
 "metadata": {
  "kernelspec": {
   "display_name": "Python 3",
   "language": "python",
   "name": "python3"
  },
  "language_info": {
   "codemirror_mode": {
    "name": "ipython",
    "version": 3
   },
   "file_extension": ".py",
   "mimetype": "text/x-python",
   "name": "python",
   "nbconvert_exporter": "python",
   "pygments_lexer": "ipython3",
   "version": "3.8.8"
  }
 },
 "nbformat": 4,
 "nbformat_minor": 5
}
