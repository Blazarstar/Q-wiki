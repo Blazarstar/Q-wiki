{
 "cells": [
  {
   "cell_type": "markdown",
   "id": "910ad763",
   "metadata": {},
   "source": [
    "### 切片"
   ]
  },
  {
   "cell_type": "code",
   "execution_count": 5,
   "id": "e4e5cb57",
   "metadata": {},
   "outputs": [],
   "source": [
    "seq = [7,2,3,7,5,6,0,1]"
   ]
  },
  {
   "cell_type": "code",
   "execution_count": 6,
   "id": "874fad8b",
   "metadata": {},
   "outputs": [
    {
     "data": {
      "text/plain": [
       "[2, 3, 7, 5]"
      ]
     },
     "execution_count": 6,
     "metadata": {},
     "output_type": "execute_result"
    }
   ],
   "source": [
    "seq[1:5]"
   ]
  },
  {
   "cell_type": "code",
   "execution_count": 8,
   "id": "ee6f65c1",
   "metadata": {},
   "outputs": [],
   "source": [
    "seq[3:4]=[6,3]   //切片也可以被序列赋值"
   ]
  },
  {
   "cell_type": "code",
   "execution_count": 9,
   "id": "736a5fc7",
   "metadata": {},
   "outputs": [
    {
     "data": {
      "text/plain": [
       "[7, 2, 3, 6, 3, 5, 6, 0, 1]"
      ]
     },
     "execution_count": 9,
     "metadata": {},
     "output_type": "execute_result"
    }
   ],
   "source": [
    "seq"
   ]
  },
  {
   "cell_type": "code",
   "execution_count": 10,
   "id": "af561dd5",
   "metadata": {},
   "outputs": [
    {
     "data": {
      "text/plain": [
       "[7, 2, 3, 6, 3]"
      ]
     },
     "execution_count": 10,
     "metadata": {},
     "output_type": "execute_result"
    }
   ],
   "source": [
    "seq[:5]"
   ]
  },
  {
   "cell_type": "code",
   "execution_count": 11,
   "id": "d9f9f04a",
   "metadata": {},
   "outputs": [
    {
     "data": {
      "text/plain": [
       "[6, 3, 5, 6, 0, 1]"
      ]
     },
     "execution_count": 11,
     "metadata": {},
     "output_type": "execute_result"
    }
   ],
   "source": [
    "seq[3:]"
   ]
  },
  {
   "cell_type": "code",
   "execution_count": 12,
   "id": "dcca706c",
   "metadata": {},
   "outputs": [
    {
     "data": {
      "text/plain": [
       "[5, 6, 0, 1]"
      ]
     },
     "execution_count": 12,
     "metadata": {},
     "output_type": "execute_result"
    }
   ],
   "source": [
    "seq[-4:]"
   ]
  },
  {
   "cell_type": "code",
   "execution_count": 13,
   "id": "702b86e6",
   "metadata": {},
   "outputs": [
    {
     "data": {
      "text/plain": [
       "[6, 3, 5, 6]"
      ]
     },
     "execution_count": 13,
     "metadata": {},
     "output_type": "execute_result"
    }
   ],
   "source": [
    "seq[-6:-2]"
   ]
  },
  {
   "cell_type": "code",
   "execution_count": 15,
   "id": "e7d44047",
   "metadata": {},
   "outputs": [],
   "source": [
    "# 切片需要主要是从哪开始到哪里结束\n",
    "#如：  H E L L O !\n",
    "#对应：0 1 2 3 4 5 6\n",
    "#     -6"
   ]
  },
  {
   "cell_type": "code",
   "execution_count": 17,
   "id": "45c0b900",
   "metadata": {},
   "outputs": [
    {
     "data": {
      "text/plain": [
       "[7, 3, 3, 6, 1]"
      ]
     },
     "execution_count": 17,
     "metadata": {},
     "output_type": "execute_result"
    }
   ],
   "source": [
    "seq[::2]    #隔一个取一个元素"
   ]
  },
  {
   "cell_type": "code",
   "execution_count": 19,
   "id": "4700da93",
   "metadata": {},
   "outputs": [
    {
     "data": {
      "text/plain": [
       "[1, 0, 6, 5, 3, 6, 3, 2, 7]"
      ]
     },
     "execution_count": 19,
     "metadata": {},
     "output_type": "execute_result"
    }
   ],
   "source": [
    "seq[::-1]    #通过-1将列表元组颠倒"
   ]
  },
  {
   "cell_type": "markdown",
   "id": "332fbeb9",
   "metadata": {},
   "source": [
    "### 序列函数"
   ]
  },
  {
   "cell_type": "markdown",
   "id": "5599f928",
   "metadata": {},
   "source": [
    "+ enumerate函数\n",
    "python内建的函数，在迭代一个序列时，便于跟踪当前项的序号，返回（i,value)元组序列"
   ]
  },
  {
   "cell_type": "code",
   "execution_count": 23,
   "id": "5de4ef39",
   "metadata": {},
   "outputs": [],
   "source": [
    "# 对比   -史前版本\n",
    "# i=0\n",
    "# for value in collection:\n",
    "#     # do something with value\n",
    "#     i+= 1\n"
   ]
  },
  {
   "cell_type": "markdown",
   "id": "f646481c",
   "metadata": {},
   "source": [
    "当索引数据时，用enumerate的一个好方法就是计算序列dict映射到位置的值"
   ]
  },
  {
   "cell_type": "code",
   "execution_count": 24,
   "id": "359a40af",
   "metadata": {},
   "outputs": [],
   "source": [
    "some_list=['foo','bar','baz']"
   ]
  },
  {
   "cell_type": "code",
   "execution_count": 25,
   "id": "ad236c84",
   "metadata": {},
   "outputs": [],
   "source": [
    "mapping={}"
   ]
  },
  {
   "cell_type": "code",
   "execution_count": 29,
   "id": "6fb96f10",
   "metadata": {},
   "outputs": [
    {
     "data": {
      "text/plain": [
       "{'foo': 0, 'bar': 1, 'baz': 2}"
      ]
     },
     "execution_count": 29,
     "metadata": {},
     "output_type": "execute_result"
    }
   ],
   "source": [
    "for i ,v in enumerate(some_list):\n",
    "    mapping[v]=i\n",
    "mapping"
   ]
  },
  {
   "cell_type": "markdown",
   "id": "ccd2bc52",
   "metadata": {},
   "source": [
    "### sorted函数"
   ]
  },
  {
   "cell_type": "markdown",
   "id": "2e8b7a81",
   "metadata": {},
   "source": [
    "可以从任意序列的元素返回一个新的排好序的列表"
   ]
  },
  {
   "cell_type": "code",
   "execution_count": 31,
   "id": "2c46835a",
   "metadata": {},
   "outputs": [
    {
     "data": {
      "text/plain": [
       "[0, 1, 2, 2, 3, 6, 7]"
      ]
     },
     "execution_count": 31,
     "metadata": {},
     "output_type": "execute_result"
    }
   ],
   "source": [
    "sorted([7,1,2,6,0,3,2])"
   ]
  },
  {
   "cell_type": "code",
   "execution_count": 32,
   "id": "062d2f3f",
   "metadata": {},
   "outputs": [
    {
     "data": {
      "text/plain": [
       "[' ', 'a', 'c', 'e', 'e', 'h', 'o', 'r', 'r', 's']"
      ]
     },
     "execution_count": 32,
     "metadata": {},
     "output_type": "execute_result"
    }
   ],
   "source": [
    "sorted('horse race')"
   ]
  },
  {
   "cell_type": "markdown",
   "id": "d0c60da7",
   "metadata": {},
   "source": [
    "### zip 函数"
   ]
  },
  {
   "cell_type": "markdown",
   "id": "516b429e",
   "metadata": {},
   "source": [
    "+ 可以将多个列表、元组或其他序列成对组合成一个元组列表\n",
    "+ 常见用法之一是同时迭代多个序列，可能结合enumerate使用"
   ]
  },
  {
   "cell_type": "code",
   "execution_count": 35,
   "id": "9b90ecaa",
   "metadata": {},
   "outputs": [],
   "source": [
    "seq1 = ['foo','bar','baz']\n",
    "seq2 = ['one','two','three']"
   ]
  },
  {
   "cell_type": "code",
   "execution_count": 36,
   "id": "0b261b2e",
   "metadata": {},
   "outputs": [],
   "source": [
    "zipped = zip(seq1,seq2)"
   ]
  },
  {
   "cell_type": "code",
   "execution_count": 37,
   "id": "4cb58a3f",
   "metadata": {},
   "outputs": [
    {
     "data": {
      "text/plain": [
       "[('foo', 'one'), ('bar', 'two'), ('baz', 'three')]"
      ]
     },
     "execution_count": 37,
     "metadata": {},
     "output_type": "execute_result"
    }
   ],
   "source": [
    "list(zipped)"
   ]
  },
  {
   "cell_type": "code",
   "execution_count": 38,
   "id": "b070a01d",
   "metadata": {},
   "outputs": [],
   "source": [
    "seq3 = [False,True]"
   ]
  },
  {
   "cell_type": "code",
   "execution_count": 39,
   "id": "dbf5ee0e",
   "metadata": {},
   "outputs": [
    {
     "data": {
      "text/plain": [
       "[('foo', 'one', False), ('bar', 'two', True)]"
      ]
     },
     "execution_count": 39,
     "metadata": {},
     "output_type": "execute_result"
    }
   ],
   "source": [
    "list(zip(seq1,seq2,seq3))"
   ]
  },
  {
   "cell_type": "code",
   "execution_count": 40,
   "id": "2dced32c",
   "metadata": {},
   "outputs": [
    {
     "name": "stdout",
     "output_type": "stream",
     "text": [
      "0:foo,one\n",
      "1:bar,two\n",
      "2:baz,three\n"
     ]
    }
   ],
   "source": [
    "for i ,(a,b) in enumerate(zip(seq1,seq2)):\n",
    "    print('{0}:{1},{2}'.format(i,a,b))"
   ]
  },
  {
   "cell_type": "code",
   "execution_count": 43,
   "id": "ec81aa57",
   "metadata": {},
   "outputs": [],
   "source": [
    "# 给出一个被压缩的序列，zip可以被用来解压序列；也可以当作把行的列表转换为列的列表    ？？？不太能理解这个  先放一下"
   ]
  },
  {
   "cell_type": "markdown",
   "id": "a05c0e1b",
   "metadata": {},
   "source": [
    "### reversed 函数"
   ]
  },
  {
   "cell_type": "markdown",
   "id": "1ea43762",
   "metadata": {},
   "source": [
    "reversed 可以从后向前迭代一个序列："
   ]
  },
  {
   "cell_type": "code",
   "execution_count": 45,
   "id": "ebd84de1",
   "metadata": {},
   "outputs": [
    {
     "data": {
      "text/plain": [
       "[9, 8, 7, 6, 5, 4, 3, 2, 1, 0]"
      ]
     },
     "execution_count": 45,
     "metadata": {},
     "output_type": "execute_result"
    }
   ],
   "source": [
    "list(reversed(range(10)))"
   ]
  },
  {
   "cell_type": "markdown",
   "id": "d1ff042f",
   "metadata": {},
   "source": [
    "注： reversed是一个生成器，只有实体化（即列表或for循环）之后才能创建反转的序列"
   ]
  },
  {
   "cell_type": "markdown",
   "id": "d7033859",
   "metadata": {},
   "source": []
  }
 ],
 "metadata": {
  "kernelspec": {
   "display_name": "Python 3",
   "language": "python",
   "name": "python3"
  },
  "language_info": {
   "codemirror_mode": {
    "name": "ipython",
    "version": 3
   },
   "file_extension": ".py",
   "mimetype": "text/x-python",
   "name": "python",
   "nbconvert_exporter": "python",
   "pygments_lexer": "ipython3",
   "version": "3.8.8"
  }
 },
 "nbformat": 4,
 "nbformat_minor": 5
}
