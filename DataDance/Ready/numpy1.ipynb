{
 "cells": [
  {
   "cell_type": "markdown",
   "id": "e3cb2a17",
   "metadata": {},
   "source": [
    "### Numpy 数组和矢量计算"
   ]
  },
  {
   "cell_type": "markdown",
   "id": "f095e62c",
   "metadata": {},
   "source": [
    "大多数提供科学计算的包都是使用Numpy的数组作为基础建构基础"
   ]
  },
  {
   "cell_type": "code",
   "execution_count": 1,
   "id": "606befcc",
   "metadata": {},
   "outputs": [],
   "source": [
    "import numpy as np"
   ]
  },
  {
   "cell_type": "code",
   "execution_count": 2,
   "id": "593c4e5b",
   "metadata": {},
   "outputs": [],
   "source": [
    "data = np.random.randn(2,3)"
   ]
  },
  {
   "cell_type": "code",
   "execution_count": 3,
   "id": "dcc825de",
   "metadata": {},
   "outputs": [
    {
     "data": {
      "text/plain": [
       "array([[-0.26870775,  0.21790995,  0.06429363],\n",
       "       [-1.27093489,  0.96693703,  0.95017497]])"
      ]
     },
     "execution_count": 3,
     "metadata": {},
     "output_type": "execute_result"
    }
   ],
   "source": [
    "data"
   ]
  },
  {
   "cell_type": "code",
   "execution_count": 4,
   "id": "3d0fe39a",
   "metadata": {},
   "outputs": [
    {
     "data": {
      "text/plain": [
       "array([[ -2.68707746,   2.17909955,   0.64293629],\n",
       "       [-12.70934885,   9.66937028,   9.50174969]])"
      ]
     },
     "execution_count": 4,
     "metadata": {},
     "output_type": "execute_result"
    }
   ],
   "source": [
    "data * 10"
   ]
  },
  {
   "cell_type": "code",
   "execution_count": 5,
   "id": "018433c2",
   "metadata": {},
   "outputs": [
    {
     "data": {
      "text/plain": [
       "array([[-0.53741549,  0.43581991,  0.12858726],\n",
       "       [-2.54186977,  1.93387406,  1.90034994]])"
      ]
     },
     "execution_count": 5,
     "metadata": {},
     "output_type": "execute_result"
    }
   ],
   "source": [
    "data + data   # 每个元素和自身相加"
   ]
  },
  {
   "cell_type": "markdown",
   "id": "d7dbd19c",
   "metadata": {},
   "source": [
    "ndarray 包含一个shape和一个dtype"
   ]
  },
  {
   "cell_type": "code",
   "execution_count": 7,
   "id": "6af295d8",
   "metadata": {},
   "outputs": [
    {
     "data": {
      "text/plain": [
       "(2, 3)"
      ]
     },
     "execution_count": 7,
     "metadata": {},
     "output_type": "execute_result"
    }
   ],
   "source": [
    "data.shape"
   ]
  },
  {
   "cell_type": "code",
   "execution_count": 8,
   "id": "34b54cbc",
   "metadata": {},
   "outputs": [
    {
     "data": {
      "text/plain": [
       "dtype('float64')"
      ]
     },
     "execution_count": 8,
     "metadata": {},
     "output_type": "execute_result"
    }
   ],
   "source": [
    "data.dtype"
   ]
  },
  {
   "cell_type": "markdown",
   "id": "5f56d33d",
   "metadata": {},
   "source": [
    "key: 精通面向数组的编程和思维方式"
   ]
  },
  {
   "cell_type": "markdown",
   "id": "bbed61d3",
   "metadata": {},
   "source": [
    "### 创建"
   ]
  },
  {
   "cell_type": "markdown",
   "id": "8daeb37d",
   "metadata": {},
   "source": [
    "创建数组，用array函数，接受一切序列型对象"
   ]
  },
  {
   "cell_type": "code",
   "execution_count": 9,
   "id": "8f13657f",
   "metadata": {},
   "outputs": [],
   "source": [
    "data1 = [6,7.5,8,0,1] \n",
    "arr1 = np.array(data1)"
   ]
  },
  {
   "cell_type": "code",
   "execution_count": 11,
   "id": "80941c6f",
   "metadata": {},
   "outputs": [
    {
     "data": {
      "text/plain": [
       "array([6. , 7.5, 8. , 0. , 1. ])"
      ]
     },
     "execution_count": 11,
     "metadata": {},
     "output_type": "execute_result"
    }
   ],
   "source": [
    "arr1"
   ]
  },
  {
   "cell_type": "code",
   "execution_count": 12,
   "id": "40b31ed4",
   "metadata": {},
   "outputs": [
    {
     "data": {
      "text/plain": [
       "dtype('float64')"
      ]
     },
     "execution_count": 12,
     "metadata": {},
     "output_type": "execute_result"
    }
   ],
   "source": [
    "arr1.dtype"
   ]
  },
  {
   "cell_type": "code",
   "execution_count": 15,
   "id": "bfc232c1",
   "metadata": {},
   "outputs": [],
   "source": [
    "data2 = [[1,2,3,4],[4,5,6,7]]\n",
    "arr2 = np.array(data2)"
   ]
  },
  {
   "cell_type": "code",
   "execution_count": 16,
   "id": "8599a6cf",
   "metadata": {},
   "outputs": [
    {
     "data": {
      "text/plain": [
       "array([[1, 2, 3, 4],\n",
       "       [4, 5, 6, 7]])"
      ]
     },
     "execution_count": 16,
     "metadata": {},
     "output_type": "execute_result"
    }
   ],
   "source": [
    "arr2"
   ]
  },
  {
   "cell_type": "code",
   "execution_count": 17,
   "id": "97b11cd3",
   "metadata": {},
   "outputs": [
    {
     "data": {
      "text/plain": [
       "2"
      ]
     },
     "execution_count": 17,
     "metadata": {},
     "output_type": "execute_result"
    }
   ],
   "source": [
    "arr2.ndim # 属性"
   ]
  },
  {
   "cell_type": "code",
   "execution_count": 18,
   "id": "622f3e29",
   "metadata": {},
   "outputs": [
    {
     "data": {
      "text/plain": [
       "(2, 4)"
      ]
     },
     "execution_count": 18,
     "metadata": {},
     "output_type": "execute_result"
    }
   ],
   "source": [
    "arr2.shape"
   ]
  },
  {
   "cell_type": "code",
   "execution_count": 19,
   "id": "282b4112",
   "metadata": {},
   "outputs": [
    {
     "data": {
      "text/plain": [
       "dtype('int32')"
      ]
     },
     "execution_count": 19,
     "metadata": {},
     "output_type": "execute_result"
    }
   ],
   "source": [
    "arr2.dtype"
   ]
  },
  {
   "cell_type": "markdown",
   "id": "26668a69",
   "metadata": {},
   "source": [
    "zeros 和 ones分别可新建数组"
   ]
  },
  {
   "cell_type": "code",
   "execution_count": 20,
   "id": "744c48d8",
   "metadata": {},
   "outputs": [
    {
     "data": {
      "text/plain": [
       "array([0., 0., 0., 0., 0., 0., 0., 0., 0., 0.])"
      ]
     },
     "execution_count": 20,
     "metadata": {},
     "output_type": "execute_result"
    }
   ],
   "source": [
    "np.zeros(10)"
   ]
  },
  {
   "cell_type": "code",
   "execution_count": 21,
   "id": "d301494f",
   "metadata": {},
   "outputs": [
    {
     "data": {
      "text/plain": [
       "array([[0., 0., 0., 0., 0., 0.],\n",
       "       [0., 0., 0., 0., 0., 0.],\n",
       "       [0., 0., 0., 0., 0., 0.]])"
      ]
     },
     "execution_count": 21,
     "metadata": {},
     "output_type": "execute_result"
    }
   ],
   "source": [
    "np.zeros((3,6))"
   ]
  },
  {
   "cell_type": "markdown",
   "id": "55817182",
   "metadata": {},
   "source": [
    "np.empty返回的是未初始化的垃圾值,相当于是只分配内存空间"
   ]
  },
  {
   "cell_type": "code",
   "execution_count": 22,
   "id": "5889cd9a",
   "metadata": {},
   "outputs": [
    {
     "data": {
      "text/plain": [
       "array([ 0,  1,  2,  3,  4,  5,  6,  7,  8,  9, 10, 11, 12, 13, 14])"
      ]
     },
     "execution_count": 22,
     "metadata": {},
     "output_type": "execute_result"
    }
   ],
   "source": [
    "np.arange(15)   #python内置函数range的数组版 ，返回的是ndarray而非list"
   ]
  },
  {
   "cell_type": "code",
   "execution_count": 23,
   "id": "94617fc9",
   "metadata": {},
   "outputs": [],
   "source": [
    "arr1 = np.array([1,2,3])"
   ]
  },
  {
   "cell_type": "code",
   "execution_count": 24,
   "id": "306dae40",
   "metadata": {},
   "outputs": [
    {
     "data": {
      "text/plain": [
       "dtype('int32')"
      ]
     },
     "execution_count": 24,
     "metadata": {},
     "output_type": "execute_result"
    }
   ],
   "source": [
    "arr1.dtype"
   ]
  },
  {
   "cell_type": "code",
   "execution_count": 25,
   "id": "1342efda",
   "metadata": {},
   "outputs": [],
   "source": [
    "arr1 = np.array([1,2,3],dtype=np.float64)"
   ]
  },
  {
   "cell_type": "code",
   "execution_count": 26,
   "id": "733ae2cb",
   "metadata": {},
   "outputs": [
    {
     "data": {
      "text/plain": [
       "array([1., 2., 3.])"
      ]
     },
     "execution_count": 26,
     "metadata": {},
     "output_type": "execute_result"
    }
   ],
   "source": [
    "arr1"
   ]
  },
  {
   "cell_type": "markdown",
   "id": "72d23671",
   "metadata": {},
   "source": [
    "ndarray的astype方法则可以明确将一个数组从一个dtype转换成另一个dtype"
   ]
  },
  {
   "cell_type": "code",
   "execution_count": 31,
   "id": "dac062ee",
   "metadata": {},
   "outputs": [],
   "source": [
    "float_arr1 = arr1.astype(np.float32)"
   ]
  },
  {
   "cell_type": "code",
   "execution_count": 32,
   "id": "c4e36340",
   "metadata": {},
   "outputs": [
    {
     "data": {
      "text/plain": [
       "dtype('float32')"
      ]
     },
     "execution_count": 32,
     "metadata": {},
     "output_type": "execute_result"
    }
   ],
   "source": [
    "float_arr1.dtype"
   ]
  },
  {
   "cell_type": "markdown",
   "id": "d8d72b0f",
   "metadata": {},
   "source": [
    "注：Numpy的字符串数据大小固定，因此在使用string类型时，若截取，不会发生警告。"
   ]
  },
  {
   "cell_type": "code",
   "execution_count": null,
   "id": "3ed3ce60",
   "metadata": {},
   "outputs": [],
   "source": []
  }
 ],
 "metadata": {
  "kernelspec": {
   "display_name": "Python 3",
   "language": "python",
   "name": "python3"
  },
  "language_info": {
   "codemirror_mode": {
    "name": "ipython",
    "version": 3
   },
   "file_extension": ".py",
   "mimetype": "text/x-python",
   "name": "python",
   "nbconvert_exporter": "python",
   "pygments_lexer": "ipython3",
   "version": "3.8.8"
  }
 },
 "nbformat": 4,
 "nbformat_minor": 5
}
