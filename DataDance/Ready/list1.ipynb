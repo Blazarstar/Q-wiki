{
 "cells": [
  {
   "cell_type": "code",
   "execution_count": 1,
   "id": "23d071e7",
   "metadata": {},
   "outputs": [],
   "source": [
    "# 列表\n",
    "# 相对元组，列表长度可变，内容可修改，可用方括号定义，或用list函数；"
   ]
  },
  {
   "cell_type": "code",
   "execution_count": 3,
   "id": "dc4cfb3f",
   "metadata": {},
   "outputs": [],
   "source": [
    "a_list = [2,3,7,None]   #千万注意要大写None"
   ]
  },
  {
   "cell_type": "code",
   "execution_count": 5,
   "id": "8d93243a",
   "metadata": {},
   "outputs": [],
   "source": [
    "tup = ('foo','bar','baz')"
   ]
  },
  {
   "cell_type": "code",
   "execution_count": 6,
   "id": "1ea364b5",
   "metadata": {},
   "outputs": [],
   "source": [
    "b_list = list(tup)   #相当于强制转换类型？元组可变列表"
   ]
  },
  {
   "cell_type": "code",
   "execution_count": 7,
   "id": "83fb7547",
   "metadata": {},
   "outputs": [
    {
     "data": {
      "text/plain": [
       "['foo', 'bar', 'baz']"
      ]
     },
     "execution_count": 7,
     "metadata": {},
     "output_type": "execute_result"
    }
   ],
   "source": [
    "b_list    # list() 函数把元组转换成列表，相当于给数据“解锁”，将元素修改完毕后，再用 tuple() 函数转换回元组，相当于“重新上锁”。-》适用于特殊需求"
   ]
  },
  {
   "cell_type": "code",
   "execution_count": 8,
   "id": "481811cb",
   "metadata": {},
   "outputs": [],
   "source": [
    "# 列表和元组的语义较为接近\n",
    "# list() 函数常用来在数据处理中实体化迭代器或生成器"
   ]
  },
  {
   "cell_type": "markdown",
   "id": "5b503185",
   "metadata": {},
   "source": [
    "#### pyhton迭代器\n",
    "+ 迭代是Python最强大的功能之一，是访问集合元素的一种方式。\n",
    "\n",
    "+ 迭代器是一个可以记住遍历的位置的对象。\n",
    "\n",
    "+ 迭代器对象从集合的第一个元素开始访问，直到所有的元素被访问完结束。迭代器只能往前不会后退。\n",
    "\n",
    "+ 迭代器有两个基本的方法：iter() 和 next()。\n",
    "\n",
    "+ 字符串，列表或元组对象都可用于创建迭代器：\n",
    "\n",
    "#### pyhton生成器\n",
    "+ 在 Python 中，使用了 yield 的函数被称为生成器（generator）。\n",
    "\n",
    "+ 跟普通函数不同的是，生成器是一个返回迭代器的函数，只能用于迭代操作，更简单点理解生成器就是一个迭代器。\n",
    "\n",
    "+ 在调用生成器运行的过程中，每次遇到 yield 时函数会暂停并保存当前所有的运行信息，返回 yield 的值, 并在下一次执行 next() 方法时从当前位置继续运行。\n",
    "\n",
    "+ 调用一个生成器函数，返回的是一个迭代器对象。"
   ]
  },
  {
   "cell_type": "code",
   "execution_count": 9,
   "id": "e60cd92a",
   "metadata": {},
   "outputs": [],
   "source": [
    "gen = range(10)"
   ]
  },
  {
   "cell_type": "code",
   "execution_count": 10,
   "id": "d429ffdc",
   "metadata": {},
   "outputs": [
    {
     "data": {
      "text/plain": [
       "range(0, 10)"
      ]
     },
     "execution_count": 10,
     "metadata": {},
     "output_type": "execute_result"
    }
   ],
   "source": [
    "gen"
   ]
  },
  {
   "cell_type": "code",
   "execution_count": 11,
   "id": "aedfdc87",
   "metadata": {},
   "outputs": [
    {
     "data": {
      "text/plain": [
       "[0, 1, 2, 3, 4, 5, 6, 7, 8, 9]"
      ]
     },
     "execution_count": 11,
     "metadata": {},
     "output_type": "execute_result"
    }
   ],
   "source": [
    "list(gen)"
   ]
  },
  {
   "cell_type": "code",
   "execution_count": null,
   "id": "1ca3147a",
   "metadata": {},
   "outputs": [],
   "source": [
    "# 添加和删除元素"
   ]
  },
  {
   "cell_type": "code",
   "execution_count": 12,
   "id": "1cfa9d0e",
   "metadata": {},
   "outputs": [],
   "source": [
    "b_list.append('dwarf')    # append 在列表末尾添加元素"
   ]
  },
  {
   "cell_type": "code",
   "execution_count": 13,
   "id": "6c6f3169",
   "metadata": {},
   "outputs": [
    {
     "data": {
      "text/plain": [
       "['foo', 'bar', 'baz', 'dwarf']"
      ]
     },
     "execution_count": 13,
     "metadata": {},
     "output_type": "execute_result"
    }
   ],
   "source": [
    "b_list"
   ]
  },
  {
   "cell_type": "code",
   "execution_count": 14,
   "id": "9d823214",
   "metadata": {},
   "outputs": [],
   "source": [
    "b_list.insert(1,'red')   # insert 可在特定位置插入元素 ，但是插入的序号需要在0和列表长度之间"
   ]
  },
  {
   "cell_type": "code",
   "execution_count": 15,
   "id": "bf1318cf",
   "metadata": {},
   "outputs": [
    {
     "data": {
      "text/plain": [
       "['foo', 'red', 'bar', 'baz', 'dwarf']"
      ]
     },
     "execution_count": 15,
     "metadata": {},
     "output_type": "execute_result"
    }
   ],
   "source": [
    "b_list"
   ]
  },
  {
   "cell_type": "code",
   "execution_count": null,
   "id": "0be409ce",
   "metadata": {},
   "outputs": [],
   "source": []
  },
  {
   "cell_type": "code",
   "execution_count": null,
   "id": "d5d5b44e",
   "metadata": {},
   "outputs": [],
   "source": []
  }
 ],
 "metadata": {
  "kernelspec": {
   "display_name": "Python 3",
   "language": "python",
   "name": "python3"
  },
  "language_info": {
   "codemirror_mode": {
    "name": "ipython",
    "version": 3
   },
   "file_extension": ".py",
   "mimetype": "text/x-python",
   "name": "python",
   "nbconvert_exporter": "python",
   "pygments_lexer": "ipython3",
   "version": "3.8.8"
  }
 },
 "nbformat": 4,
 "nbformat_minor": 5
}
