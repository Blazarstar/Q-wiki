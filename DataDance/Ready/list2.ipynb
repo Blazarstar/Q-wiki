{
 "cells": [
  {
   "cell_type": "code",
   "execution_count": 1,
   "id": "fba76572",
   "metadata": {},
   "outputs": [],
   "source": [
    "# 列表篇 （一）"
   ]
  },
  {
   "cell_type": "markdown",
   "id": "d902f9d2",
   "metadata": {},
   "source": [
    "+ 添加和删除元素\n",
    "  + 添加\n",
    "  append 在列表末尾添加元素\n",
    "  insert 在特定位置添加元素 注：耗费的计算量大；\n",
    "  + 删除\n",
    "  pop 移除并返回指定位置的元素\n",
    "  remove 去除某个值\n",
    "  + 说明\n",
    "  如果不考虑性能，可以用append和remove,可以把python的列表当作完美的“多重集”数据结构"
   ]
  },
  {
   "cell_type": "code",
   "execution_count": 2,
   "id": "aa889d98",
   "metadata": {},
   "outputs": [],
   "source": [
    "# pop 移除并返回指定位置的元素"
   ]
  },
  {
   "cell_type": "code",
   "execution_count": 3,
   "id": "ea17dd1d",
   "metadata": {},
   "outputs": [],
   "source": [
    "tup=('foo','bar','baz')\n",
    "b_list = list(tup)"
   ]
  },
  {
   "cell_type": "code",
   "execution_count": 4,
   "id": "612f9c26",
   "metadata": {},
   "outputs": [
    {
     "data": {
      "text/plain": [
       "'baz'"
      ]
     },
     "execution_count": 4,
     "metadata": {},
     "output_type": "execute_result"
    }
   ],
   "source": [
    "b_list.pop(2)   "
   ]
  },
  {
   "cell_type": "code",
   "execution_count": 5,
   "id": "02970f76",
   "metadata": {},
   "outputs": [],
   "source": [
    "# remove 去除某个值"
   ]
  },
  {
   "cell_type": "code",
   "execution_count": 6,
   "id": "a006bd0e",
   "metadata": {},
   "outputs": [],
   "source": [
    "b_list.append('dwarf')"
   ]
  },
  {
   "cell_type": "code",
   "execution_count": 7,
   "id": "b57f6d71",
   "metadata": {},
   "outputs": [
    {
     "data": {
      "text/plain": [
       "['foo', 'bar', 'dwarf']"
      ]
     },
     "execution_count": 7,
     "metadata": {},
     "output_type": "execute_result"
    }
   ],
   "source": [
    "b_list"
   ]
  },
  {
   "cell_type": "code",
   "execution_count": 8,
   "id": "e8a5c6e5",
   "metadata": {},
   "outputs": [],
   "source": [
    "b_list.remove('foo')"
   ]
  },
  {
   "cell_type": "code",
   "execution_count": 9,
   "id": "5a89d3a2",
   "metadata": {},
   "outputs": [
    {
     "data": {
      "text/plain": [
       "['bar', 'dwarf']"
      ]
     },
     "execution_count": 9,
     "metadata": {},
     "output_type": "execute_result"
    }
   ],
   "source": [
    "b_list"
   ]
  },
  {
   "cell_type": "code",
   "execution_count": 10,
   "id": "f416d6ad",
   "metadata": {},
   "outputs": [],
   "source": [
    "# in 可用于检查列表中是否包含某个值"
   ]
  },
  {
   "cell_type": "code",
   "execution_count": 11,
   "id": "b37be75e",
   "metadata": {},
   "outputs": [
    {
     "data": {
      "text/plain": [
       "True"
      ]
     },
     "execution_count": 11,
     "metadata": {},
     "output_type": "execute_result"
    }
   ],
   "source": [
    "'dwarf' in b_list"
   ]
  },
  {
   "cell_type": "code",
   "execution_count": 13,
   "id": "91c42ead",
   "metadata": {},
   "outputs": [
    {
     "data": {
      "text/plain": [
       "False"
      ]
     },
     "execution_count": 13,
     "metadata": {},
     "output_type": "execute_result"
    }
   ],
   "source": [
    "'dwarf'not in b_list"
   ]
  },
  {
   "cell_type": "markdown",
   "id": "25f9d5ae",
   "metadata": {},
   "source": [
    "+ 在列表中检查是否存在某个值远比字典和集合速度慢，因为python是线性搜索列表中的值，但在字典和集合中，同样的时间内还可以检查其他项。"
   ]
  },
  {
   "cell_type": "code",
   "execution_count": 14,
   "id": "045dc9f0",
   "metadata": {},
   "outputs": [],
   "source": [
    "# 串联和组合列表"
   ]
  },
  {
   "cell_type": "code",
   "execution_count": 15,
   "id": "532615ba",
   "metadata": {},
   "outputs": [
    {
     "data": {
      "text/plain": [
       "[4, None, 'foo', 7, 8, (2, 3)]"
      ]
     },
     "execution_count": 15,
     "metadata": {},
     "output_type": "execute_result"
    }
   ],
   "source": [
    "[4,None,'foo']+[7,8,(2,3)]    //串联"
   ]
  },
  {
   "cell_type": "code",
   "execution_count": 16,
   "id": "15ea5d82",
   "metadata": {},
   "outputs": [],
   "source": [
    "x = [4,None,'foo']"
   ]
  },
  {
   "cell_type": "code",
   "execution_count": 17,
   "id": "dc1140ff",
   "metadata": {},
   "outputs": [],
   "source": [
    "x.extend([7,8,(2,3)])    #extend 方法可以用来追加多个元素"
   ]
  },
  {
   "cell_type": "code",
   "execution_count": 18,
   "id": "3c39a702",
   "metadata": {},
   "outputs": [
    {
     "data": {
      "text/plain": [
       "[4, None, 'foo', 7, 8, (2, 3)]"
      ]
     },
     "execution_count": 18,
     "metadata": {},
     "output_type": "execute_result"
    }
   ],
   "source": [
    "x"
   ]
  },
  {
   "cell_type": "markdown",
   "id": "26c3e51d",
   "metadata": {},
   "source": [
    "通过加法把列表串联的计算量较大，因为要新建一个列表，并且要复制对象。\n",
    "用extend追加元素，尤其是到一个大的列表中，更为可取。"
   ]
  },
  {
   "cell_type": "code",
   "execution_count": 20,
   "id": "52da5f0e",
   "metadata": {},
   "outputs": [],
   "source": [
    "# 串联\n",
    "# everything = []\n",
    "# for chunk in list_of_lists:\n",
    "#     everything = everything + chunk"
   ]
  },
  {
   "cell_type": "code",
   "execution_count": null,
   "id": "72602de7",
   "metadata": {},
   "outputs": [],
   "source": [
    "# extend方法\n",
    "# everything = []\n",
    "# for chunk in list_of_lists:\n",
    "#     everything.extend(chunk)"
   ]
  },
  {
   "cell_type": "markdown",
   "id": "6f18920b",
   "metadata": {},
   "source": [
    "#### 排序\n",
    "+ sort函数 ：将一个列表原地排序（不创建新的对象）"
   ]
  },
  {
   "cell_type": "code",
   "execution_count": 21,
   "id": "573389b2",
   "metadata": {},
   "outputs": [
    {
     "data": {
      "text/plain": [
       "[1, 2, 3, 5, 7]"
      ]
     },
     "execution_count": 21,
     "metadata": {},
     "output_type": "execute_result"
    }
   ],
   "source": [
    "a =[7,2,5,1,3]\n",
    "a.sort()\n",
    "a"
   ]
  },
  {
   "cell_type": "markdown",
   "id": "7239c1ee",
   "metadata": {},
   "source": [
    "sort 有一些选项有时候很好用： 排序key"
   ]
  },
  {
   "cell_type": "code",
   "execution_count": 23,
   "id": "106cb7d6",
   "metadata": {},
   "outputs": [
    {
     "data": {
      "text/plain": [
       "['He', 'saw', 'six', 'small', 'foxes']"
      ]
     },
     "execution_count": 23,
     "metadata": {},
     "output_type": "execute_result"
    }
   ],
   "source": [
    "b = ['saw','small','He','foxes','six']\n",
    "b.sort(key=len)\n",
    "b"
   ]
  },
  {
   "cell_type": "markdown",
   "id": "cab99cc1",
   "metadata": {},
   "source": [
    "#### 二分搜索和维护已排序的列表\n",
    "+ bisect模块支持二分查找和向已排序的列表插入值\n",
    "+ bisect.bisect可以找到插入值后仍保证排序的位置"
   ]
  },
  {
   "cell_type": "code",
   "execution_count": 35,
   "id": "4a666064",
   "metadata": {},
   "outputs": [
    {
     "data": {
      "text/plain": [
       "4"
      ]
     },
     "execution_count": 35,
     "metadata": {},
     "output_type": "execute_result"
    }
   ],
   "source": [
    "import bisect\n",
    "c = [1,2,2,2,3,4,7]\n",
    "bisect.bisect(c,2)\n"
   ]
  },
  {
   "cell_type": "markdown",
   "id": "82b1401d",
   "metadata": {},
   "source": [
    "#### bisect.bisect_left(a, x, [lo=0, hi=len(a)])：\n",
    "+ 在序列 a 中二分查找适合元素 x 插入的位置，保证 a 仍为 有序序列。\n",
    "+ 若序列 a 中存在与 x 相同的元素，则返回与 x 相同的第一个 (最左侧) 元素的位置索引，使得 x 若插入后能位于其 左侧；\n",
    "+ 若序列 a 中不存在与 x 相同的元素，则返回与 x 右侧距离最近的元素位置索引，使得 x 若插入后能位于其 左侧。"
   ]
  },
  {
   "cell_type": "code",
   "execution_count": 34,
   "id": "6e6570a6",
   "metadata": {},
   "outputs": [
    {
     "data": {
      "text/plain": [
       "3"
      ]
     },
     "execution_count": 34,
     "metadata": {},
     "output_type": "execute_result"
    }
   ],
   "source": [
    "import bisect\n",
    "c = [1,2,2,7,5,3,8]\n",
    "bisect.bisect(c,5)"
   ]
  },
  {
   "cell_type": "markdown",
   "id": "2cff0a93",
   "metadata": {},
   "source": [
    "因此，返回的位置索引 又称为 “插入点”"
   ]
  },
  {
   "cell_type": "code",
   "execution_count": 33,
   "id": "19df81ca",
   "metadata": {},
   "outputs": [
    {
     "data": {
      "text/plain": [
       "[1, 1, 2, 2, 2, 3, 4, 5, 7]"
      ]
     },
     "execution_count": 33,
     "metadata": {},
     "output_type": "execute_result"
    }
   ],
   "source": [
    "import bisect\n",
    "c = [1,1,2,2,2,3,4,7]\n",
    "bisect.insort(c,5)\n",
    "c"
   ]
  },
  {
   "cell_type": "markdown",
   "id": "6402a1f1",
   "metadata": {},
   "source": [
    "注意： bisect 模块不会检查列表是否已排好序，进行检查的话会耗费大量计算。\n",
    "     故若对未排序的列表使用bisect不会产生错误，但结果不一定正确。"
   ]
  },
  {
   "cell_type": "code",
   "execution_count": null,
   "id": "8ea1fdff",
   "metadata": {},
   "outputs": [],
   "source": []
  },
  {
   "cell_type": "code",
   "execution_count": null,
   "id": "24c9b30f",
   "metadata": {},
   "outputs": [],
   "source": []
  },
  {
   "cell_type": "code",
   "execution_count": null,
   "id": "b35672b6",
   "metadata": {},
   "outputs": [],
   "source": []
  },
  {
   "cell_type": "code",
   "execution_count": null,
   "id": "9b531a1c",
   "metadata": {},
   "outputs": [],
   "source": []
  },
  {
   "cell_type": "code",
   "execution_count": null,
   "id": "5734e221",
   "metadata": {},
   "outputs": [],
   "source": []
  },
  {
   "cell_type": "code",
   "execution_count": null,
   "id": "cc11b642",
   "metadata": {},
   "outputs": [],
   "source": [
    "\n"
   ]
  },
  {
   "cell_type": "code",
   "execution_count": null,
   "id": "126dd30b",
   "metadata": {},
   "outputs": [],
   "source": []
  },
  {
   "cell_type": "code",
   "execution_count": null,
   "id": "96a71824",
   "metadata": {},
   "outputs": [],
   "source": []
  }
 ],
 "metadata": {
  "kernelspec": {
   "display_name": "Python 3",
   "language": "python",
   "name": "python3"
  },
  "language_info": {
   "codemirror_mode": {
    "name": "ipython",
    "version": 3
   },
   "file_extension": ".py",
   "mimetype": "text/x-python",
   "name": "python",
   "nbconvert_exporter": "python",
   "pygments_lexer": "ipython3",
   "version": "3.8.8"
  }
 },
 "nbformat": 4,
 "nbformat_minor": 5
}
