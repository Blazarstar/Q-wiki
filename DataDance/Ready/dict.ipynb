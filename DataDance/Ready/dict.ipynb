{
 "cells": [
  {
   "cell_type": "markdown",
   "id": "c11d0f1f",
   "metadata": {},
   "source": [
    "### 字典"
   ]
  },
  {
   "cell_type": "markdown",
   "id": "600a1724",
   "metadata": {},
   "source": [
    "字典是python中最重要的数据结构，他又叫做哈希映射或关联数组。他是键值对的大小可变集合，键和值都是python对象。"
   ]
  },
  {
   "cell_type": "code",
   "execution_count": 2,
   "id": "f94f180a",
   "metadata": {},
   "outputs": [],
   "source": [
    "empty_dict = { }"
   ]
  },
  {
   "cell_type": "code",
   "execution_count": 4,
   "id": "72bf8134",
   "metadata": {},
   "outputs": [],
   "source": [
    "d1 = {'a':'some value','b':[1,2,3,4]}"
   ]
  },
  {
   "cell_type": "code",
   "execution_count": 5,
   "id": "47e1216d",
   "metadata": {},
   "outputs": [
    {
     "data": {
      "text/plain": [
       "{'a': 'some value', 'b': [1, 2, 3, 4]}"
      ]
     },
     "execution_count": 5,
     "metadata": {},
     "output_type": "execute_result"
    }
   ],
   "source": [
    "d1"
   ]
  },
  {
   "cell_type": "code",
   "execution_count": 6,
   "id": "6de3190e",
   "metadata": {},
   "outputs": [
    {
     "data": {
      "text/plain": [
       "True"
      ]
     },
     "execution_count": 6,
     "metadata": {},
     "output_type": "execute_result"
    }
   ],
   "source": [
    "'b' in d1    #可以对字典元素进行访问"
   ]
  },
  {
   "cell_type": "code",
   "execution_count": 7,
   "id": "bb938c38",
   "metadata": {},
   "outputs": [],
   "source": [
    "d1[5] = 'some value'"
   ]
  },
  {
   "cell_type": "code",
   "execution_count": 8,
   "id": "18984aaf",
   "metadata": {},
   "outputs": [
    {
     "data": {
      "text/plain": [
       "{'a': 'some value', 'b': [1, 2, 3, 4], 5: 'some value'}"
      ]
     },
     "execution_count": 8,
     "metadata": {},
     "output_type": "execute_result"
    }
   ],
   "source": [
    "d1"
   ]
  },
  {
   "cell_type": "code",
   "execution_count": 9,
   "id": "d884ace7",
   "metadata": {},
   "outputs": [],
   "source": [
    "d1['dummy']='another value'"
   ]
  },
  {
   "cell_type": "code",
   "execution_count": 10,
   "id": "a84d6a30",
   "metadata": {},
   "outputs": [
    {
     "data": {
      "text/plain": [
       "{'a': 'some value',\n",
       " 'b': [1, 2, 3, 4],\n",
       " 5: 'some value',\n",
       " 'dummy': 'another value'}"
      ]
     },
     "execution_count": 10,
     "metadata": {},
     "output_type": "execute_result"
    }
   ],
   "source": [
    "d1"
   ]
  },
  {
   "cell_type": "code",
   "execution_count": 11,
   "id": "b2b96255",
   "metadata": {},
   "outputs": [],
   "source": [
    "del d1[5]     # 删除值可以用del或pop方法，注意返回值得同时删除键"
   ]
  },
  {
   "cell_type": "code",
   "execution_count": 12,
   "id": "fb1ec61e",
   "metadata": {},
   "outputs": [
    {
     "data": {
      "text/plain": [
       "{'a': 'some value', 'b': [1, 2, 3, 4], 'dummy': 'another value'}"
      ]
     },
     "execution_count": 12,
     "metadata": {},
     "output_type": "execute_result"
    }
   ],
   "source": [
    "d1"
   ]
  },
  {
   "cell_type": "code",
   "execution_count": 13,
   "id": "3b81054b",
   "metadata": {},
   "outputs": [],
   "source": [
    "ret = d1.pop('dummy')"
   ]
  },
  {
   "cell_type": "code",
   "execution_count": 14,
   "id": "03199793",
   "metadata": {
    "collapsed": true
   },
   "outputs": [
    {
     "data": {
      "text/plain": [
       "'another value'"
      ]
     },
     "execution_count": 14,
     "metadata": {},
     "output_type": "execute_result"
    }
   ],
   "source": [
    "ret"
   ]
  },
  {
   "cell_type": "code",
   "execution_count": 15,
   "id": "9e876f3d",
   "metadata": {},
   "outputs": [
    {
     "data": {
      "text/plain": [
       "{'a': 'some value', 'b': [1, 2, 3, 4]}"
      ]
     },
     "execution_count": 15,
     "metadata": {},
     "output_type": "execute_result"
    }
   ],
   "source": [
    "d1"
   ]
  },
  {
   "cell_type": "markdown",
   "id": "c60a6e8c",
   "metadata": {},
   "source": [
    "keys 和 values是字典的键和值的迭代器方法，虽然键值对没有顺序，但这两个方法可以用相同的顺序输出键和值"
   ]
  },
  {
   "cell_type": "code",
   "execution_count": 16,
   "id": "45c43f3c",
   "metadata": {},
   "outputs": [
    {
     "data": {
      "text/plain": [
       "['a', 'b']"
      ]
     },
     "execution_count": 16,
     "metadata": {},
     "output_type": "execute_result"
    }
   ],
   "source": [
    "list(d1.keys())"
   ]
  },
  {
   "cell_type": "code",
   "execution_count": 17,
   "id": "6c27d848",
   "metadata": {},
   "outputs": [
    {
     "data": {
      "text/plain": [
       "['some value', [1, 2, 3, 4]]"
      ]
     },
     "execution_count": 17,
     "metadata": {},
     "output_type": "execute_result"
    }
   ],
   "source": [
    "list(d1.values())"
   ]
  },
  {
   "cell_type": "markdown",
   "id": "4d7d30c0",
   "metadata": {},
   "source": [
    "用update方法可以将一个字典与另一个融合"
   ]
  },
  {
   "cell_type": "code",
   "execution_count": 18,
   "id": "27ffbe4f",
   "metadata": {},
   "outputs": [],
   "source": [
    "d1.update({'b':'foo','c':12})"
   ]
  },
  {
   "cell_type": "code",
   "execution_count": 19,
   "id": "defe28de",
   "metadata": {},
   "outputs": [
    {
     "data": {
      "text/plain": [
       "{'a': 'some value', 'b': 'foo', 'c': 12}"
      ]
     },
     "execution_count": 19,
     "metadata": {},
     "output_type": "execute_result"
    }
   ],
   "source": [
    "d1     #感觉用覆盖这个词更合适一些。"
   ]
  },
  {
   "cell_type": "markdown",
   "id": "bff795d3",
   "metadata": {},
   "source": [
    "update方法是原地改变字典，因此任何传递给update的键的旧的值都会被舍弃"
   ]
  },
  {
   "cell_type": "markdown",
   "id": "554e8004",
   "metadata": {},
   "source": [
    "##### 用序列创建字典"
   ]
  },
  {
   "cell_type": "code",
   "execution_count": null,
   "id": "d6e61fc8",
   "metadata": {},
   "outputs": [],
   "source": [
    "#将两个序列配对组合成字典的方法如下："
   ]
  },
  {
   "cell_type": "code",
   "execution_count": 22,
   "id": "1cc72e24",
   "metadata": {},
   "outputs": [],
   "source": [
    "# mapping ={ }\n",
    "# for key,value in zip(key_list,value_list):\n",
    "#     mapping[key] = value\n",
    "# #字典本质上是2元元组的集合，dict可以接受2元元组的列表"
   ]
  },
  {
   "cell_type": "code",
   "execution_count": null,
   "id": "33a31da3",
   "metadata": {},
   "outputs": [],
   "source": [
    "# dict comprehensions  一种构建字典的优雅方式"
   ]
  },
  {
   "cell_type": "markdown",
   "id": "6ca6d71d",
   "metadata": {},
   "source": [
    "默认值"
   ]
  },
  {
   "cell_type": "code",
   "execution_count": 23,
   "id": "ab8a7e58",
   "metadata": {},
   "outputs": [],
   "source": [
    "# if key in some_dict:\n",
    "#     value = some_dict[key]\n",
    "# else:\n",
    "#     value = default_value\n",
    "    \n",
    "# dict的方法get和pop可以取默认值进行返回，if-else可以简写为：\n",
    "\n",
    "# value=some_dict.get(key,default_value)\n",
    "# get会默认返回None,如果不存在键，pop会抛出一个例外。关于设定值，常见的情况是在字典的值是属于其他集合，如列表。"
   ]
  },
  {
   "cell_type": "code",
   "execution_count": 26,
   "id": "0d2bec6c",
   "metadata": {},
   "outputs": [
    {
     "data": {
      "text/plain": [
       "{'a': ['apple', 'atom'], 'b': ['bat', 'bar']}"
      ]
     },
     "execution_count": 26,
     "metadata": {},
     "output_type": "execute_result"
    }
   ],
   "source": [
    "#通过首字母，将一个列表的单词分类\n",
    "words = ['apple','bat','bar','atom']\n",
    "by_letter = {}\n",
    "for word in words:\n",
    "    letter =word[0]\n",
    "    if letter not in by_letter:\n",
    "        by_letter[letter] = [word]\n",
    "    else:\n",
    "        by_letter[letter].append(word)\n",
    "by_letter"
   ]
  },
  {
   "cell_type": "code",
   "execution_count": 27,
   "id": "1a05a1e2",
   "metadata": {},
   "outputs": [],
   "source": [
    "# setdefault方法就是干这个的，前面的for循环可以写：\n",
    "for word in words:\n",
    "    letter = word[0]\n",
    "    by_letter.setdefault(letter,[]).append(word)    \n",
    "    \n",
    "#感觉没太看明白=.="
   ]
  },
  {
   "cell_type": "code",
   "execution_count": 29,
   "id": "f553f826",
   "metadata": {},
   "outputs": [],
   "source": [
    "# collection 模块有一个很有用的类，defaultdict,它可以进一步简化上面。传递类型或函数以生成每个位置的默认值\n",
    "from collections import defaultdict\n",
    "by_letter = defaultdict(list)\n",
    "for word in words:\n",
    "    by_letter[word[0]].append(word)\n",
    "    \n",
    "# 好像也没太理解T_T"
   ]
  },
  {
   "cell_type": "markdown",
   "id": "c3f91dbc",
   "metadata": {},
   "source": [
    "从这里找了一个例子，感觉比较清晰了：\n",
    "https://www.runoob.com/python/att-dictionary-setdefault.html"
   ]
  },
  {
   "cell_type": "code",
   "execution_count": null,
   "id": "78e28b9e",
   "metadata": {},
   "outputs": [],
   "source": [
    "#!/usr/bin/python\n",
    "# -*- coding: UTF-8 -*-\n",
    "\n",
    "dict = {'runoob': '菜鸟教程', 'google': 'Google 搜索'}\n",
    " \n",
    "print \"Value : %s\" %  dict.setdefault('runoob', None)\n",
    "print \"Value : %s\" %  dict.setdefault('Taobao', '淘宝')\n",
    "print \"-----------------\"\n",
    "# 该值包含 Taobao\n",
    "for k, v in dict.iteritems():\n",
    "    print k, v\n",
    "    \n",
    "以上实例输出结果为：\n",
    "\n",
    "Value : 菜鸟教程\n",
    "Value : 淘宝\n",
    "-----------------\n",
    "google Google 搜索\n",
    "Taobao 淘宝\n",
    "runoob 菜鸟教程"
   ]
  },
  {
   "cell_type": "markdown",
   "id": "168d5226",
   "metadata": {},
   "source": [
    "#### 有效的键类型"
   ]
  },
  {
   "cell_type": "markdown",
   "id": "ee8ed6c7",
   "metadata": {},
   "source": [
    "+ 字典的值可以是任意python对象，而键通常是不可变的标量类型（整数、浮点型、字符串）或元组（元组中的对象必须是不可变的），也被称为“可哈希性”。\n",
    "+　以用作ｈａｓｈ函数检测一个对象是否是可哈希的（可被用作字典的键）\n",
    "+　要用列表作为键，一种方法是将列表转化为元组，只要内部元素可以被哈希，它也可以被哈希。"
   ]
  },
  {
   "cell_type": "code",
   "execution_count": null,
   "id": "52b358bf",
   "metadata": {},
   "outputs": [],
   "source": []
  },
  {
   "cell_type": "code",
   "execution_count": 33,
   "id": "9cd01020",
   "metadata": {},
   "outputs": [],
   "source": []
  },
  {
   "cell_type": "code",
   "execution_count": null,
   "id": "cfaf90d3",
   "metadata": {},
   "outputs": [],
   "source": []
  }
 ],
 "metadata": {
  "kernelspec": {
   "display_name": "Python 3",
   "language": "python",
   "name": "python3"
  },
  "language_info": {
   "codemirror_mode": {
    "name": "ipython",
    "version": 3
   },
   "file_extension": ".py",
   "mimetype": "text/x-python",
   "name": "python",
   "nbconvert_exporter": "python",
   "pygments_lexer": "ipython3",
   "version": "3.8.8"
  }
 },
 "nbformat": 4,
 "nbformat_minor": 5
}
