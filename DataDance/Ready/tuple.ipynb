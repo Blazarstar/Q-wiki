{
 "cells": [
  {
   "cell_type": "code",
   "execution_count": null,
   "id": "ea531b96",
   "metadata": {},
   "outputs": [],
   "source": [
    "# 构建元组"
   ]
  },
  {
   "cell_type": "code",
   "execution_count": 3,
   "id": "6a77998a",
   "metadata": {},
   "outputs": [],
   "source": [
    "tup = 4,5,6"
   ]
  },
  {
   "cell_type": "code",
   "execution_count": 4,
   "id": "75035c02",
   "metadata": {},
   "outputs": [
    {
     "data": {
      "text/plain": [
       "(4, 5, 6)"
      ]
     },
     "execution_count": 4,
     "metadata": {},
     "output_type": "execute_result"
    }
   ],
   "source": [
    "tup"
   ]
  },
  {
   "cell_type": "code",
   "execution_count": null,
   "id": "da21140a",
   "metadata": {},
   "outputs": [],
   "source": [
    "# 复杂表达式定义元组"
   ]
  },
  {
   "cell_type": "code",
   "execution_count": 5,
   "id": "b712c7fa",
   "metadata": {},
   "outputs": [],
   "source": [
    "nested_tup = (4,5,6),(7,8)"
   ]
  },
  {
   "cell_type": "code",
   "execution_count": 6,
   "id": "bab3ac6d",
   "metadata": {},
   "outputs": [
    {
     "data": {
      "text/plain": [
       "((4, 5, 6), (7, 8))"
      ]
     },
     "execution_count": 6,
     "metadata": {},
     "output_type": "execute_result"
    }
   ],
   "source": [
    "nested_tup"
   ]
  },
  {
   "cell_type": "code",
   "execution_count": null,
   "id": "44d964f8",
   "metadata": {},
   "outputs": [],
   "source": [
    "# 用tuple可以将任意序列或迭代器转换为元组"
   ]
  },
  {
   "cell_type": "code",
   "execution_count": 9,
   "id": "74bb3692",
   "metadata": {},
   "outputs": [
    {
     "data": {
      "text/plain": [
       "(4, 0, 2)"
      ]
     },
     "execution_count": 9,
     "metadata": {},
     "output_type": "execute_result"
    }
   ],
   "source": [
    "tuple([4,0,2])"
   ]
  },
  {
   "cell_type": "code",
   "execution_count": 13,
   "id": "219caff8",
   "metadata": {},
   "outputs": [],
   "source": [
    "tup =tuple('stirng')"
   ]
  },
  {
   "cell_type": "code",
   "execution_count": 14,
   "id": "d0505115",
   "metadata": {},
   "outputs": [
    {
     "data": {
      "text/plain": [
       "('s', 't', 'i', 'r', 'n', 'g')"
      ]
     },
     "execution_count": 14,
     "metadata": {},
     "output_type": "execute_result"
    }
   ],
   "source": [
    "tup"
   ]
  },
  {
   "cell_type": "code",
   "execution_count": 15,
   "id": "98b7b5da",
   "metadata": {
    "scrolled": false
   },
   "outputs": [
    {
     "data": {
      "text/plain": [
       "'s'"
      ]
     },
     "execution_count": 15,
     "metadata": {},
     "output_type": "execute_result"
    }
   ],
   "source": [
    "tup[0]"
   ]
  },
  {
   "cell_type": "code",
   "execution_count": 16,
   "id": "c1cefc1b",
   "metadata": {},
   "outputs": [],
   "source": [
    "tup = tuple(['foo',[1,2],True])"
   ]
  },
  {
   "cell_type": "code",
   "execution_count": 17,
   "id": "9b8b83c3",
   "metadata": {},
   "outputs": [
    {
     "data": {
      "text/plain": [
       "True"
      ]
     },
     "execution_count": 17,
     "metadata": {},
     "output_type": "execute_result"
    }
   ],
   "source": [
    "tup[2]"
   ]
  },
  {
   "cell_type": "code",
   "execution_count": 19,
   "id": "523e39b3",
   "metadata": {},
   "outputs": [
    {
     "ename": "TypeError",
     "evalue": "'tuple' object does not support item assignment",
     "output_type": "error",
     "traceback": [
      "\u001b[1;31m---------------------------------------------------------------------------\u001b[0m",
      "\u001b[1;31mTypeError\u001b[0m                                 Traceback (most recent call last)",
      "\u001b[1;32m<ipython-input-19-e84077ea19c6>\u001b[0m in \u001b[0;36m<module>\u001b[1;34m\u001b[0m\n\u001b[1;32m----> 1\u001b[1;33m \u001b[0mtup\u001b[0m\u001b[1;33m[\u001b[0m\u001b[1;36m2\u001b[0m\u001b[1;33m]\u001b[0m\u001b[1;33m=\u001b[0m\u001b[1;32mFalse\u001b[0m\u001b[1;33m\u001b[0m\u001b[1;33m\u001b[0m\u001b[0m\n\u001b[0m",
      "\u001b[1;31mTypeError\u001b[0m: 'tuple' object does not support item assignment"
     ]
    }
   ],
   "source": [
    "tup[2]=False   # 当元组中存储的对象可能是可变对象，一旦创建了元组，则元组中的对象就不能再修改。"
   ]
  },
  {
   "cell_type": "code",
   "execution_count": 20,
   "id": "16bd4bb7",
   "metadata": {},
   "outputs": [],
   "source": [
    "tup[1].append(3)"
   ]
  },
  {
   "cell_type": "code",
   "execution_count": 21,
   "id": "290cb583",
   "metadata": {},
   "outputs": [
    {
     "data": {
      "text/plain": [
       "('foo', [1, 2, 3], True)"
      ]
     },
     "execution_count": 21,
     "metadata": {},
     "output_type": "execute_result"
    }
   ],
   "source": [
    "tup  #如果元组中的某个对象是可变的，比如列表，则可以在原位进行修改"
   ]
  },
  {
   "cell_type": "code",
   "execution_count": 25,
   "id": "cc1e5787",
   "metadata": {},
   "outputs": [
    {
     "data": {
      "text/plain": [
       "(4, None, 'foo', 6, 0, 'bar')"
      ]
     },
     "execution_count": 25,
     "metadata": {},
     "output_type": "execute_result"
    }
   ],
   "source": [
    "(4,None,'foo')+(6,0)+('bar',)"
   ]
  },
  {
   "cell_type": "code",
   "execution_count": 26,
   "id": "ad93b095",
   "metadata": {},
   "outputs": [
    {
     "data": {
      "text/plain": [
       "('foo', 'bar', 'foo', 'bar', 'foo', 'bar', 'foo', 'bar')"
      ]
     },
     "execution_count": 26,
     "metadata": {},
     "output_type": "execute_result"
    }
   ],
   "source": [
    "('foo','bar')*4   #对象本身没有被复制，而属于引用"
   ]
  },
  {
   "cell_type": "code",
   "execution_count": null,
   "id": "e69d0f28",
   "metadata": {},
   "outputs": [],
   "source": [
    "### 拆分元组"
   ]
  },
  {
   "cell_type": "code",
   "execution_count": null,
   "id": "96242547",
   "metadata": {},
   "outputs": [],
   "source": [
    "tup = (4,5,6)"
   ]
  },
  {
   "cell_type": "code",
   "execution_count": 29,
   "id": "9e75e300",
   "metadata": {},
   "outputs": [],
   "source": [
    "a, b, c = tup"
   ]
  },
  {
   "cell_type": "code",
   "execution_count": 30,
   "id": "fc669cd8",
   "metadata": {},
   "outputs": [
    {
     "data": {
      "text/plain": [
       "[1, 2, 3]"
      ]
     },
     "execution_count": 30,
     "metadata": {},
     "output_type": "execute_result"
    }
   ],
   "source": [
    "b   # 理论上应该输出b=5?但为什么实际是输出了一个列表？"
   ]
  },
  {
   "cell_type": "code",
   "execution_count": 31,
   "id": "6f6692fa",
   "metadata": {},
   "outputs": [],
   "source": [
    "tup = 4,5,(6,7)    ## 拆分元组的元组"
   ]
  },
  {
   "cell_type": "code",
   "execution_count": 32,
   "id": "1b3488be",
   "metadata": {},
   "outputs": [],
   "source": [
    "a,b,(c,d)=tup"
   ]
  },
  {
   "cell_type": "code",
   "execution_count": 33,
   "id": "860ccb51",
   "metadata": {},
   "outputs": [
    {
     "data": {
      "text/plain": [
       "7"
      ]
     },
     "execution_count": 33,
     "metadata": {},
     "output_type": "execute_result"
    }
   ],
   "source": [
    "d"
   ]
  },
  {
   "cell_type": "code",
   "execution_count": 34,
   "id": "1cf44075",
   "metadata": {},
   "outputs": [],
   "source": [
    "tmp =a"
   ]
  },
  {
   "cell_type": "code",
   "execution_count": 35,
   "id": "3432e43d",
   "metadata": {},
   "outputs": [],
   "source": [
    "a =b"
   ]
  },
  {
   "cell_type": "code",
   "execution_count": 36,
   "id": "67318e1b",
   "metadata": {},
   "outputs": [],
   "source": [
    "b = tmp ###替换变量的名字"
   ]
  },
  {
   "cell_type": "code",
   "execution_count": 37,
   "id": "e30cc9f4",
   "metadata": {},
   "outputs": [],
   "source": [
    "a, b =1,2"
   ]
  },
  {
   "cell_type": "code",
   "execution_count": 38,
   "id": "2e39901b",
   "metadata": {},
   "outputs": [
    {
     "data": {
      "text/plain": [
       "1"
      ]
     },
     "execution_count": 38,
     "metadata": {},
     "output_type": "execute_result"
    }
   ],
   "source": [
    "a"
   ]
  },
  {
   "cell_type": "code",
   "execution_count": 39,
   "id": "33ec9f17",
   "metadata": {},
   "outputs": [
    {
     "data": {
      "text/plain": [
       "2"
      ]
     },
     "execution_count": 39,
     "metadata": {},
     "output_type": "execute_result"
    }
   ],
   "source": [
    "b"
   ]
  },
  {
   "cell_type": "code",
   "execution_count": 40,
   "id": "b7bd5d5a",
   "metadata": {},
   "outputs": [],
   "source": [
    "b,a =a,b"
   ]
  },
  {
   "cell_type": "code",
   "execution_count": 41,
   "id": "77574383",
   "metadata": {},
   "outputs": [
    {
     "data": {
      "text/plain": [
       "2"
      ]
     },
     "execution_count": 41,
     "metadata": {},
     "output_type": "execute_result"
    }
   ],
   "source": [
    "a"
   ]
  },
  {
   "cell_type": "code",
   "execution_count": 42,
   "id": "b8d7a13c",
   "metadata": {},
   "outputs": [],
   "source": [
    "### 变量拆分常用来迭代元组或列表序列"
   ]
  },
  {
   "cell_type": "code",
   "execution_count": 46,
   "id": "3ee389ca",
   "metadata": {},
   "outputs": [],
   "source": [
    "seq=[(1,2,3),(4,5,6),(7,8,9)]"
   ]
  },
  {
   "cell_type": "code",
   "execution_count": 48,
   "id": "f6093602",
   "metadata": {},
   "outputs": [
    {
     "name": "stdout",
     "output_type": "stream",
     "text": [
      "a=1,b=2,c=3\n",
      "a=4,b=5,c=6\n",
      "a=7,b=8,c=9\n"
     ]
    }
   ],
   "source": [
    "for a,b,c in seq:\n",
    "    print('a={0},b={1},c={2}'.format(a,b,c))"
   ]
  },
  {
   "cell_type": "code",
   "execution_count": 49,
   "id": "95411dc3",
   "metadata": {},
   "outputs": [
    {
     "name": "stdout",
     "output_type": "stream",
     "text": [
      "a={0},b={1},c={2}\n",
      "a={0},b={1},c={2}\n",
      "a={0},b={1},c={2}\n"
     ]
    }
   ],
   "source": [
    "for a,b,c in seq:\n",
    "    print('a={0},b={1},c={2}')"
   ]
  },
  {
   "cell_type": "code",
   "execution_count": null,
   "id": "07039f5e",
   "metadata": {},
   "outputs": [],
   "source": [
    "## python 中新增的高级元组拆分功能"
   ]
  },
  {
   "cell_type": "code",
   "execution_count": 50,
   "id": "81f70836",
   "metadata": {},
   "outputs": [],
   "source": [
    "values =1,2,3,4,5"
   ]
  },
  {
   "cell_type": "code",
   "execution_count": 51,
   "id": "10d10e56",
   "metadata": {},
   "outputs": [],
   "source": [
    "a,b,*rest =values"
   ]
  },
  {
   "cell_type": "code",
   "execution_count": 52,
   "id": "a4b03ac3",
   "metadata": {},
   "outputs": [
    {
     "data": {
      "text/plain": [
       "(1, 2)"
      ]
     },
     "execution_count": 52,
     "metadata": {},
     "output_type": "execute_result"
    }
   ],
   "source": [
    "a,b"
   ]
  },
  {
   "cell_type": "code",
   "execution_count": 53,
   "id": "2021a05b",
   "metadata": {},
   "outputs": [
    {
     "data": {
      "text/plain": [
       "[3, 4, 5]"
      ]
     },
     "execution_count": 53,
     "metadata": {},
     "output_type": "execute_result"
    }
   ],
   "source": [
    "rest  #rest 的部分可以是舍弃的部分，rest的名字不重要。注：python程序员常将不需要的变量命名使用*_=values"
   ]
  },
  {
   "cell_type": "code",
   "execution_count": 54,
   "id": "53fd860c",
   "metadata": {},
   "outputs": [],
   "source": [
    "### tuple方法:元组的大小和内容不能修改，实例方法很轻量。其中，count可以用来统计某个值的出现频率"
   ]
  },
  {
   "cell_type": "code",
   "execution_count": 55,
   "id": "6d55de4f",
   "metadata": {},
   "outputs": [],
   "source": [
    "a = (1,2,2,2,3,4,2)"
   ]
  },
  {
   "cell_type": "code",
   "execution_count": 56,
   "id": "5754fe7e",
   "metadata": {},
   "outputs": [
    {
     "data": {
      "text/plain": [
       "4"
      ]
     },
     "execution_count": 56,
     "metadata": {},
     "output_type": "execute_result"
    }
   ],
   "source": [
    "a.count(2)"
   ]
  },
  {
   "cell_type": "code",
   "execution_count": null,
   "id": "e6fe08ce",
   "metadata": {},
   "outputs": [],
   "source": []
  },
  {
   "cell_type": "code",
   "execution_count": null,
   "id": "63399d4a",
   "metadata": {},
   "outputs": [],
   "source": []
  }
 ],
 "metadata": {
  "kernelspec": {
   "display_name": "Python 3",
   "language": "python",
   "name": "python3"
  },
  "language_info": {
   "codemirror_mode": {
    "name": "ipython",
    "version": 3
   },
   "file_extension": ".py",
   "mimetype": "text/x-python",
   "name": "python",
   "nbconvert_exporter": "python",
   "pygments_lexer": "ipython3",
   "version": "3.8.8"
  }
 },
 "nbformat": 4,
 "nbformat_minor": 5
}
