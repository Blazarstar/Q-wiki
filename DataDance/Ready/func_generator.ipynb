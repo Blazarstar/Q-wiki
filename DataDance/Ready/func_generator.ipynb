{
 "cells": [
  {
   "cell_type": "markdown",
   "id": "fa7039ff",
   "metadata": {},
   "source": [
    "函数 03 "
   ]
  },
  {
   "cell_type": "markdown",
   "id": "3138b308",
   "metadata": {},
   "source": [
    "柯里化（Currying）： 通过部分参数应用，从现有函数派生出新函数的技术。"
   ]
  },
  {
   "cell_type": "code",
   "execution_count": null,
   "id": "acfac016",
   "metadata": {},
   "outputs": [],
   "source": [
    "举个例子?"
   ]
  },
  {
   "cell_type": "markdown",
   "id": "e6320926",
   "metadata": {},
   "source": [
    "生成器"
   ]
  },
  {
   "cell_type": "markdown",
   "id": "5e29f263",
   "metadata": {},
   "source": [
    "以一种一致的方式对序列进行迭代，可操作对象如列表中的对象或文件中的行"
   ]
  },
  {
   "cell_type": "code",
   "execution_count": 3,
   "id": "ca16c324",
   "metadata": {},
   "outputs": [
    {
     "name": "stdout",
     "output_type": "stream",
     "text": [
      "a\n",
      "b\n",
      "c\n"
     ]
    }
   ],
   "source": [
    "some_dict = {'a':1,'b':2,'c':3}\n",
    "for key in some_dict:\n",
    "    print(key)"
   ]
  },
  {
   "cell_type": "code",
   "execution_count": 4,
   "id": "ecd5ed73",
   "metadata": {},
   "outputs": [
    {
     "data": {
      "text/plain": [
       "<dict_keyiterator at 0x2a7cf760f90>"
      ]
     },
     "execution_count": 4,
     "metadata": {},
     "output_type": "execute_result"
    }
   ],
   "source": [
    "dict_iterator = iter(some_dict)\n",
    "dict_iterator"
   ]
  },
  {
   "cell_type": "markdown",
   "id": "9d4fdf0b",
   "metadata": {},
   "source": [
    "说明：大部分能接受列表等的对象的方法的也都可以接受任何可迭代的对象。"
   ]
  },
  {
   "cell_type": "code",
   "execution_count": 5,
   "id": "9086599d",
   "metadata": {},
   "outputs": [
    {
     "data": {
      "text/plain": [
       "['a', 'b', 'c']"
      ]
     },
     "execution_count": 5,
     "metadata": {},
     "output_type": "execute_result"
    }
   ],
   "source": [
    "list(dict_iterator)"
   ]
  },
  {
   "cell_type": "markdown",
   "id": "3a338d2e",
   "metadata": {},
   "source": [
    "区别：一般函数执行后返回单个值，生成器则是以延迟的方式返回一个值序列。\n",
    "解释：值序列就是说，每返回一个值之后暂停，直到下一个值被请求时再继续。\n",
    "\n",
    "怪不得这么熟悉=。=   重点来了\n",
    "\n",
    "要创建一个生成器，只需要将函数中的return替换为yield即可。"
   ]
  },
  {
   "cell_type": "code",
   "execution_count": 22,
   "id": "7dfd465a",
   "metadata": {},
   "outputs": [],
   "source": [
    "def squares(n=10):\n",
    "    print('Generate')\n",
    "    for i in range(1,n+1):\n",
    "        yield i ** 2"
   ]
  },
  {
   "cell_type": "code",
   "execution_count": 23,
   "id": "1e271567",
   "metadata": {},
   "outputs": [],
   "source": [
    "gen = squares()"
   ]
  },
  {
   "cell_type": "code",
   "execution_count": 24,
   "id": "c3c53acd",
   "metadata": {},
   "outputs": [
    {
     "data": {
      "text/plain": [
       "<generator object squares at 0x000002A7CF7DE270>"
      ]
     },
     "execution_count": 24,
     "metadata": {},
     "output_type": "execute_result"
    }
   ],
   "source": [
    "gen"
   ]
  },
  {
   "cell_type": "code",
   "execution_count": 25,
   "id": "6a83daf2",
   "metadata": {},
   "outputs": [
    {
     "name": "stdout",
     "output_type": "stream",
     "text": [
      "Generate\n",
      "1 4 9 16 25 36 49 64 81 100 "
     ]
    }
   ],
   "source": [
    "for x in gen:\n",
    "    print(x,end=' ')"
   ]
  },
  {
   "cell_type": "markdown",
   "id": "448ecdef",
   "metadata": {},
   "source": [
    "生成器表达式\n",
    "\n",
    "另一种更简洁构造生成器的方法，类似于列表、字典、集合推导式的生成器。\n",
    "\n",
    "方法; 把列表推导式的两端方括号变为圆括号。"
   ]
  },
  {
   "cell_type": "code",
   "execution_count": 40,
   "id": "28706d49",
   "metadata": {},
   "outputs": [],
   "source": [
    "gens = (x ** 2 for x in range(10)) #见过他，没想到本质还是生成器hhhh"
   ]
  },
  {
   "cell_type": "code",
   "execution_count": 41,
   "id": "06331743",
   "metadata": {},
   "outputs": [
    {
     "data": {
      "text/plain": [
       "<generator object <genexpr> at 0x000002A7CF7DEF20>"
      ]
     },
     "execution_count": 41,
     "metadata": {},
     "output_type": "execute_result"
    }
   ],
   "source": [
    "gens"
   ]
  },
  {
   "cell_type": "code",
   "execution_count": 42,
   "id": "c0cc2689",
   "metadata": {},
   "outputs": [
    {
     "name": "stdout",
     "output_type": "stream",
     "text": [
      "0 1 4 9 16 25 36 49 64 81 "
     ]
    }
   ],
   "source": [
    "for x in gens:\n",
    "    print(x,end=' ')"
   ]
  },
  {
   "cell_type": "code",
   "execution_count": 43,
   "id": "189f5b9e",
   "metadata": {},
   "outputs": [],
   "source": [
    "#上面这个例子实际上等价于：\n",
    "\n",
    "def _make_gen():\n",
    "    for x in range(100):\n",
    "        yield x**2\n",
    "        \n",
    "gens = _make_gen()"
   ]
  },
  {
   "cell_type": "code",
   "execution_count": 44,
   "id": "cbc28b16",
   "metadata": {},
   "outputs": [
    {
     "data": {
      "text/plain": [
       "<generator object _make_gen at 0x000002A7CF7E5350>"
      ]
     },
     "execution_count": 44,
     "metadata": {},
     "output_type": "execute_result"
    }
   ],
   "source": [
    "gens"
   ]
  },
  {
   "cell_type": "markdown",
   "id": "190ca1e7",
   "metadata": {},
   "source": [
    "生成器表达式也可以取代列表推导式作为函数参数："
   ]
  },
  {
   "cell_type": "code",
   "execution_count": 45,
   "id": "62779503",
   "metadata": {},
   "outputs": [
    {
     "data": {
      "text/plain": [
       "285"
      ]
     },
     "execution_count": 45,
     "metadata": {},
     "output_type": "execute_result"
    }
   ],
   "source": [
    "sum(x ** 2 for x in range(10))"
   ]
  },
  {
   "cell_type": "code",
   "execution_count": 46,
   "id": "10abaf93",
   "metadata": {},
   "outputs": [
    {
     "data": {
      "text/plain": [
       "{0: 0, 1: 1, 2: 4, 3: 9, 4: 16}"
      ]
     },
     "execution_count": 46,
     "metadata": {},
     "output_type": "execute_result"
    }
   ],
   "source": [
    "dict((i,i**2) for i in range(5))"
   ]
  },
  {
   "cell_type": "markdown",
   "id": "324a405f",
   "metadata": {},
   "source": [
    "介绍了一个模块：itertools\n",
    "\n",
    "有一组用于许多常见数据算法的生成器，如groupby.\n",
    "它可以接受任何序列和函数，根据函数的返回值对序列的连续元素进行分组。"
   ]
  },
  {
   "cell_type": "code",
   "execution_count": null,
   "id": "1dfcb875",
   "metadata": {},
   "outputs": [],
   "source": []
  }
 ],
 "metadata": {
  "kernelspec": {
   "display_name": "Python 3",
   "language": "python",
   "name": "python3"
  },
  "language_info": {
   "codemirror_mode": {
    "name": "ipython",
    "version": 3
   },
   "file_extension": ".py",
   "mimetype": "text/x-python",
   "name": "python",
   "nbconvert_exporter": "python",
   "pygments_lexer": "ipython3",
   "version": "3.8.8"
  }
 },
 "nbformat": 4,
 "nbformat_minor": 5
}
