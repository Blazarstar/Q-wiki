{
 "cells": [
  {
   "cell_type": "markdown",
   "id": "c8541336",
   "metadata": {},
   "source": [
    "### 函数 - 01\n"
   ]
  },
  {
   "cell_type": "markdown",
   "id": "0fa59ad6",
   "metadata": {},
   "source": [
    "* re 模块： 帮助建立格式统一的字符串，如去除空白符，删除标点，大小写等。"
   ]
  },
  {
   "cell_type": "code",
   "execution_count": 5,
   "id": "40176acb",
   "metadata": {},
   "outputs": [],
   "source": [
    "import re \n",
    "\n",
    "def clean_strings(strings):\n",
    "    result = []\n",
    "    for value in strings:\n",
    "        value = value.strip()\n",
    "        value = re.sub('[!#?]','',value)\n",
    "        value = value.title()\n",
    "        result.append(value)\n",
    "    return result"
   ]
  },
  {
   "cell_type": "code",
   "execution_count": 8,
   "id": "eba5ab89",
   "metadata": {},
   "outputs": [
    {
     "data": {
      "text/plain": [
       "['Alabama', 'Georgia', 'South  Car']"
      ]
     },
     "execution_count": 8,
     "metadata": {},
     "output_type": "execute_result"
    }
   ],
   "source": [
    "states = ['    Alabama   ','Georgia!','south  car###']\n",
    "clean_strings(states)"
   ]
  },
  {
   "cell_type": "code",
   "execution_count": 7,
   "id": "5530c8f3",
   "metadata": {},
   "outputs": [
    {
     "data": {
      "text/plain": [
       "['Alabama', 'Georgia', 'South  Car']"
      ]
     },
     "execution_count": 7,
     "metadata": {},
     "output_type": "execute_result"
    }
   ],
   "source": [
    "states = ['    Alabama   ','Georgia!','south  car###']\n",
    "clean_strings(states)"
   ]
  },
  {
   "cell_type": "markdown",
   "id": "7a35cd92",
   "metadata": {},
   "source": [
    "第二种写法：把需要在给定字符串上执行的所有运算做成一个列表"
   ]
  },
  {
   "cell_type": "code",
   "execution_count": 11,
   "id": "2b21cd91",
   "metadata": {},
   "outputs": [
    {
     "data": {
      "text/plain": [
       "['Alabama', 'Georgia', 'South  Car']"
      ]
     },
     "execution_count": 11,
     "metadata": {},
     "output_type": "execute_result"
    }
   ],
   "source": [
    "def remove_punctuation(value):\n",
    "    return re.sub('[!#?]','',value)\n",
    "\n",
    "# clean_ops = [str.strip,remove_punctuation,str.title]\n",
    "\n",
    "def clean_strings(strings,ops):\n",
    "    result = []\n",
    "    for value in strings:\n",
    "        for function in ops:\n",
    "            value = function(value)\n",
    "        result.append(value)\n",
    "    return result\n",
    "\n",
    "clean_ops = [str.strip,remove_punctuation,str.title]\n",
    "states = ['    Alabama   ','Georgia!','south  car###']\n",
    "clean_strings(states,clean_ops)\n"
   ]
  },
  {
   "cell_type": "code",
   "execution_count": null,
   "id": "937603db",
   "metadata": {},
   "outputs": [],
   "source": [
    "总结： 多函数模式可以在另一个层面上轻松修改字符串的转换方式，更具可复用性。"
   ]
  },
  {
   "cell_type": "code",
   "execution_count": null,
   "id": "a7d6ab5e",
   "metadata": {},
   "outputs": [],
   "source": []
  }
 ],
 "metadata": {
  "kernelspec": {
   "display_name": "Python 3",
   "language": "python",
   "name": "python3"
  },
  "language_info": {
   "codemirror_mode": {
    "name": "ipython",
    "version": 3
   },
   "file_extension": ".py",
   "mimetype": "text/x-python",
   "name": "python",
   "nbconvert_exporter": "python",
   "pygments_lexer": "ipython3",
   "version": "3.8.8"
  }
 },
 "nbformat": 4,
 "nbformat_minor": 5
}
